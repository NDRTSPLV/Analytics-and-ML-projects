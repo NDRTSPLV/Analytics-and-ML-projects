{
 "cells": [
  {
   "cell_type": "markdown",
   "metadata": {
    "toc": true
   },
   "source": [
    "<h1>Содержание<span class=\"tocSkip\"></span></h1>\n",
    "<div class=\"toc\"><ul class=\"toc-item\"><li><span><a href=\"#Подготовка-данных\" data-toc-modified-id=\"Подготовка-данных-1\"><span class=\"toc-item-num\">1&nbsp;&nbsp;</span>Подготовка данных</a></span></li><li><span><a href=\"#Исследование-задачи\" data-toc-modified-id=\"Исследование-задачи-2\"><span class=\"toc-item-num\">2&nbsp;&nbsp;</span>Исследование задачи</a></span></li><li><span><a href=\"#Борьба-с-дисбалансом\" data-toc-modified-id=\"Борьба-с-дисбалансом-3\"><span class=\"toc-item-num\">3&nbsp;&nbsp;</span>Борьба с дисбалансом</a></span><ul class=\"toc-item\"><li><span><a href=\"#Борьба-с-дисбалансом-с-помощью-upsampling\" data-toc-modified-id=\"Борьба-с-дисбалансом-с-помощью-upsampling-3.1\"><span class=\"toc-item-num\">3.1&nbsp;&nbsp;</span>Борьба с дисбалансом с помощью upsampling</a></span></li><li><span><a href=\"#Борьба-с-дисбалансом-с-помощью-downsampling\" data-toc-modified-id=\"Борьба-с-дисбалансом-с-помощью-downsampling-3.2\"><span class=\"toc-item-num\">3.2&nbsp;&nbsp;</span>Борьба с дисбалансом с помощью downsampling</a></span></li><li><span><a href=\"#Метод-Взвешивания-классов\" data-toc-modified-id=\"Метод-Взвешивания-классов-3.3\"><span class=\"toc-item-num\">3.3&nbsp;&nbsp;</span>Метод Взвешивания классов</a></span></li></ul></li><li><span><a href=\"#Тестирование-модели\" data-toc-modified-id=\"Тестирование-модели-4\"><span class=\"toc-item-num\">4&nbsp;&nbsp;</span>Тестирование модели</a></span></li><li><span><a href=\"#Вывод\" data-toc-modified-id=\"Вывод-5\"><span class=\"toc-item-num\">5&nbsp;&nbsp;</span>Вывод</a></span></li></ul></div>"
   ]
  },
  {
   "cell_type": "markdown",
   "metadata": {},
   "source": [
    "# Отток клиентов"
   ]
  },
  {
   "cell_type": "markdown",
   "metadata": {},
   "source": [
    "Из «Бета-Банка» стали уходить клиенты. Каждый месяц. Немного, но заметно. Банковские маркетологи посчитали: сохранять текущих клиентов дешевле, чем привлекать новых.\n",
    "\n",
    "Нужно спрогнозировать, уйдёт клиент из банка в ближайшее время или нет. Нам предоставлены исторические данные о поведении клиентов и расторжении договоров с банком.\n",
    "\n",
    "Источник данных: [https://www.kaggle.com/barelydedicated/bank-customer-churn-modeling](https://www.kaggle.com/barelydedicated/bank-customer-churn-modeling)"
   ]
  },
  {
   "cell_type": "markdown",
   "metadata": {},
   "source": [
    "## Подготовка данных"
   ]
  },
  {
   "cell_type": "markdown",
   "metadata": {},
   "source": [
    "Импортируем необходимые библеоткеи и откроем файл."
   ]
  },
  {
   "cell_type": "code",
   "execution_count": 1,
   "metadata": {},
   "outputs": [],
   "source": [
    "import matplotlib.pyplot as plt\n",
    "import pandas as pd\n",
    "import numpy as np\n",
    "import warnings\n",
    "\n",
    "from sklearn.linear_model import LogisticRegression\n",
    "from sklearn.ensemble import RandomForestClassifier\n",
    "from sklearn.tree import DecisionTreeClassifier\n",
    "from sklearn.utils import shuffle\n",
    "from sklearn.dummy import DummyClassifier\n",
    "from sklearn.model_selection import (\n",
    "    train_test_split,\n",
    "    RandomizedSearchCV\n",
    ")\n",
    "from sklearn.metrics import (\n",
    "    f1_score, roc_curve, \n",
    "    accuracy_score, \n",
    "    roc_auc_score, \n",
    "    r2_score\n",
    ")\n",
    "from sklearn.preprocessing import (\n",
    "    OrdinalEncoder, \n",
    "    StandardScaler\n",
    ")\n",
    "\n",
    "warnings.filterwarnings(\"ignore\")"
   ]
  },
  {
   "cell_type": "markdown",
   "metadata": {},
   "source": [
    "Загрузим наши данные и изучим их."
   ]
  },
  {
   "cell_type": "code",
   "execution_count": 2,
   "metadata": {},
   "outputs": [],
   "source": [
    "try:\n",
    "    data = pd.read_csv('Churn.csv')\n",
    "except:\n",
    "    data = pd.read_csv('/datasets/Churn.csv')"
   ]
  },
  {
   "cell_type": "code",
   "execution_count": 3,
   "metadata": {},
   "outputs": [
    {
     "data": {
      "text/html": [
       "<div>\n",
       "<style scoped>\n",
       "    .dataframe tbody tr th:only-of-type {\n",
       "        vertical-align: middle;\n",
       "    }\n",
       "\n",
       "    .dataframe tbody tr th {\n",
       "        vertical-align: top;\n",
       "    }\n",
       "\n",
       "    .dataframe thead th {\n",
       "        text-align: right;\n",
       "    }\n",
       "</style>\n",
       "<table border=\"1\" class=\"dataframe\">\n",
       "  <thead>\n",
       "    <tr style=\"text-align: right;\">\n",
       "      <th></th>\n",
       "      <th>RowNumber</th>\n",
       "      <th>CustomerId</th>\n",
       "      <th>Surname</th>\n",
       "      <th>CreditScore</th>\n",
       "      <th>Geography</th>\n",
       "      <th>Gender</th>\n",
       "      <th>Age</th>\n",
       "      <th>Tenure</th>\n",
       "      <th>Balance</th>\n",
       "      <th>NumOfProducts</th>\n",
       "      <th>HasCrCard</th>\n",
       "      <th>IsActiveMember</th>\n",
       "      <th>EstimatedSalary</th>\n",
       "      <th>Exited</th>\n",
       "    </tr>\n",
       "  </thead>\n",
       "  <tbody>\n",
       "    <tr>\n",
       "      <th>0</th>\n",
       "      <td>1</td>\n",
       "      <td>15634602</td>\n",
       "      <td>Hargrave</td>\n",
       "      <td>619</td>\n",
       "      <td>France</td>\n",
       "      <td>Female</td>\n",
       "      <td>42</td>\n",
       "      <td>2.0</td>\n",
       "      <td>0.00</td>\n",
       "      <td>1</td>\n",
       "      <td>1</td>\n",
       "      <td>1</td>\n",
       "      <td>101348.88</td>\n",
       "      <td>1</td>\n",
       "    </tr>\n",
       "    <tr>\n",
       "      <th>1</th>\n",
       "      <td>2</td>\n",
       "      <td>15647311</td>\n",
       "      <td>Hill</td>\n",
       "      <td>608</td>\n",
       "      <td>Spain</td>\n",
       "      <td>Female</td>\n",
       "      <td>41</td>\n",
       "      <td>1.0</td>\n",
       "      <td>83807.86</td>\n",
       "      <td>1</td>\n",
       "      <td>0</td>\n",
       "      <td>1</td>\n",
       "      <td>112542.58</td>\n",
       "      <td>0</td>\n",
       "    </tr>\n",
       "    <tr>\n",
       "      <th>2</th>\n",
       "      <td>3</td>\n",
       "      <td>15619304</td>\n",
       "      <td>Onio</td>\n",
       "      <td>502</td>\n",
       "      <td>France</td>\n",
       "      <td>Female</td>\n",
       "      <td>42</td>\n",
       "      <td>8.0</td>\n",
       "      <td>159660.80</td>\n",
       "      <td>3</td>\n",
       "      <td>1</td>\n",
       "      <td>0</td>\n",
       "      <td>113931.57</td>\n",
       "      <td>1</td>\n",
       "    </tr>\n",
       "    <tr>\n",
       "      <th>3</th>\n",
       "      <td>4</td>\n",
       "      <td>15701354</td>\n",
       "      <td>Boni</td>\n",
       "      <td>699</td>\n",
       "      <td>France</td>\n",
       "      <td>Female</td>\n",
       "      <td>39</td>\n",
       "      <td>1.0</td>\n",
       "      <td>0.00</td>\n",
       "      <td>2</td>\n",
       "      <td>0</td>\n",
       "      <td>0</td>\n",
       "      <td>93826.63</td>\n",
       "      <td>0</td>\n",
       "    </tr>\n",
       "    <tr>\n",
       "      <th>4</th>\n",
       "      <td>5</td>\n",
       "      <td>15737888</td>\n",
       "      <td>Mitchell</td>\n",
       "      <td>850</td>\n",
       "      <td>Spain</td>\n",
       "      <td>Female</td>\n",
       "      <td>43</td>\n",
       "      <td>2.0</td>\n",
       "      <td>125510.82</td>\n",
       "      <td>1</td>\n",
       "      <td>1</td>\n",
       "      <td>1</td>\n",
       "      <td>79084.10</td>\n",
       "      <td>0</td>\n",
       "    </tr>\n",
       "  </tbody>\n",
       "</table>\n",
       "</div>"
      ],
      "text/plain": [
       "   RowNumber  CustomerId   Surname  CreditScore Geography  Gender  Age  \\\n",
       "0          1    15634602  Hargrave          619    France  Female   42   \n",
       "1          2    15647311      Hill          608     Spain  Female   41   \n",
       "2          3    15619304      Onio          502    France  Female   42   \n",
       "3          4    15701354      Boni          699    France  Female   39   \n",
       "4          5    15737888  Mitchell          850     Spain  Female   43   \n",
       "\n",
       "   Tenure    Balance  NumOfProducts  HasCrCard  IsActiveMember  \\\n",
       "0     2.0       0.00              1          1               1   \n",
       "1     1.0   83807.86              1          0               1   \n",
       "2     8.0  159660.80              3          1               0   \n",
       "3     1.0       0.00              2          0               0   \n",
       "4     2.0  125510.82              1          1               1   \n",
       "\n",
       "   EstimatedSalary  Exited  \n",
       "0        101348.88       1  \n",
       "1        112542.58       0  \n",
       "2        113931.57       1  \n",
       "3         93826.63       0  \n",
       "4         79084.10       0  "
      ]
     },
     "execution_count": 3,
     "metadata": {},
     "output_type": "execute_result"
    }
   ],
   "source": [
    "data.head()"
   ]
  },
  {
   "cell_type": "code",
   "execution_count": 4,
   "metadata": {},
   "outputs": [
    {
     "name": "stdout",
     "output_type": "stream",
     "text": [
      "<class 'pandas.core.frame.DataFrame'>\n",
      "RangeIndex: 10000 entries, 0 to 9999\n",
      "Data columns (total 14 columns):\n",
      " #   Column           Non-Null Count  Dtype  \n",
      "---  ------           --------------  -----  \n",
      " 0   RowNumber        10000 non-null  int64  \n",
      " 1   CustomerId       10000 non-null  int64  \n",
      " 2   Surname          10000 non-null  object \n",
      " 3   CreditScore      10000 non-null  int64  \n",
      " 4   Geography        10000 non-null  object \n",
      " 5   Gender           10000 non-null  object \n",
      " 6   Age              10000 non-null  int64  \n",
      " 7   Tenure           9091 non-null   float64\n",
      " 8   Balance          10000 non-null  float64\n",
      " 9   NumOfProducts    10000 non-null  int64  \n",
      " 10  HasCrCard        10000 non-null  int64  \n",
      " 11  IsActiveMember   10000 non-null  int64  \n",
      " 12  EstimatedSalary  10000 non-null  float64\n",
      " 13  Exited           10000 non-null  int64  \n",
      "dtypes: float64(3), int64(8), object(3)\n",
      "memory usage: 1.1+ MB\n"
     ]
    }
   ],
   "source": [
    "data.info()"
   ]
  },
  {
   "cell_type": "markdown",
   "metadata": {},
   "source": [
    "В нашем датасете содержится 10000 строк различных типов. Столбцы \"Surname\", \"Geography\", \"Gender\" являются типом - object. Поэтому для решения задачи классификации эти данные необходимо будет преобразовать в подходящий тип или вовсе исключить. Так же в столбце \"Tenure\" мы видим, что у нас имеется определенное количество проупсков, которые необходимо обработать."
   ]
  },
  {
   "cell_type": "code",
   "execution_count": 5,
   "metadata": {},
   "outputs": [
    {
     "data": {
      "text/html": [
       "<style  type=\"text/css\" >\n",
       "#T_25a9c_row0_col0,#T_25a9c_row1_col0,#T_25a9c_row2_col0,#T_25a9c_row3_col0,#T_25a9c_row4_col0,#T_25a9c_row5_col0,#T_25a9c_row6_col0,#T_25a9c_row8_col0,#T_25a9c_row9_col0,#T_25a9c_row10_col0,#T_25a9c_row11_col0,#T_25a9c_row12_col0,#T_25a9c_row13_col0{\n",
       "            background-color:  #3b4cc0;\n",
       "            color:  #f1f1f1;\n",
       "        }#T_25a9c_row7_col0{\n",
       "            background-color:  #b40426;\n",
       "            color:  #f1f1f1;\n",
       "        }</style><table id=\"T_25a9c_\" ><thead>    <tr>        <th class=\"blank level0\" ></th>        <th class=\"col_heading level0 col0\" >0</th>    </tr></thead><tbody>\n",
       "                <tr>\n",
       "                        <th id=\"T_25a9c_level0_row0\" class=\"row_heading level0 row0\" >RowNumber</th>\n",
       "                        <td id=\"T_25a9c_row0_col0\" class=\"data row0 col0\" >0.0</td>\n",
       "            </tr>\n",
       "            <tr>\n",
       "                        <th id=\"T_25a9c_level0_row1\" class=\"row_heading level0 row1\" >CustomerId</th>\n",
       "                        <td id=\"T_25a9c_row1_col0\" class=\"data row1 col0\" >0.0</td>\n",
       "            </tr>\n",
       "            <tr>\n",
       "                        <th id=\"T_25a9c_level0_row2\" class=\"row_heading level0 row2\" >Surname</th>\n",
       "                        <td id=\"T_25a9c_row2_col0\" class=\"data row2 col0\" >0.0</td>\n",
       "            </tr>\n",
       "            <tr>\n",
       "                        <th id=\"T_25a9c_level0_row3\" class=\"row_heading level0 row3\" >CreditScore</th>\n",
       "                        <td id=\"T_25a9c_row3_col0\" class=\"data row3 col0\" >0.0</td>\n",
       "            </tr>\n",
       "            <tr>\n",
       "                        <th id=\"T_25a9c_level0_row4\" class=\"row_heading level0 row4\" >Geography</th>\n",
       "                        <td id=\"T_25a9c_row4_col0\" class=\"data row4 col0\" >0.0</td>\n",
       "            </tr>\n",
       "            <tr>\n",
       "                        <th id=\"T_25a9c_level0_row5\" class=\"row_heading level0 row5\" >Gender</th>\n",
       "                        <td id=\"T_25a9c_row5_col0\" class=\"data row5 col0\" >0.0</td>\n",
       "            </tr>\n",
       "            <tr>\n",
       "                        <th id=\"T_25a9c_level0_row6\" class=\"row_heading level0 row6\" >Age</th>\n",
       "                        <td id=\"T_25a9c_row6_col0\" class=\"data row6 col0\" >0.0</td>\n",
       "            </tr>\n",
       "            <tr>\n",
       "                        <th id=\"T_25a9c_level0_row7\" class=\"row_heading level0 row7\" >Tenure</th>\n",
       "                        <td id=\"T_25a9c_row7_col0\" class=\"data row7 col0\" >9.1</td>\n",
       "            </tr>\n",
       "            <tr>\n",
       "                        <th id=\"T_25a9c_level0_row8\" class=\"row_heading level0 row8\" >Balance</th>\n",
       "                        <td id=\"T_25a9c_row8_col0\" class=\"data row8 col0\" >0.0</td>\n",
       "            </tr>\n",
       "            <tr>\n",
       "                        <th id=\"T_25a9c_level0_row9\" class=\"row_heading level0 row9\" >NumOfProducts</th>\n",
       "                        <td id=\"T_25a9c_row9_col0\" class=\"data row9 col0\" >0.0</td>\n",
       "            </tr>\n",
       "            <tr>\n",
       "                        <th id=\"T_25a9c_level0_row10\" class=\"row_heading level0 row10\" >HasCrCard</th>\n",
       "                        <td id=\"T_25a9c_row10_col0\" class=\"data row10 col0\" >0.0</td>\n",
       "            </tr>\n",
       "            <tr>\n",
       "                        <th id=\"T_25a9c_level0_row11\" class=\"row_heading level0 row11\" >IsActiveMember</th>\n",
       "                        <td id=\"T_25a9c_row11_col0\" class=\"data row11 col0\" >0.0</td>\n",
       "            </tr>\n",
       "            <tr>\n",
       "                        <th id=\"T_25a9c_level0_row12\" class=\"row_heading level0 row12\" >EstimatedSalary</th>\n",
       "                        <td id=\"T_25a9c_row12_col0\" class=\"data row12 col0\" >0.0</td>\n",
       "            </tr>\n",
       "            <tr>\n",
       "                        <th id=\"T_25a9c_level0_row13\" class=\"row_heading level0 row13\" >Exited</th>\n",
       "                        <td id=\"T_25a9c_row13_col0\" class=\"data row13 col0\" >0.0</td>\n",
       "            </tr>\n",
       "    </tbody></table>"
      ],
      "text/plain": [
       "<pandas.io.formats.style.Styler at 0x228b4afe640>"
      ]
     },
     "execution_count": 5,
     "metadata": {},
     "output_type": "execute_result"
    }
   ],
   "source": [
    "pd.DataFrame(data.isna().mean() * 100) \\\n",
    "    .style.set_precision(1) \\\n",
    "    .background_gradient('coolwarm')\n"
   ]
  },
  {
   "cell_type": "markdown",
   "metadata": {},
   "source": [
    "Мы видим, что в столбце с количеством лет, которые человек является клиентом банка имеется 9 процентов пропусков."
   ]
  },
  {
   "cell_type": "code",
   "execution_count": 6,
   "metadata": {},
   "outputs": [
    {
     "data": {
      "text/html": [
       "<div>\n",
       "<style scoped>\n",
       "    .dataframe tbody tr th:only-of-type {\n",
       "        vertical-align: middle;\n",
       "    }\n",
       "\n",
       "    .dataframe tbody tr th {\n",
       "        vertical-align: top;\n",
       "    }\n",
       "\n",
       "    .dataframe thead th {\n",
       "        text-align: right;\n",
       "    }\n",
       "</style>\n",
       "<table border=\"1\" class=\"dataframe\">\n",
       "  <thead>\n",
       "    <tr style=\"text-align: right;\">\n",
       "      <th></th>\n",
       "      <th>RowNumber</th>\n",
       "      <th>CustomerId</th>\n",
       "      <th>Surname</th>\n",
       "      <th>CreditScore</th>\n",
       "      <th>Geography</th>\n",
       "      <th>Gender</th>\n",
       "      <th>Age</th>\n",
       "      <th>Tenure</th>\n",
       "      <th>Balance</th>\n",
       "      <th>NumOfProducts</th>\n",
       "      <th>HasCrCard</th>\n",
       "      <th>IsActiveMember</th>\n",
       "      <th>EstimatedSalary</th>\n",
       "      <th>Exited</th>\n",
       "    </tr>\n",
       "  </thead>\n",
       "  <tbody>\n",
       "    <tr>\n",
       "      <th>30</th>\n",
       "      <td>31</td>\n",
       "      <td>15589475</td>\n",
       "      <td>Azikiwe</td>\n",
       "      <td>591</td>\n",
       "      <td>Spain</td>\n",
       "      <td>Female</td>\n",
       "      <td>39</td>\n",
       "      <td>NaN</td>\n",
       "      <td>0.00</td>\n",
       "      <td>3</td>\n",
       "      <td>1</td>\n",
       "      <td>0</td>\n",
       "      <td>140469.38</td>\n",
       "      <td>1</td>\n",
       "    </tr>\n",
       "    <tr>\n",
       "      <th>48</th>\n",
       "      <td>49</td>\n",
       "      <td>15766205</td>\n",
       "      <td>Yin</td>\n",
       "      <td>550</td>\n",
       "      <td>Germany</td>\n",
       "      <td>Male</td>\n",
       "      <td>38</td>\n",
       "      <td>NaN</td>\n",
       "      <td>103391.38</td>\n",
       "      <td>1</td>\n",
       "      <td>0</td>\n",
       "      <td>1</td>\n",
       "      <td>90878.13</td>\n",
       "      <td>0</td>\n",
       "    </tr>\n",
       "    <tr>\n",
       "      <th>51</th>\n",
       "      <td>52</td>\n",
       "      <td>15768193</td>\n",
       "      <td>Trevisani</td>\n",
       "      <td>585</td>\n",
       "      <td>Germany</td>\n",
       "      <td>Male</td>\n",
       "      <td>36</td>\n",
       "      <td>NaN</td>\n",
       "      <td>146050.97</td>\n",
       "      <td>2</td>\n",
       "      <td>0</td>\n",
       "      <td>0</td>\n",
       "      <td>86424.57</td>\n",
       "      <td>0</td>\n",
       "    </tr>\n",
       "    <tr>\n",
       "      <th>53</th>\n",
       "      <td>54</td>\n",
       "      <td>15702298</td>\n",
       "      <td>Parkhill</td>\n",
       "      <td>655</td>\n",
       "      <td>Germany</td>\n",
       "      <td>Male</td>\n",
       "      <td>41</td>\n",
       "      <td>NaN</td>\n",
       "      <td>125561.97</td>\n",
       "      <td>1</td>\n",
       "      <td>0</td>\n",
       "      <td>0</td>\n",
       "      <td>164040.94</td>\n",
       "      <td>1</td>\n",
       "    </tr>\n",
       "    <tr>\n",
       "      <th>60</th>\n",
       "      <td>61</td>\n",
       "      <td>15651280</td>\n",
       "      <td>Hunter</td>\n",
       "      <td>742</td>\n",
       "      <td>Germany</td>\n",
       "      <td>Male</td>\n",
       "      <td>35</td>\n",
       "      <td>NaN</td>\n",
       "      <td>136857.00</td>\n",
       "      <td>1</td>\n",
       "      <td>0</td>\n",
       "      <td>0</td>\n",
       "      <td>84509.57</td>\n",
       "      <td>0</td>\n",
       "    </tr>\n",
       "    <tr>\n",
       "      <th>...</th>\n",
       "      <td>...</td>\n",
       "      <td>...</td>\n",
       "      <td>...</td>\n",
       "      <td>...</td>\n",
       "      <td>...</td>\n",
       "      <td>...</td>\n",
       "      <td>...</td>\n",
       "      <td>...</td>\n",
       "      <td>...</td>\n",
       "      <td>...</td>\n",
       "      <td>...</td>\n",
       "      <td>...</td>\n",
       "      <td>...</td>\n",
       "      <td>...</td>\n",
       "    </tr>\n",
       "    <tr>\n",
       "      <th>9944</th>\n",
       "      <td>9945</td>\n",
       "      <td>15703923</td>\n",
       "      <td>Cameron</td>\n",
       "      <td>744</td>\n",
       "      <td>Germany</td>\n",
       "      <td>Male</td>\n",
       "      <td>41</td>\n",
       "      <td>NaN</td>\n",
       "      <td>190409.34</td>\n",
       "      <td>2</td>\n",
       "      <td>1</td>\n",
       "      <td>1</td>\n",
       "      <td>138361.48</td>\n",
       "      <td>0</td>\n",
       "    </tr>\n",
       "    <tr>\n",
       "      <th>9956</th>\n",
       "      <td>9957</td>\n",
       "      <td>15707861</td>\n",
       "      <td>Nucci</td>\n",
       "      <td>520</td>\n",
       "      <td>France</td>\n",
       "      <td>Female</td>\n",
       "      <td>46</td>\n",
       "      <td>NaN</td>\n",
       "      <td>85216.61</td>\n",
       "      <td>1</td>\n",
       "      <td>1</td>\n",
       "      <td>0</td>\n",
       "      <td>117369.52</td>\n",
       "      <td>1</td>\n",
       "    </tr>\n",
       "    <tr>\n",
       "      <th>9964</th>\n",
       "      <td>9965</td>\n",
       "      <td>15642785</td>\n",
       "      <td>Douglas</td>\n",
       "      <td>479</td>\n",
       "      <td>France</td>\n",
       "      <td>Male</td>\n",
       "      <td>34</td>\n",
       "      <td>NaN</td>\n",
       "      <td>117593.48</td>\n",
       "      <td>2</td>\n",
       "      <td>0</td>\n",
       "      <td>0</td>\n",
       "      <td>113308.29</td>\n",
       "      <td>0</td>\n",
       "    </tr>\n",
       "    <tr>\n",
       "      <th>9985</th>\n",
       "      <td>9986</td>\n",
       "      <td>15586914</td>\n",
       "      <td>Nepean</td>\n",
       "      <td>659</td>\n",
       "      <td>France</td>\n",
       "      <td>Male</td>\n",
       "      <td>36</td>\n",
       "      <td>NaN</td>\n",
       "      <td>123841.49</td>\n",
       "      <td>2</td>\n",
       "      <td>1</td>\n",
       "      <td>0</td>\n",
       "      <td>96833.00</td>\n",
       "      <td>0</td>\n",
       "    </tr>\n",
       "    <tr>\n",
       "      <th>9999</th>\n",
       "      <td>10000</td>\n",
       "      <td>15628319</td>\n",
       "      <td>Walker</td>\n",
       "      <td>792</td>\n",
       "      <td>France</td>\n",
       "      <td>Female</td>\n",
       "      <td>28</td>\n",
       "      <td>NaN</td>\n",
       "      <td>130142.79</td>\n",
       "      <td>1</td>\n",
       "      <td>1</td>\n",
       "      <td>0</td>\n",
       "      <td>38190.78</td>\n",
       "      <td>0</td>\n",
       "    </tr>\n",
       "  </tbody>\n",
       "</table>\n",
       "<p>909 rows × 14 columns</p>\n",
       "</div>"
      ],
      "text/plain": [
       "      RowNumber  CustomerId    Surname  CreditScore Geography  Gender  Age  \\\n",
       "30           31    15589475    Azikiwe          591     Spain  Female   39   \n",
       "48           49    15766205        Yin          550   Germany    Male   38   \n",
       "51           52    15768193  Trevisani          585   Germany    Male   36   \n",
       "53           54    15702298   Parkhill          655   Germany    Male   41   \n",
       "60           61    15651280     Hunter          742   Germany    Male   35   \n",
       "...         ...         ...        ...          ...       ...     ...  ...   \n",
       "9944       9945    15703923    Cameron          744   Germany    Male   41   \n",
       "9956       9957    15707861      Nucci          520    France  Female   46   \n",
       "9964       9965    15642785    Douglas          479    France    Male   34   \n",
       "9985       9986    15586914     Nepean          659    France    Male   36   \n",
       "9999      10000    15628319     Walker          792    France  Female   28   \n",
       "\n",
       "      Tenure    Balance  NumOfProducts  HasCrCard  IsActiveMember  \\\n",
       "30       NaN       0.00              3          1               0   \n",
       "48       NaN  103391.38              1          0               1   \n",
       "51       NaN  146050.97              2          0               0   \n",
       "53       NaN  125561.97              1          0               0   \n",
       "60       NaN  136857.00              1          0               0   \n",
       "...      ...        ...            ...        ...             ...   \n",
       "9944     NaN  190409.34              2          1               1   \n",
       "9956     NaN   85216.61              1          1               0   \n",
       "9964     NaN  117593.48              2          0               0   \n",
       "9985     NaN  123841.49              2          1               0   \n",
       "9999     NaN  130142.79              1          1               0   \n",
       "\n",
       "      EstimatedSalary  Exited  \n",
       "30          140469.38       1  \n",
       "48           90878.13       0  \n",
       "51           86424.57       0  \n",
       "53          164040.94       1  \n",
       "60           84509.57       0  \n",
       "...               ...     ...  \n",
       "9944        138361.48       0  \n",
       "9956        117369.52       1  \n",
       "9964        113308.29       0  \n",
       "9985         96833.00       0  \n",
       "9999         38190.78       0  \n",
       "\n",
       "[909 rows x 14 columns]"
      ]
     },
     "execution_count": 6,
     "metadata": {},
     "output_type": "execute_result"
    }
   ],
   "source": [
    "data.loc[data['Tenure'].isna()]"
   ]
  },
  {
   "cell_type": "markdown",
   "metadata": {},
   "source": [
    "Мы можем обратить внимание, что данные клиенты особо ничем не выделяются и вряд ли они являются новыми, поскольку пользуются большим количеством продуктов. Так как нам трудно определить в чем конкретно причина появления пропусков и количество пропусков всего 9 процентов, то мы просто уберем эти строки из даатасета."
   ]
  },
  {
   "cell_type": "code",
   "execution_count": 7,
   "metadata": {},
   "outputs": [
    {
     "data": {
      "text/html": [
       "<style  type=\"text/css\" >\n",
       "#T_1462d_row0_col0,#T_1462d_row1_col0,#T_1462d_row2_col0,#T_1462d_row3_col0,#T_1462d_row4_col0,#T_1462d_row5_col0,#T_1462d_row6_col0,#T_1462d_row7_col0,#T_1462d_row8_col0,#T_1462d_row9_col0,#T_1462d_row10_col0,#T_1462d_row11_col0,#T_1462d_row12_col0,#T_1462d_row13_col0{\n",
       "            background-color:  #3b4cc0;\n",
       "            color:  #f1f1f1;\n",
       "        }</style><table id=\"T_1462d_\" ><thead>    <tr>        <th class=\"blank level0\" ></th>        <th class=\"col_heading level0 col0\" >0</th>    </tr></thead><tbody>\n",
       "                <tr>\n",
       "                        <th id=\"T_1462d_level0_row0\" class=\"row_heading level0 row0\" >RowNumber</th>\n",
       "                        <td id=\"T_1462d_row0_col0\" class=\"data row0 col0\" >0.0</td>\n",
       "            </tr>\n",
       "            <tr>\n",
       "                        <th id=\"T_1462d_level0_row1\" class=\"row_heading level0 row1\" >CustomerId</th>\n",
       "                        <td id=\"T_1462d_row1_col0\" class=\"data row1 col0\" >0.0</td>\n",
       "            </tr>\n",
       "            <tr>\n",
       "                        <th id=\"T_1462d_level0_row2\" class=\"row_heading level0 row2\" >Surname</th>\n",
       "                        <td id=\"T_1462d_row2_col0\" class=\"data row2 col0\" >0.0</td>\n",
       "            </tr>\n",
       "            <tr>\n",
       "                        <th id=\"T_1462d_level0_row3\" class=\"row_heading level0 row3\" >CreditScore</th>\n",
       "                        <td id=\"T_1462d_row3_col0\" class=\"data row3 col0\" >0.0</td>\n",
       "            </tr>\n",
       "            <tr>\n",
       "                        <th id=\"T_1462d_level0_row4\" class=\"row_heading level0 row4\" >Geography</th>\n",
       "                        <td id=\"T_1462d_row4_col0\" class=\"data row4 col0\" >0.0</td>\n",
       "            </tr>\n",
       "            <tr>\n",
       "                        <th id=\"T_1462d_level0_row5\" class=\"row_heading level0 row5\" >Gender</th>\n",
       "                        <td id=\"T_1462d_row5_col0\" class=\"data row5 col0\" >0.0</td>\n",
       "            </tr>\n",
       "            <tr>\n",
       "                        <th id=\"T_1462d_level0_row6\" class=\"row_heading level0 row6\" >Age</th>\n",
       "                        <td id=\"T_1462d_row6_col0\" class=\"data row6 col0\" >0.0</td>\n",
       "            </tr>\n",
       "            <tr>\n",
       "                        <th id=\"T_1462d_level0_row7\" class=\"row_heading level0 row7\" >Tenure</th>\n",
       "                        <td id=\"T_1462d_row7_col0\" class=\"data row7 col0\" >0.0</td>\n",
       "            </tr>\n",
       "            <tr>\n",
       "                        <th id=\"T_1462d_level0_row8\" class=\"row_heading level0 row8\" >Balance</th>\n",
       "                        <td id=\"T_1462d_row8_col0\" class=\"data row8 col0\" >0.0</td>\n",
       "            </tr>\n",
       "            <tr>\n",
       "                        <th id=\"T_1462d_level0_row9\" class=\"row_heading level0 row9\" >NumOfProducts</th>\n",
       "                        <td id=\"T_1462d_row9_col0\" class=\"data row9 col0\" >0.0</td>\n",
       "            </tr>\n",
       "            <tr>\n",
       "                        <th id=\"T_1462d_level0_row10\" class=\"row_heading level0 row10\" >HasCrCard</th>\n",
       "                        <td id=\"T_1462d_row10_col0\" class=\"data row10 col0\" >0.0</td>\n",
       "            </tr>\n",
       "            <tr>\n",
       "                        <th id=\"T_1462d_level0_row11\" class=\"row_heading level0 row11\" >IsActiveMember</th>\n",
       "                        <td id=\"T_1462d_row11_col0\" class=\"data row11 col0\" >0.0</td>\n",
       "            </tr>\n",
       "            <tr>\n",
       "                        <th id=\"T_1462d_level0_row12\" class=\"row_heading level0 row12\" >EstimatedSalary</th>\n",
       "                        <td id=\"T_1462d_row12_col0\" class=\"data row12 col0\" >0.0</td>\n",
       "            </tr>\n",
       "            <tr>\n",
       "                        <th id=\"T_1462d_level0_row13\" class=\"row_heading level0 row13\" >Exited</th>\n",
       "                        <td id=\"T_1462d_row13_col0\" class=\"data row13 col0\" >0.0</td>\n",
       "            </tr>\n",
       "    </tbody></table>"
      ],
      "text/plain": [
       "<pandas.io.formats.style.Styler at 0x22890e578b0>"
      ]
     },
     "execution_count": 7,
     "metadata": {},
     "output_type": "execute_result"
    }
   ],
   "source": [
    "data = data.dropna().reset_index(drop=True)\n",
    "\n",
    "pd.DataFrame(data.isna().mean() * 100) \\\n",
    "    .style.set_precision(1) \\\n",
    "    .background_gradient('coolwarm')"
   ]
  },
  {
   "cell_type": "code",
   "execution_count": 8,
   "metadata": {},
   "outputs": [
    {
     "name": "stdout",
     "output_type": "stream",
     "text": [
      "<class 'pandas.core.frame.DataFrame'>\n",
      "RangeIndex: 9091 entries, 0 to 9090\n",
      "Data columns (total 14 columns):\n",
      " #   Column           Non-Null Count  Dtype  \n",
      "---  ------           --------------  -----  \n",
      " 0   RowNumber        9091 non-null   int64  \n",
      " 1   CustomerId       9091 non-null   int64  \n",
      " 2   Surname          9091 non-null   object \n",
      " 3   CreditScore      9091 non-null   int64  \n",
      " 4   Geography        9091 non-null   object \n",
      " 5   Gender           9091 non-null   object \n",
      " 6   Age              9091 non-null   int64  \n",
      " 7   Tenure           9091 non-null   float64\n",
      " 8   Balance          9091 non-null   float64\n",
      " 9   NumOfProducts    9091 non-null   int64  \n",
      " 10  HasCrCard        9091 non-null   int64  \n",
      " 11  IsActiveMember   9091 non-null   int64  \n",
      " 12  EstimatedSalary  9091 non-null   float64\n",
      " 13  Exited           9091 non-null   int64  \n",
      "dtypes: float64(3), int64(8), object(3)\n",
      "memory usage: 994.5+ KB\n"
     ]
    }
   ],
   "source": [
    "data.info()"
   ]
  },
  {
   "cell_type": "markdown",
   "metadata": {},
   "source": [
    "Избавились от пропусков, следующим этапом будет изучение столбцов с местоположеним, географией и гендером. Столбцы с определением гендера мы сразу преобразуем с помощью метода OHE."
   ]
  },
  {
   "cell_type": "code",
   "execution_count": 9,
   "metadata": {},
   "outputs": [],
   "source": [
    "data['Gender'] = pd.get_dummies(data['Gender'], drop_first=True)\n",
    "data['Geography'] = pd.get_dummies(data['Geography'], drop_first=True)"
   ]
  },
  {
   "cell_type": "markdown",
   "metadata": {},
   "source": [
    "Следующим этапом мы скорее всего уберем из нашего столбца фамилии, а так же личный номер клиента банка. Поскольку вряд ли эти данные будут как-то влиять на то уйдет этот клиент или же нет. Столбцы с местоположением мы преобразуем с помощью метода OrdinalEncoder поскольку этих данных у нас слишком много и нет смысла множить столбцы с помощью метода OHE."
   ]
  },
  {
   "cell_type": "code",
   "execution_count": 10,
   "metadata": {},
   "outputs": [
    {
     "data": {
      "text/html": [
       "<div>\n",
       "<style scoped>\n",
       "    .dataframe tbody tr th:only-of-type {\n",
       "        vertical-align: middle;\n",
       "    }\n",
       "\n",
       "    .dataframe tbody tr th {\n",
       "        vertical-align: top;\n",
       "    }\n",
       "\n",
       "    .dataframe thead th {\n",
       "        text-align: right;\n",
       "    }\n",
       "</style>\n",
       "<table border=\"1\" class=\"dataframe\">\n",
       "  <thead>\n",
       "    <tr style=\"text-align: right;\">\n",
       "      <th></th>\n",
       "      <th>CreditScore</th>\n",
       "      <th>Geography</th>\n",
       "      <th>Gender</th>\n",
       "      <th>Age</th>\n",
       "      <th>Tenure</th>\n",
       "      <th>Balance</th>\n",
       "      <th>NumOfProducts</th>\n",
       "      <th>HasCrCard</th>\n",
       "      <th>IsActiveMember</th>\n",
       "      <th>EstimatedSalary</th>\n",
       "      <th>Exited</th>\n",
       "    </tr>\n",
       "  </thead>\n",
       "  <tbody>\n",
       "    <tr>\n",
       "      <th>0</th>\n",
       "      <td>619</td>\n",
       "      <td>0</td>\n",
       "      <td>0</td>\n",
       "      <td>42</td>\n",
       "      <td>2.0</td>\n",
       "      <td>0.00</td>\n",
       "      <td>1</td>\n",
       "      <td>1</td>\n",
       "      <td>1</td>\n",
       "      <td>101348.88</td>\n",
       "      <td>1</td>\n",
       "    </tr>\n",
       "    <tr>\n",
       "      <th>1</th>\n",
       "      <td>608</td>\n",
       "      <td>0</td>\n",
       "      <td>0</td>\n",
       "      <td>41</td>\n",
       "      <td>1.0</td>\n",
       "      <td>83807.86</td>\n",
       "      <td>1</td>\n",
       "      <td>0</td>\n",
       "      <td>1</td>\n",
       "      <td>112542.58</td>\n",
       "      <td>0</td>\n",
       "    </tr>\n",
       "    <tr>\n",
       "      <th>2</th>\n",
       "      <td>502</td>\n",
       "      <td>0</td>\n",
       "      <td>0</td>\n",
       "      <td>42</td>\n",
       "      <td>8.0</td>\n",
       "      <td>159660.80</td>\n",
       "      <td>3</td>\n",
       "      <td>1</td>\n",
       "      <td>0</td>\n",
       "      <td>113931.57</td>\n",
       "      <td>1</td>\n",
       "    </tr>\n",
       "    <tr>\n",
       "      <th>3</th>\n",
       "      <td>699</td>\n",
       "      <td>0</td>\n",
       "      <td>0</td>\n",
       "      <td>39</td>\n",
       "      <td>1.0</td>\n",
       "      <td>0.00</td>\n",
       "      <td>2</td>\n",
       "      <td>0</td>\n",
       "      <td>0</td>\n",
       "      <td>93826.63</td>\n",
       "      <td>0</td>\n",
       "    </tr>\n",
       "    <tr>\n",
       "      <th>4</th>\n",
       "      <td>850</td>\n",
       "      <td>0</td>\n",
       "      <td>0</td>\n",
       "      <td>43</td>\n",
       "      <td>2.0</td>\n",
       "      <td>125510.82</td>\n",
       "      <td>1</td>\n",
       "      <td>1</td>\n",
       "      <td>1</td>\n",
       "      <td>79084.10</td>\n",
       "      <td>0</td>\n",
       "    </tr>\n",
       "    <tr>\n",
       "      <th>...</th>\n",
       "      <td>...</td>\n",
       "      <td>...</td>\n",
       "      <td>...</td>\n",
       "      <td>...</td>\n",
       "      <td>...</td>\n",
       "      <td>...</td>\n",
       "      <td>...</td>\n",
       "      <td>...</td>\n",
       "      <td>...</td>\n",
       "      <td>...</td>\n",
       "      <td>...</td>\n",
       "    </tr>\n",
       "    <tr>\n",
       "      <th>9086</th>\n",
       "      <td>800</td>\n",
       "      <td>0</td>\n",
       "      <td>0</td>\n",
       "      <td>29</td>\n",
       "      <td>2.0</td>\n",
       "      <td>0.00</td>\n",
       "      <td>2</td>\n",
       "      <td>0</td>\n",
       "      <td>0</td>\n",
       "      <td>167773.55</td>\n",
       "      <td>0</td>\n",
       "    </tr>\n",
       "    <tr>\n",
       "      <th>9087</th>\n",
       "      <td>771</td>\n",
       "      <td>0</td>\n",
       "      <td>1</td>\n",
       "      <td>39</td>\n",
       "      <td>5.0</td>\n",
       "      <td>0.00</td>\n",
       "      <td>2</td>\n",
       "      <td>1</td>\n",
       "      <td>0</td>\n",
       "      <td>96270.64</td>\n",
       "      <td>0</td>\n",
       "    </tr>\n",
       "    <tr>\n",
       "      <th>9088</th>\n",
       "      <td>516</td>\n",
       "      <td>0</td>\n",
       "      <td>1</td>\n",
       "      <td>35</td>\n",
       "      <td>10.0</td>\n",
       "      <td>57369.61</td>\n",
       "      <td>1</td>\n",
       "      <td>1</td>\n",
       "      <td>1</td>\n",
       "      <td>101699.77</td>\n",
       "      <td>0</td>\n",
       "    </tr>\n",
       "    <tr>\n",
       "      <th>9089</th>\n",
       "      <td>709</td>\n",
       "      <td>0</td>\n",
       "      <td>0</td>\n",
       "      <td>36</td>\n",
       "      <td>7.0</td>\n",
       "      <td>0.00</td>\n",
       "      <td>1</td>\n",
       "      <td>0</td>\n",
       "      <td>1</td>\n",
       "      <td>42085.58</td>\n",
       "      <td>1</td>\n",
       "    </tr>\n",
       "    <tr>\n",
       "      <th>9090</th>\n",
       "      <td>772</td>\n",
       "      <td>1</td>\n",
       "      <td>1</td>\n",
       "      <td>42</td>\n",
       "      <td>3.0</td>\n",
       "      <td>75075.31</td>\n",
       "      <td>2</td>\n",
       "      <td>1</td>\n",
       "      <td>0</td>\n",
       "      <td>92888.52</td>\n",
       "      <td>1</td>\n",
       "    </tr>\n",
       "  </tbody>\n",
       "</table>\n",
       "<p>9091 rows × 11 columns</p>\n",
       "</div>"
      ],
      "text/plain": [
       "      CreditScore  Geography  Gender  Age  Tenure    Balance  NumOfProducts  \\\n",
       "0             619          0       0   42     2.0       0.00              1   \n",
       "1             608          0       0   41     1.0   83807.86              1   \n",
       "2             502          0       0   42     8.0  159660.80              3   \n",
       "3             699          0       0   39     1.0       0.00              2   \n",
       "4             850          0       0   43     2.0  125510.82              1   \n",
       "...           ...        ...     ...  ...     ...        ...            ...   \n",
       "9086          800          0       0   29     2.0       0.00              2   \n",
       "9087          771          0       1   39     5.0       0.00              2   \n",
       "9088          516          0       1   35    10.0   57369.61              1   \n",
       "9089          709          0       0   36     7.0       0.00              1   \n",
       "9090          772          1       1   42     3.0   75075.31              2   \n",
       "\n",
       "      HasCrCard  IsActiveMember  EstimatedSalary  Exited  \n",
       "0             1               1        101348.88       1  \n",
       "1             0               1        112542.58       0  \n",
       "2             1               0        113931.57       1  \n",
       "3             0               0         93826.63       0  \n",
       "4             1               1         79084.10       0  \n",
       "...         ...             ...              ...     ...  \n",
       "9086          0               0        167773.55       0  \n",
       "9087          1               0         96270.64       0  \n",
       "9088          1               1        101699.77       0  \n",
       "9089          0               1         42085.58       1  \n",
       "9090          1               0         92888.52       1  \n",
       "\n",
       "[9091 rows x 11 columns]"
      ]
     },
     "execution_count": 10,
     "metadata": {},
     "output_type": "execute_result"
    }
   ],
   "source": [
    "data = data.drop(['CustomerId', 'Surname', 'RowNumber'], axis=1)\n",
    "data"
   ]
  },
  {
   "cell_type": "markdown",
   "metadata": {},
   "source": [
    "Так же в наших данных имеются значения например, как количество используемых продуктов, которые должны играть важную роль в ходе предсказания модели, поскольку если человек пользуется множеством представляемых банком продуктов, то шанс его ухода по логике должен быть ниже. При этом имеются столбцы с Балансом и предполагаемой зарплатой, которые тоже необходимы в ходе предсказания, но поскольку эти данные значительно больше, чем количество продуктов, модель может посчитать их важнее.\n",
    "\n",
    "Чтобы сделать все признаки одинакого важными мы отмаштабируем наши признаки."
   ]
  },
  {
   "cell_type": "markdown",
   "metadata": {},
   "source": [
    "Поскольку целевые признаки маштабировать нет необходимости, то мы просто заменим их на неотмаштабированные целевые признаки."
   ]
  },
  {
   "cell_type": "markdown",
   "metadata": {},
   "source": [
    "В ходе выполнения данного этапа нашей работы мы изучили данные и избавились от пропусков в них. Так же убрали столбцы, которые будут только мешать модели предсказывать, а так же преобразовали столбец с гендером методом OHE и столбцы с местоположением методом OrdinalEncoder. А так же отмаштабировали наши данные, чтобы модель считала каждый из признаков важным для предсказания целевых признаков."
   ]
  },
  {
   "cell_type": "markdown",
   "metadata": {},
   "source": [
    "## Исследование задачи"
   ]
  },
  {
   "cell_type": "markdown",
   "metadata": {},
   "source": [
    "Первым этапом исследования мы узнаем баланс классов. Для начала разобъем наши данные на обучающую валидационную и тестовую выборки."
   ]
  },
  {
   "cell_type": "code",
   "execution_count": 11,
   "metadata": {},
   "outputs": [
    {
     "name": "stdout",
     "output_type": "stream",
     "text": [
      "Количество строк в target_train по классам: [5789 1483]\n",
      "Количество строк в target_test по классам: [1448  371]\n"
     ]
    }
   ],
   "source": [
    "features = data.drop('Exited', axis=1)\n",
    "target = data['Exited']\n",
    "\n",
    "features_train, features_test, target_train, target_test = train_test_split(\n",
    "    features, target, test_size=0.2,\n",
    "    random_state=12345, stratify=target\n",
    ")\n",
    "\n",
    "print(f\"Количество строк в target_train по классам: {np.bincount(target_train)}\")\n",
    "print(f\"Количество строк в target_test по классам: {np.bincount(target_test)}\")"
   ]
  },
  {
   "cell_type": "code",
   "execution_count": 12,
   "metadata": {},
   "outputs": [],
   "source": [
    "scaler = StandardScaler()\n",
    "scaler.fit(features_train)\n",
    "\n",
    "features_train = pd.DataFrame(scaler.transform(features_train),\n",
    "                              columns=features_train.columns\n",
    "                              )\n",
    "features_test = pd.DataFrame(scaler.transform(features_test),\n",
    "                             columns=features_test.columns\n",
    "                             )\n",
    "\n",
    "target_train = target_train.reset_index(drop=True)\n",
    "target_test = target_test.reset_index(drop=True)"
   ]
  },
  {
   "cell_type": "markdown",
   "metadata": {},
   "source": [
    "Мы можем заметить, что количество классов в целевом признаке не одинаково."
   ]
  },
  {
   "cell_type": "markdown",
   "metadata": {},
   "source": [
    "В наших выборках имеется значительно больше 0 нежели 1. Дальнейшее тестирование проведем без учета дисбаланса классов."
   ]
  },
  {
   "cell_type": "markdown",
   "metadata": {},
   "source": [
    "Исследовать будем такие модели, как: Случайный лес, Дерево решений и Логическая регрессия"
   ]
  },
  {
   "cell_type": "markdown",
   "metadata": {},
   "source": [
    "**Дерево решений**"
   ]
  },
  {
   "cell_type": "code",
   "execution_count": 13,
   "metadata": {},
   "outputs": [
    {
     "name": "stdout",
     "output_type": "stream",
     "text": [
      "Лучшее значение f1_score у дерева решений 0.5600363592874691\n",
      "Лучшие параметры у дерева решений {'min_samples_split': 2, 'min_samples_leaf': 3, 'max_depth': 6}\n",
      "Wall time: 7.3 s\n"
     ]
    }
   ],
   "source": [
    "%%time \n",
    "\n",
    "model_dt = DecisionTreeClassifier(random_state=12345)\n",
    "\n",
    "param_dt = {\n",
    "    'max_depth': range(1, 26),\n",
    "    'min_samples_split': (1, 2, 3, 4, 5),\n",
    "    'min_samples_leaf': (1, 2, 3, 4, 5)\n",
    "}\n",
    "\n",
    "\n",
    "rs_dt = RandomizedSearchCV(model_dt, param_dt, \n",
    "                          scoring='f1', random_state=12345,\n",
    "                          n_jobs=-1)\n",
    "rs_dt.fit(features_train, target_train)\n",
    "\n",
    "best_score_dt = rs_dt.best_score_\n",
    "best_param_dt = rs_dt.best_params_\n",
    "print(f'Лучшее значение f1_score у дерева решений {best_score_dt}\\nЛучшие параметры у дерева решений {best_param_dt}')"
   ]
  },
  {
   "cell_type": "markdown",
   "metadata": {},
   "source": [
    "Мы видим, что модель дерево решений имеет лучшие показатели при глубине дерева равным 6."
   ]
  },
  {
   "cell_type": "markdown",
   "metadata": {},
   "source": [
    "**Исследуем модель Случайный лес**"
   ]
  },
  {
   "cell_type": "code",
   "execution_count": 14,
   "metadata": {},
   "outputs": [
    {
     "name": "stdout",
     "output_type": "stream",
     "text": [
      "Лучшее значение f1_score у случайного леса 0.5831497625025894\n",
      "Лучшие параметры у cлучайного леса {'n_estimators': 400, 'min_samples_split': 3, 'min_samples_leaf': 1, 'max_depth': 18}\n",
      "Wall time: 12 s\n"
     ]
    }
   ],
   "source": [
    "%%time \n",
    "\n",
    "model_rf = RandomForestClassifier(random_state=12345)\n",
    "\n",
    "param_rf = {\n",
    "    'n_estimators': range(10, 500, 10),\n",
    "    'max_depth': range(1, 26),\n",
    "    'min_samples_split': (1, 2, 3, 4, 5),\n",
    "    'min_samples_leaf': (1, 2, 3, 4, 5)\n",
    "}\n",
    "\n",
    "\n",
    "rs_rf = RandomizedSearchCV(model_rf, param_rf, \n",
    "                          scoring='f1', random_state=12345,\n",
    "                          n_jobs=-1)\n",
    "rs_rf.fit(features_train, target_train)\n",
    "\n",
    "best_score_rf = rs_rf.best_score_\n",
    "best_param_rf = rs_rf.best_params_\n",
    "print(f'Лучшее значение f1_score у случайного леса {best_score_rf}\\nЛучшие параметры у cлучайного леса {best_param_rf}')"
   ]
  },
  {
   "cell_type": "markdown",
   "metadata": {},
   "source": [
    "Лучшей моделью оказалась модель с глубиной дерева 400 и количеством деревьев 18. Данная модель выдает параметр f1_score равный 0.56, что является хорошим показателем для несбалансированных данных."
   ]
  },
  {
   "cell_type": "markdown",
   "metadata": {},
   "source": [
    "**Теперь проверим модель \"Логистическая регрессия\"**"
   ]
  },
  {
   "cell_type": "code",
   "execution_count": 15,
   "metadata": {},
   "outputs": [
    {
     "name": "stdout",
     "output_type": "stream",
     "text": [
      "Лучшее значение f1_score у логистической регресии 0.29293084843716855     \n",
      "Лучшие параметры у логистической регресии {'max_iter': 478}\n",
      "Wall time: 1.26 s\n"
     ]
    }
   ],
   "source": [
    "%%time \n",
    "\n",
    "model_lr = LogisticRegression(random_state=12345, solver='lbfgs')\n",
    "\n",
    "param_lr = {\n",
    "    'max_iter': range(100, 500)\n",
    "}\n",
    "\n",
    "\n",
    "rs_lr = RandomizedSearchCV(model_lr, param_lr, \n",
    "                          scoring='f1', random_state=12345,\n",
    "                          n_jobs=-1)\n",
    "rs_lr.fit(features_train, target_train)\n",
    "\n",
    "best_score_lr = rs_lr.best_score_\n",
    "best_param_lr = rs_lr.best_params_\n",
    "print(f'Лучшее значение f1_score у логистической регресии {best_score_lr} \\\n",
    "    \\nЛучшие параметры у логистической регресии {best_param_lr}')"
   ]
  },
  {
   "cell_type": "markdown",
   "metadata": {},
   "source": [
    "Исследовав модель Линейная регрессия мы получили слишком низкий результат f1_score равный 0.292. Вряд ли данная модель будет в дальнейшем использована для предсказания на тестовой выборке, но в дальнейшем проверим данную модель при сбалансированных классах."
   ]
  },
  {
   "cell_type": "markdown",
   "metadata": {},
   "source": [
    "В результате исследования трех моделей лучший показатель f1_score получила модель \"Случайный лес\" со следущими параметрами: глубина дерева 18, количество деревьев 400. С помощью данной модели мы смогли получить значение f1_score равное 0.58, что удволетворяет требованиям.\n",
    "\n",
    "Так же если учитывать, что мы работаем с несбалансированными данными модель дерево решений с глубиной дерева 6, выдает в целом неплохой результат, хоть и не вписывается в заданный порог равный 0.56. Поэтому мы так же уделим внимание данной модели при обучении на сбаласированных данных.\n",
    "\n",
    "Модель \"Линейная регрессия\" показала самый плохой результат. Данная модель достигла показателя f1_score равный 0.292, что является очень плохим результатом и даже близко не приближается к заданному порогу. Мы так же проведем эксперимент на сбаласированных данных, но вряд ли в дальнейшем будет использовать данную модель в конечном тестировании."
   ]
  },
  {
   "cell_type": "markdown",
   "metadata": {},
   "source": [
    "## Борьба с дисбалансом"
   ]
  },
  {
   "cell_type": "markdown",
   "metadata": {},
   "source": [
    "**На данном этапе мы будем бороться с дисбалансом двумя способами downsampling, upsampling и метод взвешивания классов а так же исследуем результаты трех моделей для каждого из методов**"
   ]
  },
  {
   "cell_type": "markdown",
   "metadata": {},
   "source": [
    "### Борьба с дисбалансом с помощью upsampling"
   ]
  },
  {
   "cell_type": "markdown",
   "metadata": {},
   "source": [
    "Для начала создадим функцию устраняющую дисбаланс методом увеличения малочисленного класса."
   ]
  },
  {
   "cell_type": "code",
   "execution_count": 16,
   "metadata": {},
   "outputs": [
    {
     "name": "stdout",
     "output_type": "stream",
     "text": [
      "Соотношения до преобразования [5789 1483]\n",
      "Увеличили значение меньшего класса на  4\n",
      "Соотношение после преобразования [5789 5932]\n"
     ]
    }
   ],
   "source": [
    "def upsample(features, target, repeat):\n",
    "    features_zeros = features[target == 0]\n",
    "    features_ones = features[target == 1]\n",
    "    target_zeros = target[target == 0]\n",
    "    target_ones = target[target == 1]\n",
    "\n",
    "    features_upsampled = pd.concat([features_zeros] + [features_ones] * repeat)\n",
    "    target_upsampled = pd.concat([target_zeros] + [target_ones] * repeat)\n",
    "\n",
    "    features_upsampled, target_upsampled = shuffle(\n",
    "        features_upsampled, target_upsampled, random_state=12345)\n",
    "\n",
    "    return features_upsampled, target_upsampled\n",
    "\n",
    "\n",
    "print('Соотношения до преобразования', np.bincount(target_train))\n",
    "\n",
    "bincount = np.bincount(target_train)\n",
    "repeat = round(bincount[0] / bincount[1])\n",
    "print('Увеличили значение меньшего класса на ', repeat)\n",
    "\n",
    "features_train_up, target_train_up = upsample(features_train, target_train, repeat)\n",
    "print('Соотношение после преобразования', np.bincount(target_train_up))"
   ]
  },
  {
   "cell_type": "markdown",
   "metadata": {},
   "source": [
    "Теперь протестирум наши модели на сбалансированной с помощью upsample выборки."
   ]
  },
  {
   "cell_type": "markdown",
   "metadata": {},
   "source": [
    "**Начнем с модели дерева решений**"
   ]
  },
  {
   "cell_type": "code",
   "execution_count": 17,
   "metadata": {},
   "outputs": [
    {
     "name": "stdout",
     "output_type": "stream",
     "text": [
      "Лучшее значение f1_score у дерева решений 0.8902494223490247\n",
      "Лучшие параметры у дерева решений {'min_samples_split': 5, 'min_samples_leaf': 2, 'max_depth': 18}\n",
      "Wall time: 405 ms\n"
     ]
    }
   ],
   "source": [
    "%%time\n",
    "\n",
    "\n",
    "def DecisionTree(features_train, target_train, weight=None):\n",
    "    model_dt = DecisionTreeClassifier(random_state=12345, class_weight=weight)\n",
    "\n",
    "    param_dt = {\n",
    "    'max_depth': range(1, 26),\n",
    "    'min_samples_split': (1, 2, 3, 4, 5),\n",
    "    'min_samples_leaf': (1, 2, 3, 4, 5)\n",
    "    }\n",
    "\n",
    "\n",
    "    rs_dt = RandomizedSearchCV(model_dt, param_dt, \n",
    "                          scoring='f1', random_state=12345,\n",
    "                          n_jobs=-1)\n",
    "    rs_dt.fit(features_train, target_train)\n",
    "\n",
    "    best_score_dt = rs_dt.best_score_\n",
    "    best_param_dt = rs_dt.best_params_\n",
    "    print(f'Лучшее значение f1_score у дерева решений {best_score_dt}\\nЛучшие параметры у дерева решений {best_param_dt}')\n",
    "\n",
    "\n",
    "DecisionTree(\n",
    "    features_train_up, \n",
    "    target_train_up\n",
    ")"
   ]
  },
  {
   "cell_type": "markdown",
   "metadata": {},
   "source": [
    "Можем заметить, что при балансировке классов с помощью upsample наша модель начала предсказывать классы значительно лучше, увеличив итоговую метрику f1 до 0,89. Что является отличным показателем."
   ]
  },
  {
   "cell_type": "markdown",
   "metadata": {},
   "source": [
    "**Теперь просмотрим модель \"Случайный лес\"**"
   ]
  },
  {
   "cell_type": "code",
   "execution_count": 18,
   "metadata": {},
   "outputs": [
    {
     "name": "stdout",
     "output_type": "stream",
     "text": [
      "Лучшее значение f1_score у случайного леса 0.9522547854470078\n",
      "Лучшие параметры у cлучайного леса {'n_estimators': 400, 'min_samples_split': 3, 'min_samples_leaf': 1, 'max_depth': 18}\n",
      "Wall time: 22.3 s\n"
     ]
    }
   ],
   "source": [
    "%%time\n",
    "\n",
    "\n",
    "def RandomTree(features_train, target_train, weight=None):\n",
    "    model_rf = RandomForestClassifier(random_state=12345, class_weight=weight)\n",
    "\n",
    "    param_rf = {\n",
    "    'n_estimators': range(10, 500, 10),\n",
    "    'max_depth': range(1, 26),\n",
    "    'min_samples_split': (1, 2, 3, 4, 5),\n",
    "    'min_samples_leaf': (1, 2, 3, 4, 5)\n",
    "    }\n",
    "\n",
    "\n",
    "    rs_rf = RandomizedSearchCV(model_rf, param_rf, \n",
    "                          scoring='f1', random_state=12345,\n",
    "                          n_jobs=-1)\n",
    "    rs_rf.fit(features_train, target_train)\n",
    "\n",
    "    best_score_rf = rs_rf.best_score_\n",
    "    best_param_rf = rs_rf.best_params_\n",
    "    print(f'Лучшее значение f1_score у случайного леса {best_score_rf}\\nЛучшие параметры у cлучайного леса {best_param_rf}')\n",
    "\n",
    "RandomTree(\n",
    "    features_train_up,\n",
    "    target_train_up\n",
    ")"
   ]
  },
  {
   "cell_type": "markdown",
   "metadata": {},
   "source": [
    "На сбалансированной выборке с помощью метода upsampling у нас так же вырос показатель f1_score для модели \"Случайный лес\""
   ]
  },
  {
   "cell_type": "markdown",
   "metadata": {},
   "source": [
    "**Исследуем модель \"Логистическая регрессия\"**"
   ]
  },
  {
   "cell_type": "code",
   "execution_count": 19,
   "metadata": {},
   "outputs": [
    {
     "name": "stdout",
     "output_type": "stream",
     "text": [
      "Лучшее значение f1_score у логистической регресии 0.7078480724035019         \n",
      "Лучшие параметры у логистической регресии {'max_iter': 478}\n",
      "Wall time: 658 ms\n"
     ]
    }
   ],
   "source": [
    "%%time\n",
    "\n",
    "\n",
    "def Logistic(features_train, target_train, weight=None):\n",
    "    model_lr = LogisticRegression(random_state=12345, solver='lbfgs', class_weight=weight)\n",
    "\n",
    "    param_lr = {\n",
    "    'max_iter': range(100, 500)\n",
    "    }\n",
    "\n",
    "\n",
    "    rs_lr = RandomizedSearchCV(model_lr, param_lr, \n",
    "                          scoring='f1', random_state=12345,\n",
    "                          n_jobs=-1)\n",
    "    rs_lr.fit(features_train, target_train)\n",
    "\n",
    "    best_score_lr = rs_lr.best_score_\n",
    "    best_param_lr = rs_lr.best_params_\n",
    "    print(f'Лучшее значение f1_score у логистической регресии {best_score_lr} \\\n",
    "        \\nЛучшие параметры у логистической регресии {best_param_lr}')\n",
    "\n",
    "Logistic(\n",
    "    features_train_up,\n",
    "    target_train_up\n",
    ")"
   ]
  },
  {
   "cell_type": "markdown",
   "metadata": {},
   "source": [
    "Мы видим, что в случае с моделью \"Логистическая регрессия\" мы получили прирост в f1_score практически в два раза, что является хорошим результатом, но все еще недостаточным для преодоления поставленного порога."
   ]
  },
  {
   "cell_type": "markdown",
   "metadata": {},
   "source": [
    "### Борьба с дисбалансом с помощью downsampling"
   ]
  },
  {
   "cell_type": "code",
   "execution_count": 20,
   "metadata": {},
   "outputs": [
    {
     "name": "stdout",
     "output_type": "stream",
     "text": [
      "Соотношение в целевых признаках до преобразования [5789 1483]\n",
      "Соотношение в целевых признаках после преобразования [1483 1483]\n"
     ]
    }
   ],
   "source": [
    "def downsample(features, target, fraction):\n",
    "    features_zeros = features[target == 0]\n",
    "    features_ones = features[target == 1]\n",
    "    target_zeros = target[target == 0]\n",
    "    target_ones = target[target == 1]\n",
    "\n",
    "    features_downsampled = pd.concat([features_zeros\n",
    "                                     .sample(frac=fraction, random_state=12345)] + [features_ones])\n",
    "    target_downsampled = pd.concat([target_zeros\n",
    "                                   .sample(frac=fraction, random_state=12345)] + [target_ones])\n",
    "\n",
    "    features_downsampled, target_downsampled = \\\n",
    "        shuffle(features_downsampled, target_downsampled, random_state=12345)\n",
    "\n",
    "    return features_downsampled, target_downsampled\n",
    "\n",
    "\n",
    "bincount = np.bincount(target_train)\n",
    "print('Соотношение в целевых признаках до преобразования', bincount)\n",
    "\n",
    "fraction = bincount[1] / bincount[0]\n",
    "\n",
    "features_train_down, target_train_down = downsample(features_train, target_train, fraction)\n",
    "\n",
    "print('Соотношение в целевых признаках после преобразования', np.bincount(target_train_down))"
   ]
  },
  {
   "cell_type": "markdown",
   "metadata": {},
   "source": [
    "Теперь проведем исследование моделей на сбалансированной с помощью метода downsampling выборке."
   ]
  },
  {
   "cell_type": "markdown",
   "metadata": {},
   "source": [
    "**Модель \"Дерево решений\"**"
   ]
  },
  {
   "cell_type": "code",
   "execution_count": 21,
   "metadata": {},
   "outputs": [
    {
     "name": "stdout",
     "output_type": "stream",
     "text": [
      "Лучшее значение f1_score у дерева решений 0.7624722371407286\n",
      "Лучшие параметры у дерева решений {'min_samples_split': 2, 'min_samples_leaf': 3, 'max_depth': 6}\n"
     ]
    }
   ],
   "source": [
    "DecisionTree(\n",
    "    features_train_down, \n",
    "    target_train_down\n",
    ")"
   ]
  },
  {
   "cell_type": "markdown",
   "metadata": {},
   "source": [
    "Как мы можем заметить метрики не особо улучшились по сравнению с моделю обученной на сбалансированных с помщью upampling методе, и мы все еще не смогли преодолеть порог. "
   ]
  },
  {
   "cell_type": "markdown",
   "metadata": {},
   "source": [
    "**Модель \"Случайное лес\"**"
   ]
  },
  {
   "cell_type": "code",
   "execution_count": 22,
   "metadata": {},
   "outputs": [
    {
     "name": "stdout",
     "output_type": "stream",
     "text": [
      "Лучшее значение f1_score у случайного леса 0.7708198517232987\n",
      "Лучшие параметры у cлучайного леса {'n_estimators': 280, 'min_samples_split': 4, 'min_samples_leaf': 3, 'max_depth': 10}\n"
     ]
    }
   ],
   "source": [
    "RandomTree(\n",
    "    features_train_down,\n",
    "    target_train_down\n",
    ")"
   ]
  },
  {
   "cell_type": "markdown",
   "metadata": {},
   "source": [
    "В данном случае модель \"Случайный лес\" показала себя хуже, чем при исследовании на сбалансированных с помощью upsampling данных и хоть мы все равно смогли преодолеть необходимый порог, использование этой модели в дальнейшем лучше сопровождать балансированнием данных с помощью upsampling."
   ]
  },
  {
   "cell_type": "markdown",
   "metadata": {},
   "source": [
    "**Модель \"Линейная регрессия\"**"
   ]
  },
  {
   "cell_type": "code",
   "execution_count": 23,
   "metadata": {},
   "outputs": [
    {
     "name": "stdout",
     "output_type": "stream",
     "text": [
      "Лучшее значение f1_score у логистической регресии 0.7104827023289259         \n",
      "Лучшие параметры у логистической регресии {'max_iter': 478}\n"
     ]
    }
   ],
   "source": [
    "Logistic(\n",
    "    features_train_down,\n",
    "    target_train_down\n",
    ")"
   ]
  },
  {
   "cell_type": "markdown",
   "metadata": {},
   "source": [
    "**В результате проведенного исследования моделей на сбалансированной с помощью метода downsampling выборке, можно сделать вывод, что такой способ борьбы с дисбалансом нам не подходит. Поскольку модель Дерево решений имеет значение f1 равное 0.76, что значительно меньше результата полученного на upsampling.**\n",
    "\n",
    "**Модель \"Случаный лес\" стала предсказывать хуже и метрика f1 уменьшилась с примерно 0.95 до 0.77, что явно нам не подходит. Поэтому для обучения данной модели будем и дальше использовать метод upsamling**\n",
    "\n",
    "**Модель \"Логистическая регрессия\" показала себя примерно так же как и в пункте 3.1.**\n",
    "\n",
    "**Из всего выше сказанного можно сделать вывод, что такой метод борьбы с дисбалансом нам мало подходит и в дальнейшей работе использовать его нет необходимости.**"
   ]
  },
  {
   "cell_type": "markdown",
   "metadata": {},
   "source": [
    "### Метод Взвешивания классов"
   ]
  },
  {
   "cell_type": "markdown",
   "metadata": {},
   "source": [
    "Теперь прверим наши модели с помощью метода взвешивания классов и попробуем определить, будет ли этот метод давать необходимую нам метрику выше, чем метод upsampling."
   ]
  },
  {
   "cell_type": "markdown",
   "metadata": {},
   "source": [
    "**Модель \"Дерево решений\"**"
   ]
  },
  {
   "cell_type": "code",
   "execution_count": 24,
   "metadata": {},
   "outputs": [
    {
     "name": "stdout",
     "output_type": "stream",
     "text": [
      "Лучшее значение f1_score у дерева решений 0.574765413930397\n",
      "Лучшие параметры у дерева решений {'min_samples_split': 2, 'min_samples_leaf': 3, 'max_depth': 6}\n"
     ]
    }
   ],
   "source": [
    "DecisionTree(features_train,\n",
    "             target_train, weight='balanced')"
   ]
  },
  {
   "cell_type": "markdown",
   "metadata": {},
   "source": [
    "В результате полученного исследования мы получили практически такое же значение метрики как и в результате исследование модели без применения методов борьбы с дисбалансом."
   ]
  },
  {
   "cell_type": "code",
   "execution_count": 25,
   "metadata": {},
   "outputs": [
    {
     "name": "stdout",
     "output_type": "stream",
     "text": [
      "Лучшее значение f1_score у случайного леса 0.622705062574508\n",
      "Лучшие параметры у cлучайного леса {'n_estimators': 390, 'min_samples_split': 5, 'min_samples_leaf': 3, 'max_depth': 10}\n"
     ]
    }
   ],
   "source": [
    "RandomTree(features_train, \n",
    "           target_train, weight='balanced')"
   ]
  },
  {
   "cell_type": "markdown",
   "metadata": {},
   "source": [
    "Данный метод балансирования выборок дал резултат хуже, чем метод upsampling поэтому продолжим использовать метод upsampling."
   ]
  },
  {
   "cell_type": "code",
   "execution_count": 26,
   "metadata": {},
   "outputs": [
    {
     "name": "stdout",
     "output_type": "stream",
     "text": [
      "Лучшее значение f1_score у логистической регресии 0.496564067263736         \n",
      "Лучшие параметры у логистической регресии {'max_iter': 478}\n"
     ]
    }
   ],
   "source": [
    "Logistic(features_train,\n",
    "         target_train, 'balanced')"
   ]
  },
  {
   "cell_type": "markdown",
   "metadata": {},
   "source": [
    "Модель логистическая регрессия так же не изменила значение метрики и не смогла преодолеть необходимый нам порог, поэтому будем данную модель использовать не будем."
   ]
  },
  {
   "cell_type": "markdown",
   "metadata": {},
   "source": [
    "**В результате исследования баланса классов с помощью метода \"Взвешивание классов\" мы увидели, что метрики различных моделей не изменяются. Однако значение метрики для \"Случайного леса выросло до значения в 0.64 поэтому будем использовать данный метод борьбы с дисбалансом.\"** "
   ]
  },
  {
   "cell_type": "markdown",
   "metadata": {},
   "source": [
    "## Тестирование модели"
   ]
  },
  {
   "cell_type": "markdown",
   "metadata": {},
   "source": [
    "**В резульате проведенных ранее исследований мы определились, что модель которая нам наиболее подходит это модель \"Случайный лес\" и способ балансировки выборки upsampling поэтому будем проводить тестирование модели при данных условиях**"
   ]
  },
  {
   "cell_type": "markdown",
   "metadata": {},
   "source": [
    "Теперь проведем обучение модели на новой сбалансированной и объединенной выборке. И ее тестирование на тестовой выборке. С выбранными ранее параметрами max_depth = 18, est = 400."
   ]
  },
  {
   "cell_type": "code",
   "execution_count": 27,
   "metadata": {},
   "outputs": [
    {
     "name": "stdout",
     "output_type": "stream",
     "text": [
      "Метрика F1 -  0.6011396011396012\n",
      "Метрика accuracy -  0.8460692688290269\n",
      "Площадь под ROC - кривой составляет 0.8547778514095099 единиц\n"
     ]
    }
   ],
   "source": [
    "model_test = RandomForestClassifier(random_state=12345, max_depth=18, n_estimators=400)\n",
    "model_test.fit(features_train_up, target_train_up)\n",
    "predict_test = model_test.predict(features_test)\n",
    "\n",
    "f1_test = f1_score(target_test, predict_test)\n",
    "accuracy_test = accuracy_score(target_test, predict_test)\n",
    "probabilities = model_test.predict_proba(features_test)\n",
    "probabilities_ones = probabilities[:, 1]\n",
    "auc_roc = roc_auc_score(target_test, probabilities_ones)\n",
    "\n",
    "print('Метрика F1 - ', f1_test)\n",
    "print('Метрика accuracy - ', accuracy_test)\n",
    "print(f'Площадь под ROC - кривой составляет {auc_roc} единиц')"
   ]
  },
  {
   "cell_type": "markdown",
   "metadata": {},
   "source": [
    "**В результате исследования мы можем обратить внимание на то, что наша модель имеет очень хорошие параметры. В данной работе мы ориентировались на метрику f1_score поскольку перед нами стояла задача обеспечить значение этой метрики не менее 0.59, но мы так же учли такую метрику как accuracy_score.**\n",
    "\n",
    "**В итоге нам удалось добиться необходимого значения f1_score и преодолеть поставленный порог, а так же мы убедились в том, что наша модель не переобучается поскольку accuracy_score не имеет тенденции спадать после предсказания на тестовой выборке.**\n",
    "\n",
    "**Теперь проверим нашу модель на адекватность путем сравнения ее со случайной моделью, а так же просмотрим соотношение классов в предсказанной модели и изначальном датасете и сравним их.**"
   ]
  },
  {
   "cell_type": "code",
   "execution_count": 28,
   "metadata": {},
   "outputs": [
    {
     "data": {
      "text/plain": [
       "0    0.796062\n",
       "1    0.203938\n",
       "Name: Exited, dtype: float64"
      ]
     },
     "execution_count": 28,
     "metadata": {},
     "output_type": "execute_result"
    }
   ],
   "source": [
    "# Просмотрим соотношение классов в изначальной выборке. \n",
    "values = data['Exited'].value_counts(normalize=True)\n",
    "values"
   ]
  },
  {
   "cell_type": "code",
   "execution_count": 29,
   "metadata": {},
   "outputs": [
    {
     "data": {
      "text/plain": [
       "0.18196811434854315"
      ]
     },
     "metadata": {},
     "output_type": "display_data"
    },
    {
     "name": "stdout",
     "output_type": "stream",
     "text": [
      "Соотношение в dummy тесте: [1488  331]\n"
     ]
    }
   ],
   "source": [
    "# Теперь просмотрим соотношение классов в предсказании нашей модели с помощью DummyClassifier\n",
    "prediction_dummy = predict_test.copy()\n",
    "\n",
    "dummy = DummyClassifier(strategy='most_frequent')\n",
    "dummy.fit(features_train_up, target_train_up)\n",
    "dummy.predict(prediction_dummy)\n",
    "\n",
    "display(dummy.score(target_test, prediction_dummy))\n",
    "print('Соотношение в dummy тесте:', np.bincount(prediction_dummy))"
   ]
  },
  {
   "cell_type": "markdown",
   "metadata": {},
   "source": [
    "В результате исследования и проверки нашей модели на адекватность можно сделать вывод, что предсказания модели имеют такое же соотношение классов, что и наш исходный датасет."
   ]
  },
  {
   "cell_type": "markdown",
   "metadata": {},
   "source": [
    "Теперь построим roc - кривую и исследуем площадь под ней методом roc_curve_score. Это поможет нам сравнить нашу модель со случайной и сделать выводы насколько наша модель предсказывает лучше, чем случайаная."
   ]
  },
  {
   "cell_type": "code",
   "execution_count": 30,
   "metadata": {},
   "outputs": [
    {
     "data": {
      "image/png": "[encoded data removed]",
      "text/plain": [
       "<Figure size 1500x1000 with 1 Axes>"
      ]
     },
     "metadata": {},
     "output_type": "display_data"
    },
    {
     "name": "stdout",
     "output_type": "stream",
     "text": [
      "Площадь под ROC - кривой составляет 0.8547778514095099 единиц\n"
     ]
    }
   ],
   "source": [
    "probabilities = model_test.predict_proba(features_test)\n",
    "probabilities_ones = probabilities[:, 1]\n",
    "\n",
    "fpr, tpr, thresholds = roc_curve(target_test, probabilities_ones)\n",
    "plt.figure(figsize=(15,10))\n",
    "plt.plot(fpr, tpr)\n",
    "plt.plot([0, 1], [0, 1], linestyle='--')\n",
    "plt.xlabel('False Positive Rate')\n",
    "plt.ylabel('True Positive Rate')\n",
    "plt.title('ROC-кривая')\n",
    "plt.grid()\n",
    "\n",
    "plt.show()\n",
    "auc_roc = roc_auc_score(target_test, probabilities_ones)\n",
    "print(f'Площадь под ROC - кривой составляет {auc_roc} единиц')"
   ]
  },
  {
   "cell_type": "markdown",
   "metadata": {},
   "source": [
    "Исходя из результатов исследования таких метрик, как auc_roc можно сделать вывод, что предсказания нашей модели являются в большей степени \"осознаной\", а не случайной."
   ]
  },
  {
   "cell_type": "markdown",
   "metadata": {},
   "source": [
    "## Вывод"
   ]
  },
  {
   "cell_type": "markdown",
   "metadata": {},
   "source": [
    "**В результате данной работы нами были проделаны следующие этапы:**\n",
    "- Подготовка данных\n",
    "- Исследование задачи\n",
    "- Борьба с дисбалансом\n",
    "- Тестирование модели"
   ]
  },
  {
   "cell_type": "markdown",
   "metadata": {},
   "source": [
    "**В ходе подготовки данных.**\n",
    "\n",
    "Во-первых мы обработали пропуски, поскольку доля пропусков была равна всего 9 процентам, то мы убрали все строки в котрых были пропущены значения, поскольку не могли полностью определить природу появления пропусков, а так же посчитали не рациональным их заполнение.\n",
    "\n",
    "Во-вторых с помощью принципа OHE мы обработали столбец в котором в строковом варианте содержались наименование гендера клиента банка. Так же учли ловушку dummy признаков и обработали ее добавив в качестве аргумента \"drop_first=True\". Так же убрали личный индификатор клиента и его фамилию поскольку эти данные никак не влияют на то уйдет клиент из банка или же нет.\n",
    "\n",
    "В-третьих обработали данные с помощью принципа OrdinalEncoder. А именно столбце с геолокацией клиента, поскольку данные о местоположении в исходном датасете были записаны с помощью букв. \n",
    "\n",
    "Финальным этапом подготовки было маштабирование наших признаков. Так как такие столбцы как счет в банке и количество используемых продуктов банка можно считать равнозначными по степени важности, но порядок чисел описываемых эти столбцы сильно различаются. И чтобы модель считала их равнозначными мы и провели маштабирование признаков."
   ]
  },
  {
   "cell_type": "markdown",
   "metadata": {},
   "source": [
    "**Исследование задачи**\n",
    "\n",
    "На данном этапе мы изучили поведение трех моделей на валидационной выборке, а так же изучили f1 метрику на основе данных без учета дисбаланса. В результате лучше всего себя показала модель \"Случайный лес\" поскольку только она смогла преодолеть необходимый нам порог значения f1 метрики. "
   ]
  },
  {
   "cell_type": "markdown",
   "metadata": {},
   "source": [
    "**Борьба с дисбалансом**\n",
    "\n",
    "Далее провели исследование модели при различных способов борьбы с дисбалансом в данных и выяснили, что лучше всего нам подходит метод взвешивания классов поскольку модель \"Случайного леса\" при данном способе борьбы с дисбалансом имеет максимыльный показатель f1 метрики равный 0.95.Остальные модели вели себя одинково при любом методе борьбы с дисбалансом."
   ]
  },
  {
   "cell_type": "markdown",
   "metadata": {},
   "source": [
    "**Тестирование модели**\n",
    "\n",
    "Тестирование было нашим финальным этапом в проекте. Для тестирования нами была выбрана модель \"Случайный лес\". Поскольку она имела наибольший параметр f1_score равный 0.95. \n",
    "\n",
    "В результате тестирования нами был достигнут следующий результат:\n",
    "- Метрика f1:0.6011396011396012\n",
    "- Метрика accuracy_score:0.8460692688290269\n",
    "\n",
    "\n",
    "Так же наша модель была проверена на адекватность и мы убедились, что соотношение классов в предсказании модели было таким же, как и в исходном датасете. \n",
    "\n",
    "Была изучена ROC - кривая и вычеслена площадь под ней. В результате мы сделали вывод, что наша модель отличается от случайной модели.\n",
    "- Площадь под ROC - кривой составляет 0.8547778514095099 единиц\n"
   ]
  }
 ],
 "metadata": {
  "ExecuteTimeLog": [
   {
    "duration": 925,
    "start_time": "2023-04-02T18:16:22.732Z"
   },
   {
    "duration": 108,
    "start_time": "2023-04-02T18:16:39.102Z"
   },
   {
    "duration": 18,
    "start_time": "2023-04-02T18:21:16.844Z"
   },
   {
    "duration": 10,
    "start_time": "2023-04-02T18:21:20.587Z"
   },
   {
    "duration": 9,
    "start_time": "2023-04-02T18:22:29.167Z"
   },
   {
    "duration": 3,
    "start_time": "2023-04-02T18:22:31.869Z"
   },
   {
    "duration": 12,
    "start_time": "2023-04-02T18:24:09.242Z"
   },
   {
    "duration": 603,
    "start_time": "2023-04-02T18:24:32.169Z"
   },
   {
    "duration": 110,
    "start_time": "2023-04-02T18:24:34.519Z"
   },
   {
    "duration": 15,
    "start_time": "2023-04-02T18:24:52.035Z"
   },
   {
    "duration": 23,
    "start_time": "2023-04-02T18:27:36.687Z"
   },
   {
    "duration": 11,
    "start_time": "2023-04-02T18:27:40.477Z"
   },
   {
    "duration": 39,
    "start_time": "2023-04-02T18:28:39.176Z"
   },
   {
    "duration": 59,
    "start_time": "2023-04-02T18:29:10.866Z"
   },
   {
    "duration": 14,
    "start_time": "2023-04-02T18:30:55.181Z"
   },
   {
    "duration": 24,
    "start_time": "2023-04-02T18:31:07.609Z"
   },
   {
    "duration": 14,
    "start_time": "2023-04-02T18:32:47.562Z"
   },
   {
    "duration": 70,
    "start_time": "2023-04-02T18:32:53.878Z"
   },
   {
    "duration": 20,
    "start_time": "2023-04-02T18:32:58.009Z"
   },
   {
    "duration": 18,
    "start_time": "2023-04-02T18:36:45.991Z"
   },
   {
    "duration": 22,
    "start_time": "2023-04-02T18:37:28.604Z"
   },
   {
    "duration": 12,
    "start_time": "2023-04-02T18:37:37.509Z"
   },
   {
    "duration": 8,
    "start_time": "2023-04-02T18:40:54.781Z"
   },
   {
    "duration": 1179,
    "start_time": "2023-04-02T18:41:04.352Z"
   },
   {
    "duration": 1450,
    "start_time": "2023-04-02T18:41:12.192Z"
   },
   {
    "duration": 69,
    "start_time": "2023-04-02T18:41:13.644Z"
   },
   {
    "duration": 23,
    "start_time": "2023-04-02T18:41:13.715Z"
   },
   {
    "duration": 16,
    "start_time": "2023-04-02T18:41:13.740Z"
   },
   {
    "duration": 59,
    "start_time": "2023-04-02T18:41:13.757Z"
   },
   {
    "duration": 22,
    "start_time": "2023-04-02T18:41:13.824Z"
   },
   {
    "duration": 36,
    "start_time": "2023-04-02T18:41:13.848Z"
   },
   {
    "duration": 12,
    "start_time": "2023-04-02T18:41:13.886Z"
   },
   {
    "duration": 34,
    "start_time": "2023-04-02T18:41:13.899Z"
   },
   {
    "duration": 6,
    "start_time": "2023-04-02T18:41:32.982Z"
   },
   {
    "duration": 21,
    "start_time": "2023-04-02T18:41:34.475Z"
   },
   {
    "duration": 125,
    "start_time": "2023-04-02T18:45:11.904Z"
   },
   {
    "duration": 11,
    "start_time": "2023-04-02T18:45:46.069Z"
   },
   {
    "duration": 21,
    "start_time": "2023-04-02T18:46:33.286Z"
   },
   {
    "duration": 10,
    "start_time": "2023-04-02T18:47:29.794Z"
   },
   {
    "duration": 4,
    "start_time": "2023-04-02T18:47:34.764Z"
   },
   {
    "duration": 41,
    "start_time": "2023-04-02T18:49:17.570Z"
   },
   {
    "duration": 17,
    "start_time": "2023-04-02T18:50:02.001Z"
   },
   {
    "duration": 41,
    "start_time": "2023-04-02T18:50:14.902Z"
   },
   {
    "duration": 1163,
    "start_time": "2023-04-02T18:51:18.507Z"
   },
   {
    "duration": 15,
    "start_time": "2023-04-02T18:51:30.519Z"
   },
   {
    "duration": 21,
    "start_time": "2023-04-02T18:52:36.676Z"
   },
   {
    "duration": 24,
    "start_time": "2023-04-02T18:52:54.269Z"
   },
   {
    "duration": 64,
    "start_time": "2023-04-02T18:53:10.274Z"
   },
   {
    "duration": 49,
    "start_time": "2023-04-02T18:53:48.394Z"
   },
   {
    "duration": 10,
    "start_time": "2023-04-02T19:00:52.912Z"
   },
   {
    "duration": 4,
    "start_time": "2023-04-02T19:01:00.312Z"
   },
   {
    "duration": 9,
    "start_time": "2023-04-02T19:01:41.342Z"
   },
   {
    "duration": 9,
    "start_time": "2023-04-02T19:01:45.547Z"
   },
   {
    "duration": 12,
    "start_time": "2023-04-02T19:02:12.694Z"
   },
   {
    "duration": 26,
    "start_time": "2023-04-02T19:02:42.393Z"
   },
   {
    "duration": 22,
    "start_time": "2023-04-02T19:04:50.552Z"
   },
   {
    "duration": 4,
    "start_time": "2023-04-02T19:10:24.349Z"
   },
   {
    "duration": 4,
    "start_time": "2023-04-02T19:11:53.692Z"
   },
   {
    "duration": 23,
    "start_time": "2023-04-02T19:12:59.464Z"
   },
   {
    "duration": 4,
    "start_time": "2023-04-02T19:13:20.892Z"
   },
   {
    "duration": 16,
    "start_time": "2023-04-02T19:13:25.107Z"
   },
   {
    "duration": 6,
    "start_time": "2023-04-02T19:16:49.249Z"
   },
   {
    "duration": 95,
    "start_time": "2023-04-02T20:09:16.283Z"
   },
   {
    "duration": 98,
    "start_time": "2023-04-02T20:09:25.131Z"
   },
   {
    "duration": 105,
    "start_time": "2023-04-02T20:09:36.043Z"
   },
   {
    "duration": 4,
    "start_time": "2023-04-02T20:12:26.325Z"
   },
   {
    "duration": 1779,
    "start_time": "2023-04-02T20:12:30.145Z"
   },
   {
    "duration": 4,
    "start_time": "2023-04-02T20:14:53.656Z"
   },
   {
    "duration": 1724,
    "start_time": "2023-04-02T20:14:58.201Z"
   },
   {
    "duration": 1750,
    "start_time": "2023-04-02T20:15:38.683Z"
   },
   {
    "duration": 192190,
    "start_time": "2023-04-02T20:17:17.083Z"
   },
   {
    "duration": 968063,
    "start_time": "2023-04-02T20:20:49.582Z"
   },
   {
    "duration": 14,
    "start_time": "2023-04-02T20:47:28.548Z"
   },
   {
    "duration": 11,
    "start_time": "2023-04-02T20:47:45.305Z"
   },
   {
    "duration": 13,
    "start_time": "2023-04-02T20:48:04.167Z"
   },
   {
    "duration": 12,
    "start_time": "2023-04-02T20:48:08.837Z"
   },
   {
    "duration": 144,
    "start_time": "2023-04-02T20:48:12.302Z"
   },
   {
    "duration": 4,
    "start_time": "2023-04-02T20:48:44.065Z"
   },
   {
    "duration": 201876,
    "start_time": "2023-04-02T20:48:49.070Z"
   },
   {
    "duration": 203430,
    "start_time": "2023-04-02T20:52:32.596Z"
   },
   {
    "duration": 4,
    "start_time": "2023-04-02T21:15:56.886Z"
   },
   {
    "duration": 20,
    "start_time": "2023-04-02T21:17:46.787Z"
   },
   {
    "duration": 5,
    "start_time": "2023-04-02T21:18:28.241Z"
   },
   {
    "duration": 12,
    "start_time": "2023-04-02T21:18:32.484Z"
   },
   {
    "duration": 16,
    "start_time": "2023-04-02T21:18:52.736Z"
   },
   {
    "duration": 13,
    "start_time": "2023-04-02T21:19:35.298Z"
   },
   {
    "duration": 20,
    "start_time": "2023-04-02T21:19:41.217Z"
   },
   {
    "duration": 18,
    "start_time": "2023-04-02T21:19:45.289Z"
   },
   {
    "duration": 13,
    "start_time": "2023-04-02T21:19:49.161Z"
   },
   {
    "duration": 13,
    "start_time": "2023-04-02T21:19:52.164Z"
   },
   {
    "duration": 11,
    "start_time": "2023-04-02T21:20:11.588Z"
   },
   {
    "duration": 26,
    "start_time": "2023-04-02T21:21:59.312Z"
   },
   {
    "duration": 16,
    "start_time": "2023-04-02T21:22:35.833Z"
   },
   {
    "duration": 16,
    "start_time": "2023-04-02T21:23:02.316Z"
   },
   {
    "duration": 10,
    "start_time": "2023-04-02T21:24:23.545Z"
   },
   {
    "duration": 10,
    "start_time": "2023-04-02T21:24:39.755Z"
   },
   {
    "duration": 25,
    "start_time": "2023-04-02T21:25:07.128Z"
   },
   {
    "duration": 13,
    "start_time": "2023-04-02T21:25:25.517Z"
   },
   {
    "duration": 219,
    "start_time": "2023-04-02T21:25:33.814Z"
   },
   {
    "duration": 47,
    "start_time": "2023-04-02T21:25:51.991Z"
   },
   {
    "duration": 116,
    "start_time": "2023-04-02T21:26:11.625Z"
   },
   {
    "duration": 70,
    "start_time": "2023-04-02T21:26:42.355Z"
   },
   {
    "duration": 63,
    "start_time": "2023-04-02T21:27:10.673Z"
   },
   {
    "duration": 91,
    "start_time": "2023-04-02T21:27:15.235Z"
   },
   {
    "duration": 100,
    "start_time": "2023-04-02T21:27:24.635Z"
   },
   {
    "duration": 28,
    "start_time": "2023-04-02T21:27:33.013Z"
   },
   {
    "duration": 228,
    "start_time": "2023-04-02T21:27:36.917Z"
   },
   {
    "duration": 200,
    "start_time": "2023-04-02T21:27:43.022Z"
   },
   {
    "duration": 207,
    "start_time": "2023-04-02T21:27:47.218Z"
   },
   {
    "duration": 191,
    "start_time": "2023-04-02T21:27:55.240Z"
   },
   {
    "duration": 141,
    "start_time": "2023-04-02T21:28:26.195Z"
   },
   {
    "duration": 198,
    "start_time": "2023-04-02T21:28:35.526Z"
   },
   {
    "duration": 201,
    "start_time": "2023-04-02T21:29:05.828Z"
   },
   {
    "duration": 298,
    "start_time": "2023-04-02T21:29:12.027Z"
   },
   {
    "duration": 112,
    "start_time": "2023-04-02T21:30:09.037Z"
   },
   {
    "duration": 66,
    "start_time": "2023-04-02T21:30:16.566Z"
   },
   {
    "duration": 46,
    "start_time": "2023-04-02T21:30:29.080Z"
   },
   {
    "duration": 63,
    "start_time": "2023-04-02T21:30:38.769Z"
   },
   {
    "duration": 45,
    "start_time": "2023-04-02T21:30:45.295Z"
   },
   {
    "duration": 34,
    "start_time": "2023-04-02T21:30:50.225Z"
   },
   {
    "duration": 318,
    "start_time": "2023-04-02T21:31:41.243Z"
   },
   {
    "duration": 321,
    "start_time": "2023-04-02T21:32:13.227Z"
   },
   {
    "duration": 286,
    "start_time": "2023-04-02T21:32:44.578Z"
   },
   {
    "duration": 275,
    "start_time": "2023-04-02T21:32:51.291Z"
   },
   {
    "duration": 13,
    "start_time": "2023-04-02T21:33:32.451Z"
   },
   {
    "duration": 477,
    "start_time": "2023-04-02T21:33:37.387Z"
   },
   {
    "duration": 13,
    "start_time": "2023-04-02T21:36:13.634Z"
   },
   {
    "duration": 12,
    "start_time": "2023-04-02T21:36:28.653Z"
   },
   {
    "duration": 13,
    "start_time": "2023-04-02T21:36:48.092Z"
   },
   {
    "duration": 18,
    "start_time": "2023-04-02T21:37:00.251Z"
   },
   {
    "duration": 2144,
    "start_time": "2023-04-02T21:38:08.617Z"
   },
   {
    "duration": 2018,
    "start_time": "2023-04-02T21:40:05.428Z"
   },
   {
    "duration": 54,
    "start_time": "2023-04-02T21:40:50.066Z"
   },
   {
    "duration": 2025,
    "start_time": "2023-04-02T21:40:57.142Z"
   },
   {
    "duration": 2013,
    "start_time": "2023-04-02T21:41:01.315Z"
   },
   {
    "duration": 2101,
    "start_time": "2023-04-02T21:41:34.529Z"
   },
   {
    "duration": 1276668,
    "start_time": "2023-04-02T21:43:39.999Z"
   },
   {
    "duration": 235701,
    "start_time": "2023-04-02T22:07:15.353Z"
   },
   {
    "duration": 62,
    "start_time": "2023-04-03T15:05:09.079Z"
   },
   {
    "duration": 1761,
    "start_time": "2023-04-03T15:05:17.315Z"
   },
   {
    "duration": 10,
    "start_time": "2023-04-03T15:05:48.003Z"
   },
   {
    "duration": 3,
    "start_time": "2023-04-03T15:06:41.941Z"
   },
   {
    "duration": 12,
    "start_time": "2023-04-03T15:06:47.996Z"
   },
   {
    "duration": 1463,
    "start_time": "2023-04-03T15:06:53.639Z"
   },
   {
    "duration": 132,
    "start_time": "2023-04-03T15:06:55.104Z"
   },
   {
    "duration": 18,
    "start_time": "2023-04-03T15:06:55.238Z"
   },
   {
    "duration": 28,
    "start_time": "2023-04-03T15:06:55.258Z"
   },
   {
    "duration": 69,
    "start_time": "2023-04-03T15:06:55.289Z"
   },
   {
    "duration": 22,
    "start_time": "2023-04-03T15:06:55.360Z"
   },
   {
    "duration": 23,
    "start_time": "2023-04-03T15:06:55.384Z"
   },
   {
    "duration": 46,
    "start_time": "2023-04-03T15:06:55.409Z"
   },
   {
    "duration": 44,
    "start_time": "2023-04-03T15:06:55.457Z"
   },
   {
    "duration": 37,
    "start_time": "2023-04-03T15:06:55.503Z"
   },
   {
    "duration": 66,
    "start_time": "2023-04-03T15:06:55.542Z"
   },
   {
    "duration": 27,
    "start_time": "2023-04-03T15:06:55.610Z"
   },
   {
    "duration": 20,
    "start_time": "2023-04-03T15:06:55.639Z"
   },
   {
    "duration": 21,
    "start_time": "2023-04-03T15:06:55.661Z"
   },
   {
    "duration": 9,
    "start_time": "2023-04-03T15:06:55.684Z"
   },
   {
    "duration": 1793,
    "start_time": "2023-04-03T15:06:55.694Z"
   },
   {
    "duration": 926920,
    "start_time": "2023-04-03T15:06:57.489Z"
   },
   {
    "duration": 244437,
    "start_time": "2023-04-03T15:22:24.411Z"
   },
   {
    "duration": 103,
    "start_time": "2023-04-03T15:26:28.931Z"
   },
   {
    "duration": 2124,
    "start_time": "2023-04-03T15:26:29.036Z"
   },
   {
    "duration": 1217702,
    "start_time": "2023-04-03T15:26:31.162Z"
   },
   {
    "duration": 148070,
    "start_time": "2023-04-03T15:46:48.867Z"
   },
   {
    "duration": 231,
    "start_time": "2023-04-03T15:49:17.025Z"
   },
   {
    "duration": 0,
    "start_time": "2023-04-03T15:49:17.257Z"
   },
   {
    "duration": 26,
    "start_time": "2023-04-03T15:50:00.034Z"
   },
   {
    "duration": 28,
    "start_time": "2023-04-03T15:50:23.303Z"
   },
   {
    "duration": 16,
    "start_time": "2023-04-03T15:51:38.962Z"
   },
   {
    "duration": 12,
    "start_time": "2023-04-03T15:52:40.107Z"
   },
   {
    "duration": 42,
    "start_time": "2023-04-03T15:53:30.316Z"
   },
   {
    "duration": 4,
    "start_time": "2023-04-03T15:53:59.346Z"
   },
   {
    "duration": 4,
    "start_time": "2023-04-03T15:54:06.848Z"
   },
   {
    "duration": 95,
    "start_time": "2023-04-03T15:57:14.435Z"
   },
   {
    "duration": 98,
    "start_time": "2023-04-03T15:57:49.053Z"
   },
   {
    "duration": 16,
    "start_time": "2023-04-03T15:57:52.320Z"
   },
   {
    "duration": 15,
    "start_time": "2023-04-03T15:58:17.420Z"
   },
   {
    "duration": 13,
    "start_time": "2023-04-03T15:58:32.812Z"
   },
   {
    "duration": 99,
    "start_time": "2023-04-03T15:58:35.524Z"
   },
   {
    "duration": 13,
    "start_time": "2023-04-03T15:59:23.858Z"
   },
   {
    "duration": 66,
    "start_time": "2023-04-03T16:02:55.910Z"
   },
   {
    "duration": 40,
    "start_time": "2023-04-03T16:03:00.306Z"
   },
   {
    "duration": 6,
    "start_time": "2023-04-03T16:03:43.360Z"
   },
   {
    "duration": 2010,
    "start_time": "2023-04-03T16:04:19.365Z"
   },
   {
    "duration": 883,
    "start_time": "2023-04-03T16:04:47.545Z"
   },
   {
    "duration": 6,
    "start_time": "2023-04-03T16:06:46.143Z"
   },
   {
    "duration": 95,
    "start_time": "2023-04-03T16:07:14.204Z"
   },
   {
    "duration": 75288,
    "start_time": "2023-04-03T16:07:23.169Z"
   },
   {
    "duration": 815540,
    "start_time": "2023-04-03T16:11:25.534Z"
   },
   {
    "duration": 58,
    "start_time": "2023-04-03T16:25:01.076Z"
   },
   {
    "duration": 0,
    "start_time": "2023-04-03T16:25:01.136Z"
   },
   {
    "duration": 172,
    "start_time": "2023-04-03T16:25:40.505Z"
   },
   {
    "duration": 169,
    "start_time": "2023-04-03T16:26:02.148Z"
   },
   {
    "duration": 161,
    "start_time": "2023-04-03T16:26:52.668Z"
   },
   {
    "duration": 4,
    "start_time": "2023-04-03T16:27:43.918Z"
   },
   {
    "duration": 76,
    "start_time": "2023-04-03T16:27:53.821Z"
   },
   {
    "duration": 75,
    "start_time": "2023-04-03T16:27:57.723Z"
   },
   {
    "duration": 82,
    "start_time": "2023-04-03T16:28:03.393Z"
   },
   {
    "duration": 77,
    "start_time": "2023-04-03T16:28:26.809Z"
   },
   {
    "duration": 149,
    "start_time": "2023-04-03T16:28:36.352Z"
   },
   {
    "duration": 78,
    "start_time": "2023-04-03T16:28:46.931Z"
   },
   {
    "duration": 81,
    "start_time": "2023-04-03T16:28:51.708Z"
   },
   {
    "duration": 77,
    "start_time": "2023-04-03T16:28:54.084Z"
   },
   {
    "duration": 78,
    "start_time": "2023-04-03T16:28:58.032Z"
   },
   {
    "duration": 79,
    "start_time": "2023-04-03T16:30:54.032Z"
   },
   {
    "duration": 83,
    "start_time": "2023-04-03T16:31:09.804Z"
   },
   {
    "duration": 104,
    "start_time": "2023-04-03T16:31:15.328Z"
   },
   {
    "duration": 4,
    "start_time": "2023-04-03T16:31:21.998Z"
   },
   {
    "duration": 152,
    "start_time": "2023-04-03T16:31:27.000Z"
   },
   {
    "duration": 1442,
    "start_time": "2023-04-03T16:32:52.970Z"
   },
   {
    "duration": 72,
    "start_time": "2023-04-03T16:32:54.415Z"
   },
   {
    "duration": 19,
    "start_time": "2023-04-03T16:32:54.489Z"
   },
   {
    "duration": 18,
    "start_time": "2023-04-03T16:32:54.510Z"
   },
   {
    "duration": 58,
    "start_time": "2023-04-03T16:32:54.530Z"
   },
   {
    "duration": 40,
    "start_time": "2023-04-03T16:32:54.589Z"
   },
   {
    "duration": 24,
    "start_time": "2023-04-03T16:32:54.631Z"
   },
   {
    "duration": 14,
    "start_time": "2023-04-03T16:32:54.657Z"
   },
   {
    "duration": 25,
    "start_time": "2023-04-03T16:32:54.673Z"
   },
   {
    "duration": 31,
    "start_time": "2023-04-03T16:32:54.725Z"
   },
   {
    "duration": 70,
    "start_time": "2023-04-03T16:32:54.759Z"
   },
   {
    "duration": 26,
    "start_time": "2023-04-03T16:32:54.831Z"
   },
   {
    "duration": 17,
    "start_time": "2023-04-03T16:32:54.859Z"
   },
   {
    "duration": 17,
    "start_time": "2023-04-03T16:32:54.878Z"
   },
   {
    "duration": 6,
    "start_time": "2023-04-03T16:32:54.923Z"
   },
   {
    "duration": 1649,
    "start_time": "2023-04-03T16:32:54.931Z"
   },
   {
    "duration": 41204,
    "start_time": "2023-04-03T16:32:56.582Z"
   },
   {
    "duration": 189,
    "start_time": "2023-04-03T16:33:37.788Z"
   },
   {
    "duration": 15,
    "start_time": "2023-04-03T16:33:37.979Z"
   },
   {
    "duration": 1994,
    "start_time": "2023-04-03T16:33:37.996Z"
   },
   {
    "duration": 57190,
    "start_time": "2023-04-03T16:33:39.992Z"
   },
   {
    "duration": 164,
    "start_time": "2023-04-03T16:34:37.185Z"
   },
   {
    "duration": 14,
    "start_time": "2023-04-03T16:34:37.352Z"
   },
   {
    "duration": 926,
    "start_time": "2023-04-03T16:34:37.368Z"
   },
   {
    "duration": 22046,
    "start_time": "2023-04-03T16:34:38.296Z"
   },
   {
    "duration": 569,
    "start_time": "2023-04-03T16:35:00.344Z"
   },
   {
    "duration": 5,
    "start_time": "2023-04-03T16:35:00.923Z"
   },
   {
    "duration": 132863,
    "start_time": "2023-04-03T16:35:19.361Z"
   },
   {
    "duration": 189798,
    "start_time": "2023-04-03T16:37:32.227Z"
   },
   {
    "duration": 2129,
    "start_time": "2023-04-03T16:40:42.029Z"
   },
   {
    "duration": 56938,
    "start_time": "2023-04-03T16:41:30.083Z"
   },
   {
    "duration": 178212,
    "start_time": "2023-04-03T16:42:27.023Z"
   },
   {
    "duration": 981,
    "start_time": "2023-04-03T16:45:25.325Z"
   },
   {
    "duration": 21383,
    "start_time": "2023-04-03T16:45:26.308Z"
   },
   {
    "duration": 11,
    "start_time": "2023-04-03T16:45:47.693Z"
   },
   {
    "duration": 129775,
    "start_time": "2023-04-03T16:45:56.851Z"
   },
   {
    "duration": 1656,
    "start_time": "2023-04-03T16:52:34.192Z"
   },
   {
    "duration": 42367,
    "start_time": "2023-04-03T16:54:21.023Z"
   },
   {
    "duration": 163439,
    "start_time": "2023-04-03T16:57:19.392Z"
   },
   {
    "duration": 11,
    "start_time": "2023-04-03T17:11:36.114Z"
   },
   {
    "duration": 9,
    "start_time": "2023-04-03T17:11:41.393Z"
   },
   {
    "duration": 22,
    "start_time": "2023-04-03T17:14:35.870Z"
   },
   {
    "duration": 13,
    "start_time": "2023-04-03T17:14:42.057Z"
   },
   {
    "duration": 73548,
    "start_time": "2023-04-03T17:16:10.064Z"
   },
   {
    "duration": 13,
    "start_time": "2023-04-03T17:23:54.138Z"
   },
   {
    "duration": 1725,
    "start_time": "2023-04-03T17:24:01.476Z"
   },
   {
    "duration": 43,
    "start_time": "2023-04-03T17:24:34.542Z"
   },
   {
    "duration": 740,
    "start_time": "2023-04-03T17:25:00.125Z"
   },
   {
    "duration": 716,
    "start_time": "2023-04-03T17:25:40.332Z"
   },
   {
    "duration": 57826,
    "start_time": "2023-04-03T17:27:04.079Z"
   },
   {
    "duration": 402,
    "start_time": "2023-04-03T17:28:37.113Z"
   },
   {
    "duration": 19,
    "start_time": "2023-04-03T17:30:00.576Z"
   },
   {
    "duration": 642,
    "start_time": "2023-04-03T17:30:15.139Z"
   },
   {
    "duration": 678,
    "start_time": "2023-04-03T17:33:06.149Z"
   },
   {
    "duration": 677,
    "start_time": "2023-04-03T17:35:51.184Z"
   },
   {
    "duration": 58609,
    "start_time": "2023-04-03T17:37:57.367Z"
   },
   {
    "duration": 13,
    "start_time": "2023-04-03T17:42:23.740Z"
   },
   {
    "duration": 561,
    "start_time": "2023-04-03T17:42:26.907Z"
   },
   {
    "duration": 589,
    "start_time": "2023-04-03T17:42:50.256Z"
   },
   {
    "duration": 675,
    "start_time": "2023-04-03T17:43:20.921Z"
   },
   {
    "duration": 5,
    "start_time": "2023-04-03T17:43:29.676Z"
   },
   {
    "duration": 669,
    "start_time": "2023-04-03T17:43:35.726Z"
   },
   {
    "duration": 642,
    "start_time": "2023-04-03T17:43:43.794Z"
   },
   {
    "duration": 662,
    "start_time": "2023-04-03T17:43:48.300Z"
   },
   {
    "duration": 653,
    "start_time": "2023-04-03T17:43:57.101Z"
   },
   {
    "duration": 646,
    "start_time": "2023-04-03T17:44:55.168Z"
   },
   {
    "duration": 659,
    "start_time": "2023-04-03T17:45:03.487Z"
   },
   {
    "duration": 659,
    "start_time": "2023-04-03T17:45:07.321Z"
   },
   {
    "duration": 659,
    "start_time": "2023-04-03T17:45:12.885Z"
   },
   {
    "duration": 697,
    "start_time": "2023-04-03T17:45:52.454Z"
   },
   {
    "duration": 91,
    "start_time": "2023-04-03T17:46:41.617Z"
   },
   {
    "duration": 161,
    "start_time": "2023-04-03T17:46:44.964Z"
   },
   {
    "duration": 83,
    "start_time": "2023-04-03T17:46:50.825Z"
   },
   {
    "duration": 668,
    "start_time": "2023-04-03T17:46:54.415Z"
   },
   {
    "duration": 688,
    "start_time": "2023-04-03T17:47:25.107Z"
   },
   {
    "duration": 644,
    "start_time": "2023-04-03T17:47:33.393Z"
   },
   {
    "duration": 666,
    "start_time": "2023-04-03T17:47:59.624Z"
   },
   {
    "duration": 6,
    "start_time": "2023-04-03T17:55:35.161Z"
   },
   {
    "duration": 6,
    "start_time": "2023-04-03T17:56:36.424Z"
   },
   {
    "duration": 3,
    "start_time": "2023-04-03T17:57:24.947Z"
   },
   {
    "duration": 19,
    "start_time": "2023-04-03T17:59:14.800Z"
   },
   {
    "duration": 8,
    "start_time": "2023-04-03T17:59:22.040Z"
   },
   {
    "duration": 4,
    "start_time": "2023-04-03T17:59:47.211Z"
   },
   {
    "duration": 5,
    "start_time": "2023-04-03T18:00:22.792Z"
   },
   {
    "duration": 5,
    "start_time": "2023-04-03T18:00:27.755Z"
   },
   {
    "duration": 14,
    "start_time": "2023-04-03T18:00:41.717Z"
   },
   {
    "duration": 8,
    "start_time": "2023-04-03T18:00:52.988Z"
   },
   {
    "duration": 10,
    "start_time": "2023-04-03T18:01:10.266Z"
   },
   {
    "duration": 8,
    "start_time": "2023-04-03T18:01:16.646Z"
   },
   {
    "duration": 9,
    "start_time": "2023-04-03T18:01:29.934Z"
   },
   {
    "duration": 8,
    "start_time": "2023-04-03T18:01:55.333Z"
   },
   {
    "duration": 8,
    "start_time": "2023-04-03T18:02:18.890Z"
   },
   {
    "duration": 7,
    "start_time": "2023-04-03T18:02:32.706Z"
   },
   {
    "duration": 11,
    "start_time": "2023-04-03T18:03:04.119Z"
   },
   {
    "duration": 9,
    "start_time": "2023-04-03T18:03:12.141Z"
   },
   {
    "duration": 9,
    "start_time": "2023-04-03T18:03:19.945Z"
   },
   {
    "duration": 219,
    "start_time": "2023-04-03T18:07:33.957Z"
   },
   {
    "duration": 229,
    "start_time": "2023-04-03T18:07:38.609Z"
   },
   {
    "duration": 222,
    "start_time": "2023-04-03T18:07:57.685Z"
   },
   {
    "duration": 289,
    "start_time": "2023-04-03T18:08:00.520Z"
   },
   {
    "duration": 12,
    "start_time": "2023-04-03T18:14:48.619Z"
   },
   {
    "duration": 1507,
    "start_time": "2023-04-03T18:28:35.649Z"
   },
   {
    "duration": 89,
    "start_time": "2023-04-03T18:28:37.158Z"
   },
   {
    "duration": 20,
    "start_time": "2023-04-03T18:28:37.248Z"
   },
   {
    "duration": 14,
    "start_time": "2023-04-03T18:28:37.270Z"
   },
   {
    "duration": 97,
    "start_time": "2023-04-03T18:28:37.286Z"
   },
   {
    "duration": 23,
    "start_time": "2023-04-03T18:28:37.385Z"
   },
   {
    "duration": 35,
    "start_time": "2023-04-03T18:28:37.410Z"
   },
   {
    "duration": 13,
    "start_time": "2023-04-03T18:28:37.447Z"
   },
   {
    "duration": 25,
    "start_time": "2023-04-03T18:28:37.462Z"
   },
   {
    "duration": 48,
    "start_time": "2023-04-03T18:28:37.490Z"
   },
   {
    "duration": 52,
    "start_time": "2023-04-03T18:28:37.540Z"
   },
   {
    "duration": 47,
    "start_time": "2023-04-03T18:28:37.594Z"
   },
   {
    "duration": 18,
    "start_time": "2023-04-03T18:28:37.643Z"
   },
   {
    "duration": 21,
    "start_time": "2023-04-03T18:28:37.663Z"
   },
   {
    "duration": 6,
    "start_time": "2023-04-03T18:28:37.685Z"
   },
   {
    "duration": 1783,
    "start_time": "2023-04-03T18:28:37.693Z"
   },
   {
    "duration": 42288,
    "start_time": "2023-04-03T18:28:39.478Z"
   },
   {
    "duration": 1481,
    "start_time": "2023-04-03T18:31:06.230Z"
   },
   {
    "duration": 76,
    "start_time": "2023-04-03T18:31:07.713Z"
   },
   {
    "duration": 21,
    "start_time": "2023-04-03T18:31:07.791Z"
   },
   {
    "duration": 17,
    "start_time": "2023-04-03T18:31:07.814Z"
   },
   {
    "duration": 62,
    "start_time": "2023-04-03T18:31:07.834Z"
   },
   {
    "duration": 30,
    "start_time": "2023-04-03T18:31:07.898Z"
   },
   {
    "duration": 20,
    "start_time": "2023-04-03T18:31:07.930Z"
   },
   {
    "duration": 21,
    "start_time": "2023-04-03T18:31:07.952Z"
   },
   {
    "duration": 52,
    "start_time": "2023-04-03T18:31:07.974Z"
   },
   {
    "duration": 22,
    "start_time": "2023-04-03T18:31:08.028Z"
   },
   {
    "duration": 76,
    "start_time": "2023-04-03T18:31:08.051Z"
   },
   {
    "duration": 25,
    "start_time": "2023-04-03T18:31:08.129Z"
   },
   {
    "duration": 19,
    "start_time": "2023-04-03T18:31:08.156Z"
   },
   {
    "duration": 46,
    "start_time": "2023-04-03T18:31:08.178Z"
   },
   {
    "duration": 5,
    "start_time": "2023-04-03T18:31:08.226Z"
   },
   {
    "duration": 1797,
    "start_time": "2023-04-03T18:31:08.233Z"
   },
   {
    "duration": 924255,
    "start_time": "2023-04-03T18:31:10.032Z"
   },
   {
    "duration": 146740,
    "start_time": "2023-04-03T18:46:34.289Z"
   },
   {
    "duration": 105,
    "start_time": "2023-04-03T18:49:01.031Z"
   },
   {
    "duration": 2197,
    "start_time": "2023-04-03T18:49:01.138Z"
   },
   {
    "duration": 1139618,
    "start_time": "2023-04-03T18:49:03.337Z"
   },
   {
    "duration": 205367,
    "start_time": "2023-04-03T19:08:02.957Z"
   },
   {
    "duration": 101,
    "start_time": "2023-04-03T19:11:28.326Z"
   },
   {
    "duration": 901,
    "start_time": "2023-04-03T19:11:28.429Z"
   },
   {
    "duration": 416988,
    "start_time": "2023-04-03T19:11:29.332Z"
   },
   {
    "duration": 130623,
    "start_time": "2023-04-03T19:18:26.323Z"
   },
   {
    "duration": 1995,
    "start_time": "2023-04-03T19:20:36.951Z"
   },
   {
    "duration": 826145,
    "start_time": "2023-04-03T19:20:38.948Z"
   },
   {
    "duration": 170350,
    "start_time": "2023-04-03T19:34:25.095Z"
   },
   {
    "duration": 177,
    "start_time": "2023-04-03T19:37:15.447Z"
   },
   {
    "duration": 565,
    "start_time": "2023-04-03T19:37:15.627Z"
   },
   {
    "duration": 688,
    "start_time": "2023-04-03T19:37:16.194Z"
   },
   {
    "duration": 6,
    "start_time": "2023-04-03T19:37:16.884Z"
   },
   {
    "duration": 8,
    "start_time": "2023-04-03T19:37:16.892Z"
   },
   {
    "duration": 259,
    "start_time": "2023-04-03T19:37:16.901Z"
   },
   {
    "duration": 5,
    "start_time": "2023-04-03T20:32:28.669Z"
   },
   {
    "duration": 227,
    "start_time": "2023-04-03T20:33:24.919Z"
   },
   {
    "duration": 4,
    "start_time": "2023-04-03T20:35:01.134Z"
   },
   {
    "duration": 11,
    "start_time": "2023-04-03T20:35:16.307Z"
   },
   {
    "duration": 10,
    "start_time": "2023-04-03T20:35:26.980Z"
   },
   {
    "duration": 10,
    "start_time": "2023-04-03T20:35:35.261Z"
   },
   {
    "duration": 10,
    "start_time": "2023-04-03T20:35:38.766Z"
   },
   {
    "duration": 10,
    "start_time": "2023-04-03T20:35:43.165Z"
   },
   {
    "duration": 11,
    "start_time": "2023-04-03T20:35:55.228Z"
   },
   {
    "duration": 13,
    "start_time": "2023-04-03T20:36:42.125Z"
   },
   {
    "duration": 3,
    "start_time": "2023-04-03T20:37:58.137Z"
   },
   {
    "duration": 84,
    "start_time": "2023-04-04T19:55:17.473Z"
   },
   {
    "duration": 40,
    "start_time": "2023-04-04T19:59:49.444Z"
   },
   {
    "duration": 1752,
    "start_time": "2023-04-04T20:24:38.684Z"
   },
   {
    "duration": 198,
    "start_time": "2023-04-04T20:24:40.437Z"
   },
   {
    "duration": 18,
    "start_time": "2023-04-04T20:24:40.637Z"
   },
   {
    "duration": 24,
    "start_time": "2023-04-04T20:24:40.656Z"
   },
   {
    "duration": 84,
    "start_time": "2023-04-04T20:24:40.683Z"
   },
   {
    "duration": 19,
    "start_time": "2023-04-04T20:24:40.769Z"
   },
   {
    "duration": 51,
    "start_time": "2023-04-04T20:24:40.790Z"
   },
   {
    "duration": 34,
    "start_time": "2023-04-04T20:24:40.842Z"
   },
   {
    "duration": 60,
    "start_time": "2023-04-04T20:24:40.877Z"
   },
   {
    "duration": 25,
    "start_time": "2023-04-04T20:24:40.939Z"
   },
   {
    "duration": 143,
    "start_time": "2023-04-04T20:24:40.966Z"
   },
   {
    "duration": 0,
    "start_time": "2023-04-04T20:24:41.111Z"
   },
   {
    "duration": 0,
    "start_time": "2023-04-04T20:24:41.112Z"
   },
   {
    "duration": 0,
    "start_time": "2023-04-04T20:24:41.113Z"
   },
   {
    "duration": 0,
    "start_time": "2023-04-04T20:24:41.115Z"
   },
   {
    "duration": 0,
    "start_time": "2023-04-04T20:24:41.116Z"
   },
   {
    "duration": 0,
    "start_time": "2023-04-04T20:24:41.117Z"
   },
   {
    "duration": 0,
    "start_time": "2023-04-04T20:24:41.135Z"
   },
   {
    "duration": 0,
    "start_time": "2023-04-04T20:24:41.136Z"
   },
   {
    "duration": 0,
    "start_time": "2023-04-04T20:24:41.137Z"
   },
   {
    "duration": 0,
    "start_time": "2023-04-04T20:24:41.138Z"
   },
   {
    "duration": 0,
    "start_time": "2023-04-04T20:24:41.139Z"
   },
   {
    "duration": 0,
    "start_time": "2023-04-04T20:24:41.140Z"
   },
   {
    "duration": 0,
    "start_time": "2023-04-04T20:24:41.141Z"
   },
   {
    "duration": 0,
    "start_time": "2023-04-04T20:24:41.142Z"
   },
   {
    "duration": 0,
    "start_time": "2023-04-04T20:24:41.143Z"
   },
   {
    "duration": 0,
    "start_time": "2023-04-04T20:24:41.144Z"
   },
   {
    "duration": 0,
    "start_time": "2023-04-04T20:24:41.145Z"
   },
   {
    "duration": 0,
    "start_time": "2023-04-04T20:24:41.146Z"
   },
   {
    "duration": 0,
    "start_time": "2023-04-04T20:24:41.147Z"
   },
   {
    "duration": 0,
    "start_time": "2023-04-04T20:24:41.148Z"
   },
   {
    "duration": 0,
    "start_time": "2023-04-04T20:24:41.149Z"
   },
   {
    "duration": 0,
    "start_time": "2023-04-04T20:24:41.151Z"
   },
   {
    "duration": 1309,
    "start_time": "2023-04-04T20:25:12.240Z"
   },
   {
    "duration": 113,
    "start_time": "2023-04-04T20:25:13.551Z"
   },
   {
    "duration": 17,
    "start_time": "2023-04-04T20:25:13.666Z"
   },
   {
    "duration": 26,
    "start_time": "2023-04-04T20:25:13.684Z"
   },
   {
    "duration": 59,
    "start_time": "2023-04-04T20:25:13.712Z"
   },
   {
    "duration": 20,
    "start_time": "2023-04-04T20:25:13.772Z"
   },
   {
    "duration": 24,
    "start_time": "2023-04-04T20:25:13.794Z"
   },
   {
    "duration": 24,
    "start_time": "2023-04-04T20:25:13.820Z"
   },
   {
    "duration": 37,
    "start_time": "2023-04-04T20:25:13.845Z"
   },
   {
    "duration": 17,
    "start_time": "2023-04-04T20:25:13.883Z"
   },
   {
    "duration": 19,
    "start_time": "2023-04-04T20:25:13.902Z"
   },
   {
    "duration": 30,
    "start_time": "2023-04-04T20:25:13.923Z"
   },
   {
    "duration": 6,
    "start_time": "2023-04-04T20:25:13.955Z"
   },
   {
    "duration": 2315,
    "start_time": "2023-04-04T20:25:13.964Z"
   },
   {
    "duration": 685247,
    "start_time": "2023-04-04T20:25:16.281Z"
   },
   {
    "duration": 201108,
    "start_time": "2023-04-04T20:36:41.534Z"
   },
   {
    "duration": 298,
    "start_time": "2023-04-04T20:40:02.644Z"
   },
   {
    "duration": 0,
    "start_time": "2023-04-04T20:40:02.944Z"
   },
   {
    "duration": 0,
    "start_time": "2023-04-04T20:40:02.945Z"
   },
   {
    "duration": 0,
    "start_time": "2023-04-04T20:40:02.946Z"
   },
   {
    "duration": 0,
    "start_time": "2023-04-04T20:40:02.947Z"
   },
   {
    "duration": 0,
    "start_time": "2023-04-04T20:40:02.948Z"
   },
   {
    "duration": 0,
    "start_time": "2023-04-04T20:40:02.949Z"
   },
   {
    "duration": 0,
    "start_time": "2023-04-04T20:40:02.950Z"
   },
   {
    "duration": 0,
    "start_time": "2023-04-04T20:40:02.951Z"
   },
   {
    "duration": 0,
    "start_time": "2023-04-04T20:40:02.952Z"
   },
   {
    "duration": 0,
    "start_time": "2023-04-04T20:40:02.953Z"
   },
   {
    "duration": 0,
    "start_time": "2023-04-04T20:40:02.953Z"
   },
   {
    "duration": 0,
    "start_time": "2023-04-04T20:40:02.955Z"
   },
   {
    "duration": 0,
    "start_time": "2023-04-04T20:40:02.955Z"
   },
   {
    "duration": 0,
    "start_time": "2023-04-04T20:40:02.956Z"
   },
   {
    "duration": 0,
    "start_time": "2023-04-04T20:40:02.957Z"
   },
   {
    "duration": 0,
    "start_time": "2023-04-04T20:40:02.958Z"
   },
   {
    "duration": 16,
    "start_time": "2023-04-04T20:41:17.871Z"
   },
   {
    "duration": 6,
    "start_time": "2023-04-04T20:41:30.801Z"
   },
   {
    "duration": 16,
    "start_time": "2023-04-04T20:42:40.797Z"
   },
   {
    "duration": 9,
    "start_time": "2023-04-04T20:43:12.477Z"
   },
   {
    "duration": 1019,
    "start_time": "2023-04-04T20:43:19.108Z"
   },
   {
    "duration": 983,
    "start_time": "2023-04-04T20:43:25.978Z"
   },
   {
    "duration": 9,
    "start_time": "2023-04-04T20:43:32.879Z"
   },
   {
    "duration": 15,
    "start_time": "2023-04-04T20:43:35.607Z"
   },
   {
    "duration": 87,
    "start_time": "2023-04-04T20:45:05.078Z"
   },
   {
    "duration": 3,
    "start_time": "2023-04-04T20:45:10.808Z"
   },
   {
    "duration": 17,
    "start_time": "2023-04-04T20:45:19.565Z"
   },
   {
    "duration": 27,
    "start_time": "2023-04-04T20:46:24.021Z"
   },
   {
    "duration": 10,
    "start_time": "2023-04-04T20:46:29.034Z"
   },
   {
    "duration": 16,
    "start_time": "2023-04-04T20:46:47.872Z"
   },
   {
    "duration": 15,
    "start_time": "2023-04-04T20:49:59.453Z"
   },
   {
    "duration": 25,
    "start_time": "2023-04-04T20:50:08.636Z"
   },
   {
    "duration": 13,
    "start_time": "2023-04-04T20:50:16.623Z"
   },
   {
    "duration": 24,
    "start_time": "2023-04-04T20:50:22.769Z"
   },
   {
    "duration": 12,
    "start_time": "2023-04-04T20:50:55.504Z"
   },
   {
    "duration": 17,
    "start_time": "2023-04-04T20:51:02.194Z"
   },
   {
    "duration": 14,
    "start_time": "2023-04-04T20:51:06.307Z"
   },
   {
    "duration": 25,
    "start_time": "2023-04-04T20:51:13.455Z"
   },
   {
    "duration": 1295,
    "start_time": "2023-04-04T20:51:20.167Z"
   },
   {
    "duration": 63,
    "start_time": "2023-04-04T20:51:21.464Z"
   },
   {
    "duration": 17,
    "start_time": "2023-04-04T20:51:21.529Z"
   },
   {
    "duration": 13,
    "start_time": "2023-04-04T20:51:21.547Z"
   },
   {
    "duration": 53,
    "start_time": "2023-04-04T20:51:21.562Z"
   },
   {
    "duration": 40,
    "start_time": "2023-04-04T20:51:21.616Z"
   },
   {
    "duration": 19,
    "start_time": "2023-04-04T20:51:21.658Z"
   },
   {
    "duration": 12,
    "start_time": "2023-04-04T20:51:21.678Z"
   },
   {
    "duration": 48,
    "start_time": "2023-04-04T20:51:21.691Z"
   },
   {
    "duration": 21,
    "start_time": "2023-04-04T20:51:21.741Z"
   },
   {
    "duration": 17,
    "start_time": "2023-04-04T20:51:21.764Z"
   },
   {
    "duration": 13,
    "start_time": "2023-04-04T20:51:21.783Z"
   },
   {
    "duration": 6,
    "start_time": "2023-04-04T20:51:21.798Z"
   },
   {
    "duration": 1303,
    "start_time": "2023-04-04T20:51:21.833Z"
   },
   {
    "duration": 612792,
    "start_time": "2023-04-04T20:51:23.138Z"
   },
   {
    "duration": 213408,
    "start_time": "2023-04-04T21:01:35.934Z"
   },
   {
    "duration": 192,
    "start_time": "2023-04-04T21:05:09.344Z"
   },
   {
    "duration": 13,
    "start_time": "2023-04-04T21:05:09.537Z"
   },
   {
    "duration": 14,
    "start_time": "2023-04-04T21:05:09.551Z"
   },
   {
    "duration": 1282,
    "start_time": "2023-04-04T21:05:09.566Z"
   },
   {
    "duration": 733056,
    "start_time": "2023-04-04T21:05:10.849Z"
   },
   {
    "duration": 295140,
    "start_time": "2023-04-04T21:17:23.907Z"
   },
   {
    "duration": 94,
    "start_time": "2023-04-04T21:22:19.050Z"
   },
   {
    "duration": 880,
    "start_time": "2023-04-04T21:22:19.235Z"
   },
   {
    "duration": 306974,
    "start_time": "2023-04-04T21:22:20.117Z"
   },
   {
    "duration": 161848,
    "start_time": "2023-04-04T21:27:27.093Z"
   },
   {
    "duration": 1326,
    "start_time": "2023-04-04T21:30:08.943Z"
   },
   {
    "duration": 544945,
    "start_time": "2023-04-04T21:30:10.271Z"
   },
   {
    "duration": 206021,
    "start_time": "2023-04-04T21:39:15.218Z"
   },
   {
    "duration": 103,
    "start_time": "2023-04-04T21:42:41.242Z"
   },
   {
    "duration": 397,
    "start_time": "2023-04-04T21:42:41.348Z"
   },
   {
    "duration": 429,
    "start_time": "2023-04-04T21:42:41.747Z"
   },
   {
    "duration": 6,
    "start_time": "2023-04-04T21:42:42.177Z"
   },
   {
    "duration": 9,
    "start_time": "2023-04-04T21:42:42.185Z"
   },
   {
    "duration": 188,
    "start_time": "2023-04-04T21:42:42.196Z"
   },
   {
    "duration": 703,
    "start_time": "2023-04-04T21:46:31.977Z"
   },
   {
    "duration": 618,
    "start_time": "2023-04-04T21:46:40.366Z"
   },
   {
    "duration": 138,
    "start_time": "2023-04-04T21:46:47.645Z"
   },
   {
    "duration": 534,
    "start_time": "2023-04-04T21:46:57.861Z"
   },
   {
    "duration": 5,
    "start_time": "2023-04-04T21:47:34.051Z"
   },
   {
    "duration": 532,
    "start_time": "2023-04-04T21:47:39.308Z"
   },
   {
    "duration": 714,
    "start_time": "2023-04-04T21:47:44.067Z"
   },
   {
    "duration": 891,
    "start_time": "2023-04-04T21:47:58.110Z"
   },
   {
    "duration": 886,
    "start_time": "2023-04-04T21:48:02.341Z"
   },
   {
    "duration": 16,
    "start_time": "2023-04-04T21:48:36.453Z"
   },
   {
    "duration": 485,
    "start_time": "2023-04-04T21:48:43.414Z"
   },
   {
    "duration": 472,
    "start_time": "2023-04-04T21:48:54.411Z"
   },
   {
    "duration": 441,
    "start_time": "2023-04-04T21:49:16.680Z"
   },
   {
    "duration": 502,
    "start_time": "2023-04-04T21:49:17.542Z"
   },
   {
    "duration": 485,
    "start_time": "2023-04-04T21:49:18.317Z"
   },
   {
    "duration": 823,
    "start_time": "2023-04-04T21:49:27.691Z"
   },
   {
    "duration": 707,
    "start_time": "2023-04-04T21:49:32.942Z"
   },
   {
    "duration": 668,
    "start_time": "2023-04-04T21:49:37.649Z"
   },
   {
    "duration": 1020,
    "start_time": "2023-04-04T21:49:43.400Z"
   },
   {
    "duration": 702,
    "start_time": "2023-04-04T21:49:47.787Z"
   },
   {
    "duration": 638,
    "start_time": "2023-04-04T21:49:52.910Z"
   },
   {
    "duration": 719,
    "start_time": "2023-04-04T21:49:59.023Z"
   },
   {
    "duration": 730,
    "start_time": "2023-04-04T21:50:03.570Z"
   },
   {
    "duration": 840,
    "start_time": "2023-04-04T21:50:07.444Z"
   },
   {
    "duration": 1034,
    "start_time": "2023-04-04T21:50:18.252Z"
   },
   {
    "duration": 1000,
    "start_time": "2023-04-04T21:50:23.309Z"
   },
   {
    "duration": 783,
    "start_time": "2023-04-04T21:50:27.903Z"
   },
   {
    "duration": 72072,
    "start_time": "2023-04-04T21:50:59.779Z"
   },
   {
    "duration": 11,
    "start_time": "2023-04-04T21:53:11.316Z"
   },
   {
    "duration": 11,
    "start_time": "2023-04-04T21:53:28.104Z"
   },
   {
    "duration": 602,
    "start_time": "2023-04-04T21:53:53.041Z"
   },
   {
    "duration": 7,
    "start_time": "2023-04-04T21:55:35.979Z"
   },
   {
    "duration": 4,
    "start_time": "2023-04-04T21:55:47.797Z"
   },
   {
    "duration": 15,
    "start_time": "2023-04-04T21:56:16.267Z"
   },
   {
    "duration": 6,
    "start_time": "2023-04-04T21:56:22.270Z"
   },
   {
    "duration": 14,
    "start_time": "2023-04-04T21:56:28.263Z"
   },
   {
    "duration": 35,
    "start_time": "2023-04-04T21:57:00.612Z"
   },
   {
    "duration": 39,
    "start_time": "2023-04-04T21:57:18.815Z"
   },
   {
    "duration": 6,
    "start_time": "2023-04-04T21:59:59.674Z"
   },
   {
    "duration": 6,
    "start_time": "2023-04-04T22:00:07.198Z"
   },
   {
    "duration": 17,
    "start_time": "2023-04-04T22:00:09.955Z"
   },
   {
    "duration": 44,
    "start_time": "2023-04-04T22:00:47.427Z"
   },
   {
    "duration": 42,
    "start_time": "2023-04-04T22:00:53.465Z"
   },
   {
    "duration": 55,
    "start_time": "2023-04-04T22:01:04.586Z"
   },
   {
    "duration": 44,
    "start_time": "2023-04-04T22:01:19.618Z"
   },
   {
    "duration": 46,
    "start_time": "2023-04-04T22:01:47.711Z"
   },
   {
    "duration": 5,
    "start_time": "2023-04-04T22:02:32.419Z"
   },
   {
    "duration": 11,
    "start_time": "2023-04-04T22:02:35.975Z"
   },
   {
    "duration": 1303,
    "start_time": "2023-04-04T22:03:53.432Z"
   },
   {
    "duration": 102,
    "start_time": "2023-04-04T22:03:54.738Z"
   },
   {
    "duration": 16,
    "start_time": "2023-04-04T22:03:54.844Z"
   },
   {
    "duration": 13,
    "start_time": "2023-04-04T22:03:54.862Z"
   },
   {
    "duration": 64,
    "start_time": "2023-04-04T22:03:54.876Z"
   },
   {
    "duration": 19,
    "start_time": "2023-04-04T22:03:54.941Z"
   },
   {
    "duration": 16,
    "start_time": "2023-04-04T22:03:54.961Z"
   },
   {
    "duration": 10,
    "start_time": "2023-04-04T22:03:54.979Z"
   },
   {
    "duration": 16,
    "start_time": "2023-04-04T22:03:54.990Z"
   },
   {
    "duration": 21,
    "start_time": "2023-04-04T22:03:55.008Z"
   },
   {
    "duration": 20,
    "start_time": "2023-04-04T22:03:55.031Z"
   },
   {
    "duration": 18,
    "start_time": "2023-04-04T22:03:55.053Z"
   },
   {
    "duration": 12,
    "start_time": "2023-04-04T22:03:55.074Z"
   },
   {
    "duration": 1209,
    "start_time": "2023-04-04T22:03:55.087Z"
   },
   {
    "duration": 267241,
    "start_time": "2023-04-04T22:03:56.297Z"
   },
   {
    "duration": 94300,
    "start_time": "2023-04-04T22:08:23.540Z"
   },
   {
    "duration": 96,
    "start_time": "2023-04-04T22:09:57.842Z"
   },
   {
    "duration": 1296,
    "start_time": "2023-04-04T22:09:57.939Z"
   },
   {
    "duration": 262821,
    "start_time": "2023-04-04T22:09:59.237Z"
   },
   {
    "duration": 95884,
    "start_time": "2023-04-04T22:14:22.060Z"
   },
   {
    "duration": 108,
    "start_time": "2023-04-04T22:15:58.036Z"
   },
   {
    "duration": 690,
    "start_time": "2023-04-04T22:15:58.146Z"
   },
   {
    "duration": 111683,
    "start_time": "2023-04-04T22:15:58.838Z"
   },
   {
    "duration": 79913,
    "start_time": "2023-04-04T22:17:50.522Z"
   },
   {
    "duration": 1188,
    "start_time": "2023-04-04T22:19:10.437Z"
   },
   {
    "duration": 199188,
    "start_time": "2023-04-04T22:19:11.626Z"
   },
   {
    "duration": 93829,
    "start_time": "2023-04-04T22:22:30.816Z"
   },
   {
    "duration": 199,
    "start_time": "2023-04-04T22:24:04.736Z"
   },
   {
    "duration": 0,
    "start_time": "2023-04-04T22:24:04.937Z"
   },
   {
    "duration": 0,
    "start_time": "2023-04-04T22:24:04.938Z"
   },
   {
    "duration": 0,
    "start_time": "2023-04-04T22:24:04.939Z"
   },
   {
    "duration": 0,
    "start_time": "2023-04-04T22:24:04.941Z"
   },
   {
    "duration": 0,
    "start_time": "2023-04-04T22:24:04.942Z"
   },
   {
    "duration": 0,
    "start_time": "2023-04-04T22:24:04.944Z"
   },
   {
    "duration": 10,
    "start_time": "2023-04-04T22:25:59.883Z"
   },
   {
    "duration": 251,
    "start_time": "2023-04-04T22:26:06.507Z"
   },
   {
    "duration": 315,
    "start_time": "2023-04-04T22:26:09.538Z"
   },
   {
    "duration": 7,
    "start_time": "2023-04-04T22:27:40.234Z"
   },
   {
    "duration": 8,
    "start_time": "2023-04-04T22:27:41.730Z"
   },
   {
    "duration": 245,
    "start_time": "2023-04-04T22:27:44.503Z"
   },
   {
    "duration": 7,
    "start_time": "2023-04-04T22:28:25.382Z"
   },
   {
    "duration": 7,
    "start_time": "2023-04-04T22:28:27.970Z"
   },
   {
    "duration": 196,
    "start_time": "2023-04-04T22:28:31.394Z"
   },
   {
    "duration": 8,
    "start_time": "2023-04-04T22:28:40.151Z"
   },
   {
    "duration": 7,
    "start_time": "2023-04-04T22:28:45.857Z"
   },
   {
    "duration": 6,
    "start_time": "2023-04-04T22:29:07.961Z"
   },
   {
    "duration": 249,
    "start_time": "2023-04-04T22:29:26.851Z"
   }
  ],
  "kernelspec": {
   "display_name": "Python 3 (ipykernel)",
   "language": "python",
   "name": "python3"
  },
  "language_info": {
   "codemirror_mode": {
    "name": "ipython",
    "version": 3
   },
   "file_extension": ".py",
   "mimetype": "text/x-python",
   "name": "python",
   "nbconvert_exporter": "python",
   "pygments_lexer": "ipython3",
   "version": "3.9.13"
  },
  "toc": {
   "base_numbering": 1,
   "nav_menu": {},
   "number_sections": true,
   "sideBar": true,
   "skip_h1_title": true,
   "title_cell": "Содержание",
   "title_sidebar": "Contents",
   "toc_cell": true,
   "toc_position": {
    "height": "calc(100% - 180px)",
    "left": "10px",
    "top": "150px",
    "width": "165px"
   },
   "toc_section_display": true,
   "toc_window_display": true
  }
 },
 "nbformat": 4,
 "nbformat_minor": 2
}
