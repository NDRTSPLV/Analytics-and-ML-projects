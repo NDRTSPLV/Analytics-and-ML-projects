{
 "cells": [
  {
   "cell_type": "markdown",
   "id": "850c2a68",
   "metadata": {
    "toc": true
   },
   "source": [
    "<h1>Table of Contents<span class=\"tocSkip\"></span></h1>\n",
    "<div class=\"toc\"><ul class=\"toc-item\"><li><span><a href=\"#Загрузка-и-изучение-данных\" data-toc-modified-id=\"Загрузка-и-изучение-данных-1\"><span class=\"toc-item-num\">1&nbsp;&nbsp;</span>Загрузка и изучение данных</a></span></li><li><span><a href=\"#Предобработка-данных\" data-toc-modified-id=\"Предобработка-данных-2\"><span class=\"toc-item-num\">2&nbsp;&nbsp;</span>Предобработка данных</a></span><ul class=\"toc-item\"><li><span><a href=\"#Изменение-типов-данных\" data-toc-modified-id=\"Изменение-типов-данных-2.1\"><span class=\"toc-item-num\">2.1&nbsp;&nbsp;</span>Изменение типов данных</a></span></li><li><span><a href=\"#Изучение-пропусков\" data-toc-modified-id=\"Изучение-пропусков-2.2\"><span class=\"toc-item-num\">2.2&nbsp;&nbsp;</span>Изучение пропусков</a></span></li><li><span><a href=\"#Изучение-дубликатов\" data-toc-modified-id=\"Изучение-дубликатов-2.3\"><span class=\"toc-item-num\">2.3&nbsp;&nbsp;</span>Изучение дубликатов</a></span></li><li><span><a href=\"#Поиск-аномалий\" data-toc-modified-id=\"Поиск-аномалий-2.4\"><span class=\"toc-item-num\">2.4&nbsp;&nbsp;</span>Поиск аномалий</a></span></li></ul></li><li><span><a href=\"#Исследовательский-анализ-данных\" data-toc-modified-id=\"Исследовательский-анализ-данных-3\"><span class=\"toc-item-num\">3&nbsp;&nbsp;</span>Исследовательский анализ данных</a></span></li><li><span><a href=\"#Подготовка-данных-для-обучения-и-выбор-метрики\" data-toc-modified-id=\"Подготовка-данных-для-обучения-и-выбор-метрики-4\"><span class=\"toc-item-num\">4&nbsp;&nbsp;</span>Подготовка данных для обучения и выбор метрики</a></span></li><li><span><a href=\"#Обучение-модели\" data-toc-modified-id=\"Обучение-модели-5\"><span class=\"toc-item-num\">5&nbsp;&nbsp;</span>Обучение модели</a></span><ul class=\"toc-item\"><li><span><a href=\"#Обучение-алгоритма-опорных-векторов-(SVM)\" data-toc-modified-id=\"Обучение-алгоритма-опорных-векторов-(SVM)-5.1\"><span class=\"toc-item-num\">5.1&nbsp;&nbsp;</span>Обучение алгоритма опорных векторов (SVM)</a></span></li><li><span><a href=\"#Нейросетевой-подход\" data-toc-modified-id=\"Нейросетевой-подход-5.2\"><span class=\"toc-item-num\">5.2&nbsp;&nbsp;</span>Нейросетевой подход</a></span></li></ul></li><li><span><a href=\"#Отчет-о-проделанной-работе\" data-toc-modified-id=\"Отчет-о-проделанной-работе-6\"><span class=\"toc-item-num\">6&nbsp;&nbsp;</span>Отчет о проделанной работе</a></span><ul class=\"toc-item\"><li><span><a href=\"#Этапы-выполнения\" data-toc-modified-id=\"Этапы-выполнения-6.1\"><span class=\"toc-item-num\">6.1&nbsp;&nbsp;</span>Этапы выполнения</a></span></li><li><span><a href=\"#Анализ-признаков\" data-toc-modified-id=\"Анализ-признаков-6.2\"><span class=\"toc-item-num\">6.2&nbsp;&nbsp;</span>Анализ признаков</a></span></li><li><span><a href=\"#Использование-модели\" data-toc-modified-id=\"Использование-модели-6.3\"><span class=\"toc-item-num\">6.3&nbsp;&nbsp;</span>Использование модели</a></span></li></ul></li></ul></div>"
   ]
  },
  {
   "cell_type": "markdown",
   "id": "af4061d8",
   "metadata": {},
   "source": [
    "# Анализ отзывов на банки"
   ]
  },
  {
   "cell_type": "markdown",
   "id": "19823098",
   "metadata": {},
   "source": [
    "**Цель работы**\n",
    "\n",
    "В ходе данной работы необходимо провести EDA и ответить на поставленные вопросы. \n",
    "Во второй части работы необходимо создание модели, которая будет классифицировать отзывы на положительные и отрицательные.\n",
    "\n",
    "**Предоставленные данные**\n",
    "\n",
    "В нашем распоряжении имеется следующий набор данных взятых с сайта [banki.ru](https://www.banki.ru/): \n",
    "- body - сам отзыв\n",
    "- title - название отзыва\n",
    "- rating - оценка по отзыву, варьируется от 1 до 5\n",
    "- bank_name - название банка\n",
    "- date - дата публикации отзыва\n",
    "\n",
    "\n",
    "**План работы**\n",
    "\n",
    "1. **Загрузка и изучение данных.** Предварительно загружаем данные и изучаем их (объем данных, типы данных)\n",
    "\n",
    "\n",
    "2. **Предобработка данных.** При необходимости обработка пропущенных значений, изменение типов данных, поиск и удаление дубликатов и аномалий. \n",
    "\n",
    "\n",
    "3. **Исследовательский анализ данных.** Глубокое изучение данных, поиск зависимостей, ответы на поставленные вопросы, визуализация.\n",
    "\n",
    "\n",
    "4. **Подготовка данных для обучения.** Предобработка текстовых данных в понятный для предсказания вид, генерация новых признаков, удаление неинформативных признаков, выбор метрики. \n",
    "\n",
    "\n",
    "5. **Обучение модели.** Обучение модели на подготовленных данных и визуализация результатов работы.\n",
    "\n",
    "\n",
    "6. **Отчет о проделанной работе.**"
   ]
  },
  {
   "cell_type": "markdown",
   "id": "3d17fffd",
   "metadata": {},
   "source": [
    "## Загрузка и изучение данных"
   ]
  },
  {
   "cell_type": "code",
   "execution_count": 1,
   "id": "c12b94a1",
   "metadata": {},
   "outputs": [
    {
     "name": "stderr",
     "output_type": "stream",
     "text": [
      "D:\\anaconda3\\lib\\site-packages\\scipy\\__init__.py:155: UserWarning: A NumPy version >=1.18.5 and <1.25.0 is required for this version of SciPy (detected version 1.26.3\n",
      "  warnings.warn(f\"A NumPy version >={np_minversion} and <{np_maxversion}\"\n"
     ]
    }
   ],
   "source": [
    "# Импорт необходимых библиотек\n",
    "import re\n",
    "import warnings\n",
    "\n",
    "import numpy as np\n",
    "import pandas as pd\n",
    "import seaborn as sns\n",
    "import matplotlib.pyplot as plt\n",
    "from tqdm.notebook import tqdm\n",
    "\n",
    "import nltk\n",
    "from nltk.tokenize import word_tokenize\n",
    "import pymorphy2\n",
    "from gensim.models import Word2Vec\n",
    "from html import unescape\n",
    "\n",
    "from sklearn.model_selection import (\n",
    "    GridSearchCV, cross_val_score, StratifiedKFold, train_test_split\n",
    ")\n",
    "from sklearn.svm import SVC\n",
    "from sklearn.metrics import (\n",
    "    f1_score, accuracy_score, confusion_matrix, \n",
    "    classification_report, roc_auc_score, roc_curve\n",
    ")\n",
    "from sklearn.feature_extraction.text import TfidfVectorizer, CountVectorizer\n",
    "from sklearn.pipeline import Pipeline\n",
    "\n",
    "import torch\n",
    "import torch.nn as nn\n",
    "import torch.optim as optim\n",
    "from torch.utils.data import Dataset, DataLoader\n",
    "from torchsummary import summary"
   ]
  },
  {
   "cell_type": "code",
   "execution_count": 2,
   "id": "6bef6805",
   "metadata": {},
   "outputs": [],
   "source": [
    "tqdm.pandas()\n",
    "warnings.filterwarnings('ignore')"
   ]
  },
  {
   "cell_type": "code",
   "execution_count": 3,
   "id": "758e91e5",
   "metadata": {},
   "outputs": [],
   "source": [
    "# Загрузка данных\n",
    "data = pd.read_csv('parsed_reviews3.csv')"
   ]
  },
  {
   "cell_type": "code",
   "execution_count": 4,
   "id": "f9aeddc5",
   "metadata": {},
   "outputs": [
    {
     "name": "stdout",
     "output_type": "stream",
     "text": [
      "<class 'pandas.core.frame.DataFrame'>\n",
      "RangeIndex: 92735 entries, 0 to 92734\n",
      "Data columns (total 5 columns):\n",
      " #   Column     Non-Null Count  Dtype \n",
      "---  ------     --------------  ----- \n",
      " 0   body       92735 non-null  object\n",
      " 1   title      92735 non-null  object\n",
      " 2   rating     92735 non-null  int64 \n",
      " 3   bank_name  92735 non-null  object\n",
      " 4   date       92735 non-null  object\n",
      "dtypes: int64(1), object(4)\n",
      "memory usage: 3.5+ MB\n"
     ]
    },
    {
     "data": {
      "text/html": [
       "<div>\n",
       "<style scoped>\n",
       "    .dataframe tbody tr th:only-of-type {\n",
       "        vertical-align: middle;\n",
       "    }\n",
       "\n",
       "    .dataframe tbody tr th {\n",
       "        vertical-align: top;\n",
       "    }\n",
       "\n",
       "    .dataframe thead th {\n",
       "        text-align: right;\n",
       "    }\n",
       "</style>\n",
       "<table border=\"1\" class=\"dataframe\">\n",
       "  <thead>\n",
       "    <tr style=\"text-align: right;\">\n",
       "      <th></th>\n",
       "      <th>body</th>\n",
       "      <th>title</th>\n",
       "      <th>rating</th>\n",
       "      <th>bank_name</th>\n",
       "      <th>date</th>\n",
       "    </tr>\n",
       "  </thead>\n",
       "  <tbody>\n",
       "    <tr>\n",
       "      <th>0</th>\n",
       "      <td>&amp;lt;p&amp;gt;Добрый день&amp;lt;/p&amp;gt;\\r\\n&amp;lt;p&amp;gt;пиш...</td>\n",
       "      <td>Заблокировали средства</td>\n",
       "      <td>1</td>\n",
       "      <td>Еком Банк</td>\n",
       "      <td>2023-01-03 12:46:11</td>\n",
       "    </tr>\n",
       "    <tr>\n",
       "      <th>1</th>\n",
       "      <td>&amp;lt;p&amp;gt;При возврате просроченной задолженнос...</td>\n",
       "      <td>Возврат просроченной задолженномти</td>\n",
       "      <td>1</td>\n",
       "      <td>Тинькофф Банк</td>\n",
       "      <td>2023-01-03 12:31:46</td>\n",
       "    </tr>\n",
       "    <tr>\n",
       "      <th>2</th>\n",
       "      <td>&amp;lt;p&amp;gt;07.09.22 ю была оформлена кредитная к...</td>\n",
       "      <td>Ошибочное начисление комиссии, затягивание про...</td>\n",
       "      <td>1</td>\n",
       "      <td>Банк Открытие</td>\n",
       "      <td>2023-01-03 12:23:11</td>\n",
       "    </tr>\n",
       "    <tr>\n",
       "      <th>3</th>\n",
       "      <td>&amp;lt;p&amp;gt;Новый год начинается с приятностей)&amp;l...</td>\n",
       "      <td>Клиентоориентиванность 10 из 10</td>\n",
       "      <td>5</td>\n",
       "      <td>Тинькофф Банк</td>\n",
       "      <td>2023-01-03 12:16:07</td>\n",
       "    </tr>\n",
       "    <tr>\n",
       "      <th>4</th>\n",
       "      <td>&amp;lt;p&amp;gt;Увидела на сайте Газпромбанка акцию с...</td>\n",
       "      <td>Как Газпромбанк обманывает клиентов с акционны...</td>\n",
       "      <td>1</td>\n",
       "      <td>Газпромбанк</td>\n",
       "      <td>2023-01-03 12:12:36</td>\n",
       "    </tr>\n",
       "    <tr>\n",
       "      <th>5</th>\n",
       "      <td>&amp;lt;p&amp;gt;Суперудобный банк, нет комиссии за пе...</td>\n",
       "      <td>Отличный банк для ИПшников</td>\n",
       "      <td>5</td>\n",
       "      <td>Точка</td>\n",
       "      <td>2023-01-03 12:08:35</td>\n",
       "    </tr>\n",
       "    <tr>\n",
       "      <th>6</th>\n",
       "      <td>&amp;lt;p&amp;gt;Самый худший банк в стране!!! Сотрудн...</td>\n",
       "      <td>Мошенники</td>\n",
       "      <td>1</td>\n",
       "      <td>ВТБ</td>\n",
       "      <td>2023-01-03 12:04:02</td>\n",
       "    </tr>\n",
       "    <tr>\n",
       "      <th>7</th>\n",
       "      <td>&amp;lt;p&amp;gt;Добрый день. &amp;lt;/p&amp;gt;\\r\\n&amp;lt;p&amp;gt;В...</td>\n",
       "      <td>Звонки!</td>\n",
       "      <td>1</td>\n",
       "      <td>Почта Банк</td>\n",
       "      <td>2023-01-03 11:59:04</td>\n",
       "    </tr>\n",
       "    <tr>\n",
       "      <th>8</th>\n",
       "      <td>&amp;lt;p&amp;gt;Мне очень понравился тинькофф и как о...</td>\n",
       "      <td>Хороший банк</td>\n",
       "      <td>5</td>\n",
       "      <td>Тинькофф Банк</td>\n",
       "      <td>2023-01-03 11:58:32</td>\n",
       "    </tr>\n",
       "    <tr>\n",
       "      <th>9</th>\n",
       "      <td>&amp;lt;p&amp;gt;В декабре уже было написано, что 512 ...</td>\n",
       "      <td>Глюченный банк</td>\n",
       "      <td>1</td>\n",
       "      <td>Хоум Кредит Банк</td>\n",
       "      <td>2023-01-03 11:47:17</td>\n",
       "    </tr>\n",
       "  </tbody>\n",
       "</table>\n",
       "</div>"
      ],
      "text/plain": [
       "                                                body  \\\n",
       "0  &lt;p&gt;Добрый день&lt;/p&gt;\\r\\n&lt;p&gt;пиш...   \n",
       "1  &lt;p&gt;При возврате просроченной задолженнос...   \n",
       "2  &lt;p&gt;07.09.22 ю была оформлена кредитная к...   \n",
       "3  &lt;p&gt;Новый год начинается с приятностей)&l...   \n",
       "4  &lt;p&gt;Увидела на сайте Газпромбанка акцию с...   \n",
       "5  &lt;p&gt;Суперудобный банк, нет комиссии за пе...   \n",
       "6  &lt;p&gt;Самый худший банк в стране!!! Сотрудн...   \n",
       "7  &lt;p&gt;Добрый день. &lt;/p&gt;\\r\\n&lt;p&gt;В...   \n",
       "8  &lt;p&gt;Мне очень понравился тинькофф и как о...   \n",
       "9  &lt;p&gt;В декабре уже было написано, что 512 ...   \n",
       "\n",
       "                                               title  rating  \\\n",
       "0                             Заблокировали средства       1   \n",
       "1                 Возврат просроченной задолженномти       1   \n",
       "2  Ошибочное начисление комиссии, затягивание про...       1   \n",
       "3                    Клиентоориентиванность 10 из 10       5   \n",
       "4  Как Газпромбанк обманывает клиентов с акционны...       1   \n",
       "5                         Отличный банк для ИПшников       5   \n",
       "6                                          Мошенники       1   \n",
       "7                                            Звонки!       1   \n",
       "8                                       Хороший банк       5   \n",
       "9                                     Глюченный банк       1   \n",
       "\n",
       "          bank_name                 date  \n",
       "0         Еком Банк  2023-01-03 12:46:11  \n",
       "1     Тинькофф Банк  2023-01-03 12:31:46  \n",
       "2     Банк Открытие  2023-01-03 12:23:11  \n",
       "3     Тинькофф Банк  2023-01-03 12:16:07  \n",
       "4       Газпромбанк  2023-01-03 12:12:36  \n",
       "5             Точка  2023-01-03 12:08:35  \n",
       "6               ВТБ  2023-01-03 12:04:02  \n",
       "7        Почта Банк  2023-01-03 11:59:04  \n",
       "8     Тинькофф Банк  2023-01-03 11:58:32  \n",
       "9  Хоум Кредит Банк  2023-01-03 11:47:17  "
      ]
     },
     "execution_count": 4,
     "metadata": {},
     "output_type": "execute_result"
    }
   ],
   "source": [
    "# Вывод основной информации о таблице\n",
    "data.info()\n",
    "data.head(10)"
   ]
  },
  {
   "cell_type": "markdown",
   "id": "227acb55",
   "metadata": {},
   "source": [
    "**Вывод по пункту 1.** По предварительному анализу данных были сделаны выводы:\n",
    "\n",
    "1. В данных имеется 5 столбцов, из которых 4 имеют тип данных `object` и 1 имеет тип данных `int64`.\n",
    "2. В каждом столбце нашей таблицы имеется 92735 non-null значений, что может говорить об отсутствии пропусков в данных.\n",
    "\n",
    "Так же стоит отметить, что тип данных в столбце `date` стоит изменить для более удобного анализа."
   ]
  },
  {
   "cell_type": "markdown",
   "id": "7bb7a33b",
   "metadata": {},
   "source": [
    "## Предобработка данных"
   ]
  },
  {
   "cell_type": "markdown",
   "id": "72145b97",
   "metadata": {},
   "source": [
    "### Изменение типов данных"
   ]
  },
  {
   "cell_type": "markdown",
   "id": "973ed35d",
   "metadata": {},
   "source": [
    "Для дальнейшего извлечения необходимых частей даты и корректной визуализации данных изменим тип данных в столбце `date` на `datetime64`. Так же уберем время публикации отзыва, поскольку для дальнейшего анализа оно не имеет значения."
   ]
  },
  {
   "cell_type": "code",
   "execution_count": 5,
   "id": "c1a164da",
   "metadata": {},
   "outputs": [],
   "source": [
    "# Изменение типа данных в столбце 'date'\n",
    "data['date'] = pd.to_datetime(data.date, errors='coerce')\n",
    "data['date'] = data['date'].dt.date\n",
    "data['date'] = pd.to_datetime(data.date, format='%Y-%m-%d', errors='coerce')"
   ]
  },
  {
   "cell_type": "code",
   "execution_count": 6,
   "id": "8868794c",
   "metadata": {},
   "outputs": [
    {
     "name": "stdout",
     "output_type": "stream",
     "text": [
      "<class 'pandas.core.frame.DataFrame'>\n",
      "RangeIndex: 92735 entries, 0 to 92734\n",
      "Data columns (total 5 columns):\n",
      " #   Column     Non-Null Count  Dtype         \n",
      "---  ------     --------------  -----         \n",
      " 0   body       92735 non-null  object        \n",
      " 1   title      92735 non-null  object        \n",
      " 2   rating     92735 non-null  int64         \n",
      " 3   bank_name  92735 non-null  object        \n",
      " 4   date       92735 non-null  datetime64[ns]\n",
      "dtypes: datetime64[ns](1), int64(1), object(3)\n",
      "memory usage: 3.5+ MB\n"
     ]
    },
    {
     "data": {
      "text/html": [
       "<div>\n",
       "<style scoped>\n",
       "    .dataframe tbody tr th:only-of-type {\n",
       "        vertical-align: middle;\n",
       "    }\n",
       "\n",
       "    .dataframe tbody tr th {\n",
       "        vertical-align: top;\n",
       "    }\n",
       "\n",
       "    .dataframe thead th {\n",
       "        text-align: right;\n",
       "    }\n",
       "</style>\n",
       "<table border=\"1\" class=\"dataframe\">\n",
       "  <thead>\n",
       "    <tr style=\"text-align: right;\">\n",
       "      <th></th>\n",
       "      <th>body</th>\n",
       "      <th>title</th>\n",
       "      <th>rating</th>\n",
       "      <th>bank_name</th>\n",
       "      <th>date</th>\n",
       "    </tr>\n",
       "  </thead>\n",
       "  <tbody>\n",
       "    <tr>\n",
       "      <th>0</th>\n",
       "      <td>&amp;lt;p&amp;gt;Добрый день&amp;lt;/p&amp;gt;\\r\\n&amp;lt;p&amp;gt;пиш...</td>\n",
       "      <td>Заблокировали средства</td>\n",
       "      <td>1</td>\n",
       "      <td>Еком Банк</td>\n",
       "      <td>2023-01-03</td>\n",
       "    </tr>\n",
       "    <tr>\n",
       "      <th>1</th>\n",
       "      <td>&amp;lt;p&amp;gt;При возврате просроченной задолженнос...</td>\n",
       "      <td>Возврат просроченной задолженномти</td>\n",
       "      <td>1</td>\n",
       "      <td>Тинькофф Банк</td>\n",
       "      <td>2023-01-03</td>\n",
       "    </tr>\n",
       "  </tbody>\n",
       "</table>\n",
       "</div>"
      ],
      "text/plain": [
       "                                                body  \\\n",
       "0  &lt;p&gt;Добрый день&lt;/p&gt;\\r\\n&lt;p&gt;пиш...   \n",
       "1  &lt;p&gt;При возврате просроченной задолженнос...   \n",
       "\n",
       "                                title  rating      bank_name       date  \n",
       "0              Заблокировали средства       1      Еком Банк 2023-01-03  \n",
       "1  Возврат просроченной задолженномти       1  Тинькофф Банк 2023-01-03  "
      ]
     },
     "execution_count": 6,
     "metadata": {},
     "output_type": "execute_result"
    }
   ],
   "source": [
    "data.info()\n",
    "data.head(2)"
   ]
  },
  {
   "cell_type": "markdown",
   "id": "de406c80",
   "metadata": {},
   "source": [
    "### Изучение пропусков"
   ]
  },
  {
   "cell_type": "markdown",
   "id": "88a560e4",
   "metadata": {},
   "source": [
    "Проверим наличие пропусков и дубликатов в наших данных"
   ]
  },
  {
   "cell_type": "code",
   "execution_count": 7,
   "id": "455a712e",
   "metadata": {},
   "outputs": [
    {
     "data": {
      "text/html": [
       "<style type=\"text/css\">\n",
       "#T_ad646_row0_col0, #T_ad646_row1_col0, #T_ad646_row2_col0, #T_ad646_row3_col0, #T_ad646_row4_col0 {\n",
       "  background-color: #f7fcf5;\n",
       "  color: #000000;\n",
       "}\n",
       "</style>\n",
       "<table id=\"T_ad646\">\n",
       "  <thead>\n",
       "    <tr>\n",
       "      <th class=\"blank level0\" >&nbsp;</th>\n",
       "      <th id=\"T_ad646_level0_col0\" class=\"col_heading level0 col0\" >0</th>\n",
       "    </tr>\n",
       "  </thead>\n",
       "  <tbody>\n",
       "    <tr>\n",
       "      <th id=\"T_ad646_level0_row0\" class=\"row_heading level0 row0\" >body</th>\n",
       "      <td id=\"T_ad646_row0_col0\" class=\"data row0 col0\" >0.0%</td>\n",
       "    </tr>\n",
       "    <tr>\n",
       "      <th id=\"T_ad646_level0_row1\" class=\"row_heading level0 row1\" >title</th>\n",
       "      <td id=\"T_ad646_row1_col0\" class=\"data row1 col0\" >0.0%</td>\n",
       "    </tr>\n",
       "    <tr>\n",
       "      <th id=\"T_ad646_level0_row2\" class=\"row_heading level0 row2\" >rating</th>\n",
       "      <td id=\"T_ad646_row2_col0\" class=\"data row2 col0\" >0.0%</td>\n",
       "    </tr>\n",
       "    <tr>\n",
       "      <th id=\"T_ad646_level0_row3\" class=\"row_heading level0 row3\" >bank_name</th>\n",
       "      <td id=\"T_ad646_row3_col0\" class=\"data row3 col0\" >0.0%</td>\n",
       "    </tr>\n",
       "    <tr>\n",
       "      <th id=\"T_ad646_level0_row4\" class=\"row_heading level0 row4\" >date</th>\n",
       "      <td id=\"T_ad646_row4_col0\" class=\"data row4 col0\" >0.0%</td>\n",
       "    </tr>\n",
       "  </tbody>\n",
       "</table>\n"
      ],
      "text/plain": [
       "<pandas.io.formats.style.Styler at 0x2046a7516a0>"
      ]
     },
     "execution_count": 7,
     "metadata": {},
     "output_type": "execute_result"
    }
   ],
   "source": [
    "# Таблица с процентами пропусков для каждого поля\n",
    "pd.DataFrame(data.isna().mean()*100).style.format('{:.1f}%').background_gradient('Greens')"
   ]
  },
  {
   "cell_type": "markdown",
   "id": "d89426bf",
   "metadata": {},
   "source": [
    "**Вывод:** По полученной таблице видно, что пропуски в данных отсутствуют."
   ]
  },
  {
   "cell_type": "markdown",
   "id": "563dd2dc",
   "metadata": {},
   "source": [
    "### Изучение дубликатов"
   ]
  },
  {
   "cell_type": "code",
   "execution_count": 8,
   "id": "f75efa35",
   "metadata": {},
   "outputs": [
    {
     "name": "stdout",
     "output_type": "stream",
     "text": [
      "Количество дубликатов в таблице равно 254\n"
     ]
    }
   ],
   "source": [
    "count_of_miss = data.duplicated().sum()\n",
    "print(f'Количество дубликатов в таблице равно {count_of_miss}')"
   ]
  },
  {
   "cell_type": "markdown",
   "id": "960bf9df",
   "metadata": {},
   "source": [
    "Посмотрим в какой промежуток времени возникли дубликаты. Это может помочь точнее установить причину их возникновения."
   ]
  },
  {
   "cell_type": "code",
   "execution_count": 9,
   "id": "4a90e62c",
   "metadata": {},
   "outputs": [
    {
     "data": {
      "text/html": [
       "<div>\n",
       "<style scoped>\n",
       "    .dataframe tbody tr th:only-of-type {\n",
       "        vertical-align: middle;\n",
       "    }\n",
       "\n",
       "    .dataframe tbody tr th {\n",
       "        vertical-align: top;\n",
       "    }\n",
       "\n",
       "    .dataframe thead th {\n",
       "        text-align: right;\n",
       "    }\n",
       "</style>\n",
       "<table border=\"1\" class=\"dataframe\">\n",
       "  <thead>\n",
       "    <tr style=\"text-align: right;\">\n",
       "      <th></th>\n",
       "      <th>body</th>\n",
       "      <th>title</th>\n",
       "      <th>rating</th>\n",
       "      <th>bank_name</th>\n",
       "      <th>date</th>\n",
       "    </tr>\n",
       "  </thead>\n",
       "  <tbody>\n",
       "    <tr>\n",
       "      <th>305</th>\n",
       "      <td>&amp;lt;p&amp;gt;Здравствуйте🙂Хочу поблагодарить Совко...</td>\n",
       "      <td>Быстрое решение моего вопроса по кредиту плюс ...</td>\n",
       "      <td>5</td>\n",
       "      <td>Совкомбанк</td>\n",
       "      <td>2023-01-01</td>\n",
       "    </tr>\n",
       "    <tr>\n",
       "      <th>306</th>\n",
       "      <td>&amp;lt;p&amp;gt;Здравствуйте🙂Хочу поблагодарить Совко...</td>\n",
       "      <td>Быстрое решение моего вопроса по кредиту плюс ...</td>\n",
       "      <td>5</td>\n",
       "      <td>Совкомбанк</td>\n",
       "      <td>2023-01-01</td>\n",
       "    </tr>\n",
       "    <tr>\n",
       "      <th>899</th>\n",
       "      <td>&amp;lt;p&amp;gt;Обратился 3 декабря в районе 19 часов...</td>\n",
       "      <td>открытие счёта и  получение банковской карты</td>\n",
       "      <td>5</td>\n",
       "      <td>Хоум Кредит Банк</td>\n",
       "      <td>2022-12-30</td>\n",
       "    </tr>\n",
       "    <tr>\n",
       "      <th>997</th>\n",
       "      <td>&amp;lt;p&amp;gt;С самого открытия являемся клиентами ...</td>\n",
       "      <td>Сняли деньги за перевод физ.лицу, а услугу не ...</td>\n",
       "      <td>1</td>\n",
       "      <td>Норвик Банк</td>\n",
       "      <td>2022-12-30</td>\n",
       "    </tr>\n",
       "    <tr>\n",
       "      <th>1611</th>\n",
       "      <td>&amp;lt;p&amp;gt;22.12.2022 в чате своего ЛК мобильног...</td>\n",
       "      <td>Отсутствие информации о порядке конвертации ва...</td>\n",
       "      <td>2</td>\n",
       "      <td>Росбанк</td>\n",
       "      <td>2022-12-29</td>\n",
       "    </tr>\n",
       "  </tbody>\n",
       "</table>\n",
       "</div>"
      ],
      "text/plain": [
       "                                                   body  \\\n",
       "305   &lt;p&gt;Здравствуйте🙂Хочу поблагодарить Совко...   \n",
       "306   &lt;p&gt;Здравствуйте🙂Хочу поблагодарить Совко...   \n",
       "899   &lt;p&gt;Обратился 3 декабря в районе 19 часов...   \n",
       "997   &lt;p&gt;С самого открытия являемся клиентами ...   \n",
       "1611  &lt;p&gt;22.12.2022 в чате своего ЛК мобильног...   \n",
       "\n",
       "                                                  title  rating  \\\n",
       "305   Быстрое решение моего вопроса по кредиту плюс ...       5   \n",
       "306   Быстрое решение моего вопроса по кредиту плюс ...       5   \n",
       "899        открытие счёта и  получение банковской карты       5   \n",
       "997   Сняли деньги за перевод физ.лицу, а услугу не ...       1   \n",
       "1611  Отсутствие информации о порядке конвертации ва...       2   \n",
       "\n",
       "             bank_name       date  \n",
       "305         Совкомбанк 2023-01-01  \n",
       "306         Совкомбанк 2023-01-01  \n",
       "899   Хоум Кредит Банк 2022-12-30  \n",
       "997        Норвик Банк 2022-12-30  \n",
       "1611           Росбанк 2022-12-29  "
      ]
     },
     "execution_count": 9,
     "metadata": {},
     "output_type": "execute_result"
    }
   ],
   "source": [
    "# Переменная, хранящая задвоенные строки\n",
    "data_duplicated = data.loc[data.duplicated() == True]\n",
    "data_duplicated.head()"
   ]
  },
  {
   "cell_type": "code",
   "execution_count": 10,
   "id": "e78095de",
   "metadata": {},
   "outputs": [
    {
     "name": "stdout",
     "output_type": "stream",
     "text": [
      "Таблица 1 - Банки с наибольшим числом дубликатов\n"
     ]
    },
    {
     "data": {
      "text/html": [
       "<div>\n",
       "<style scoped>\n",
       "    .dataframe tbody tr th:only-of-type {\n",
       "        vertical-align: middle;\n",
       "    }\n",
       "\n",
       "    .dataframe tbody tr th {\n",
       "        vertical-align: top;\n",
       "    }\n",
       "\n",
       "    .dataframe thead th {\n",
       "        text-align: right;\n",
       "    }\n",
       "</style>\n",
       "<table border=\"1\" class=\"dataframe\">\n",
       "  <thead>\n",
       "    <tr style=\"text-align: right;\">\n",
       "      <th></th>\n",
       "      <th>bank_name</th>\n",
       "      <th>count</th>\n",
       "      <th>mean_rating</th>\n",
       "    </tr>\n",
       "  </thead>\n",
       "  <tbody>\n",
       "    <tr>\n",
       "      <th>16</th>\n",
       "      <td>Тинькофф Банк</td>\n",
       "      <td>172</td>\n",
       "      <td>4.906977</td>\n",
       "    </tr>\n",
       "    <tr>\n",
       "      <th>18</th>\n",
       "      <td>Хоум Кредит Банк</td>\n",
       "      <td>22</td>\n",
       "      <td>4.409091</td>\n",
       "    </tr>\n",
       "    <tr>\n",
       "      <th>15</th>\n",
       "      <td>Совкомбанк</td>\n",
       "      <td>19</td>\n",
       "      <td>4.789474</td>\n",
       "    </tr>\n",
       "    <tr>\n",
       "      <th>7</th>\n",
       "      <td>Модульбанк</td>\n",
       "      <td>9</td>\n",
       "      <td>5.000000</td>\n",
       "    </tr>\n",
       "    <tr>\n",
       "      <th>12</th>\n",
       "      <td>Россельхозбанк</td>\n",
       "      <td>5</td>\n",
       "      <td>5.000000</td>\n",
       "    </tr>\n",
       "  </tbody>\n",
       "</table>\n",
       "</div>"
      ],
      "text/plain": [
       "           bank_name  count  mean_rating\n",
       "16     Тинькофф Банк    172     4.906977\n",
       "18  Хоум Кредит Банк     22     4.409091\n",
       "15        Совкомбанк     19     4.789474\n",
       "7         Модульбанк      9     5.000000\n",
       "12    Россельхозбанк      5     5.000000"
      ]
     },
     "execution_count": 10,
     "metadata": {},
     "output_type": "execute_result"
    }
   ],
   "source": [
    "# Банки с наибольшим числом дубликатов\n",
    "data_grouped_bank = ( \n",
    "    data_duplicated.groupby(by='bank_name')\n",
    "    .agg({'date': 'count', 'rating': 'mean'})\n",
    "    .rename(columns=({'date': 'count', 'rating': 'mean_rating'}))\n",
    "    .reset_index()\n",
    ")\n",
    "print('Таблица 1 - Банки с наибольшим числом дубликатов')\n",
    "data_grouped_bank.sort_values(by='count', ascending=False).head()"
   ]
  },
  {
   "cell_type": "code",
   "execution_count": 11,
   "id": "129ae712",
   "metadata": {},
   "outputs": [
    {
     "name": "stdout",
     "output_type": "stream",
     "text": [
      "Таблица 2 - Даты с наибольшим количеством дубликатов\n"
     ]
    },
    {
     "data": {
      "text/html": [
       "<div>\n",
       "<style scoped>\n",
       "    .dataframe tbody tr th:only-of-type {\n",
       "        vertical-align: middle;\n",
       "    }\n",
       "\n",
       "    .dataframe tbody tr th {\n",
       "        vertical-align: top;\n",
       "    }\n",
       "\n",
       "    .dataframe thead th {\n",
       "        text-align: right;\n",
       "    }\n",
       "</style>\n",
       "<table border=\"1\" class=\"dataframe\">\n",
       "  <thead>\n",
       "    <tr style=\"text-align: right;\">\n",
       "      <th></th>\n",
       "      <th>date</th>\n",
       "      <th>count</th>\n",
       "      <th>mean_rating</th>\n",
       "    </tr>\n",
       "  </thead>\n",
       "  <tbody>\n",
       "    <tr>\n",
       "      <th>4</th>\n",
       "      <td>2022-10-28</td>\n",
       "      <td>75</td>\n",
       "      <td>4.933333</td>\n",
       "    </tr>\n",
       "    <tr>\n",
       "      <th>30</th>\n",
       "      <td>2022-12-23</td>\n",
       "      <td>38</td>\n",
       "      <td>3.894737</td>\n",
       "    </tr>\n",
       "    <tr>\n",
       "      <th>5</th>\n",
       "      <td>2022-10-29</td>\n",
       "      <td>35</td>\n",
       "      <td>4.942857</td>\n",
       "    </tr>\n",
       "    <tr>\n",
       "      <th>34</th>\n",
       "      <td>2022-12-28</td>\n",
       "      <td>17</td>\n",
       "      <td>3.823529</td>\n",
       "    </tr>\n",
       "    <tr>\n",
       "      <th>3</th>\n",
       "      <td>2022-10-27</td>\n",
       "      <td>12</td>\n",
       "      <td>5.000000</td>\n",
       "    </tr>\n",
       "  </tbody>\n",
       "</table>\n",
       "</div>"
      ],
      "text/plain": [
       "         date  count  mean_rating\n",
       "4  2022-10-28     75     4.933333\n",
       "30 2022-12-23     38     3.894737\n",
       "5  2022-10-29     35     4.942857\n",
       "34 2022-12-28     17     3.823529\n",
       "3  2022-10-27     12     5.000000"
      ]
     },
     "metadata": {},
     "output_type": "display_data"
    },
    {
     "data": {
      "image/png": "[encoded data removed]",
      "text/plain": [
       "<Figure size 1500x1000 with 1 Axes>"
      ]
     },
     "metadata": {},
     "output_type": "display_data"
    }
   ],
   "source": [
    "# Подсчет кол-ва строк для каждой даты\n",
    "data_grouped = ( \n",
    "    data_duplicated.groupby(by='date')\n",
    "    .agg({'date': 'count', 'rating': 'mean'})\n",
    "    .rename(columns=({'date': 'count', 'rating': 'mean_rating'}))\n",
    "    .reset_index()\n",
    ")\n",
    "\n",
    "# Сводка по самым большим кол-вам дубликатов\n",
    "print('Таблица 2 - Даты с наибольшим количеством дубликатов')\n",
    "display(data_grouped.sort_values(by='count', ascending=False).head())\n",
    "\n",
    "# Построение зависимости кол-ва пропусков от даты\n",
    "plt.figure(figsize=(15, 10))\n",
    "plt.plot(data_grouped['date'], data_grouped['count'], marker='*', color='green')\n",
    "plt.title('Зависимость количества пропусков от даты')\n",
    "plt.xlabel('Дата\\n\\nРисунок 1')\n",
    "plt.ylabel('Количество строк')\n",
    "plt.xticks(rotation=45)\n",
    "plt.grid()"
   ]
  },
  {
   "cell_type": "markdown",
   "id": "4d7ae16d",
   "metadata": {},
   "source": [
    "Для дальнейшего анализа и обучения модели было принято решение удалить дубликаты. "
   ]
  },
  {
   "cell_type": "code",
   "execution_count": 12,
   "id": "f1d47ee7",
   "metadata": {},
   "outputs": [
    {
     "name": "stdout",
     "output_type": "stream",
     "text": [
      "<class 'pandas.core.frame.DataFrame'>\n",
      "Index: 92481 entries, 0 to 92734\n",
      "Data columns (total 5 columns):\n",
      " #   Column     Non-Null Count  Dtype         \n",
      "---  ------     --------------  -----         \n",
      " 0   body       92481 non-null  object        \n",
      " 1   title      92481 non-null  object        \n",
      " 2   rating     92481 non-null  int64         \n",
      " 3   bank_name  92481 non-null  object        \n",
      " 4   date       92481 non-null  datetime64[ns]\n",
      "dtypes: datetime64[ns](1), int64(1), object(3)\n",
      "memory usage: 4.2+ MB\n"
     ]
    }
   ],
   "source": [
    "data = data.drop_duplicates()\n",
    "data.info()"
   ]
  },
  {
   "cell_type": "markdown",
   "id": "464afc0c",
   "metadata": {},
   "source": [
    "**Вывод:** Из рисунка 1 видно, что дубликаты возникают не равномерно, а имеют характер всплесков в определенные моменты времени, что может указывать на целенаправленное их создание с целью повышения средней оценки банка. Это также подтверждается таблицей 2, где высокое количество дубликатов сопровождается высокой средней оценкой. \n",
    "\n",
    "Стоит отметить, что распределение количества дубликатов для различных банков неоднородно. Например, \"Тинькофф Банк\" выделяется на фоне других банков. Это может быть связано как с его популярностью, так и с намеренным увеличением средней оценки.\n",
    "\n",
    "Для более объективного анализа и последующего обучения модели было принято удалить явные дубликаты. В результате чего объем наших данных сократился на 0.27 процента относительно исходного количества строк. "
   ]
  },
  {
   "cell_type": "markdown",
   "id": "5ab21336",
   "metadata": {},
   "source": [
    "### Поиск аномалий"
   ]
  },
  {
   "cell_type": "markdown",
   "id": "98a25416",
   "metadata": {},
   "source": [
    "Для поиска аномалий в поле `rating` воспользуемся статистичекским описанием данных с помощью метода `describe()`"
   ]
  },
  {
   "cell_type": "code",
   "execution_count": 13,
   "id": "44f6593d",
   "metadata": {},
   "outputs": [
    {
     "data": {
      "text/html": [
       "<div>\n",
       "<style scoped>\n",
       "    .dataframe tbody tr th:only-of-type {\n",
       "        vertical-align: middle;\n",
       "    }\n",
       "\n",
       "    .dataframe tbody tr th {\n",
       "        vertical-align: top;\n",
       "    }\n",
       "\n",
       "    .dataframe thead th {\n",
       "        text-align: right;\n",
       "    }\n",
       "</style>\n",
       "<table border=\"1\" class=\"dataframe\">\n",
       "  <thead>\n",
       "    <tr style=\"text-align: right;\">\n",
       "      <th></th>\n",
       "      <th>rating</th>\n",
       "      <th>date</th>\n",
       "    </tr>\n",
       "  </thead>\n",
       "  <tbody>\n",
       "    <tr>\n",
       "      <th>count</th>\n",
       "      <td>92481.000000</td>\n",
       "      <td>92481</td>\n",
       "    </tr>\n",
       "    <tr>\n",
       "      <th>mean</th>\n",
       "      <td>4.062726</td>\n",
       "      <td>2022-11-11 09:45:49.135497984</td>\n",
       "    </tr>\n",
       "    <tr>\n",
       "      <th>min</th>\n",
       "      <td>1.000000</td>\n",
       "      <td>2022-09-02 00:00:00</td>\n",
       "    </tr>\n",
       "    <tr>\n",
       "      <th>25%</th>\n",
       "      <td>4.000000</td>\n",
       "      <td>2022-10-27 00:00:00</td>\n",
       "    </tr>\n",
       "    <tr>\n",
       "      <th>50%</th>\n",
       "      <td>5.000000</td>\n",
       "      <td>2022-11-08 00:00:00</td>\n",
       "    </tr>\n",
       "    <tr>\n",
       "      <th>75%</th>\n",
       "      <td>5.000000</td>\n",
       "      <td>2022-12-07 00:00:00</td>\n",
       "    </tr>\n",
       "    <tr>\n",
       "      <th>max</th>\n",
       "      <td>5.000000</td>\n",
       "      <td>2023-01-03 00:00:00</td>\n",
       "    </tr>\n",
       "    <tr>\n",
       "      <th>std</th>\n",
       "      <td>1.621557</td>\n",
       "      <td>NaN</td>\n",
       "    </tr>\n",
       "  </tbody>\n",
       "</table>\n",
       "</div>"
      ],
      "text/plain": [
       "             rating                           date\n",
       "count  92481.000000                          92481\n",
       "mean       4.062726  2022-11-11 09:45:49.135497984\n",
       "min        1.000000            2022-09-02 00:00:00\n",
       "25%        4.000000            2022-10-27 00:00:00\n",
       "50%        5.000000            2022-11-08 00:00:00\n",
       "75%        5.000000            2022-12-07 00:00:00\n",
       "max        5.000000            2023-01-03 00:00:00\n",
       "std        1.621557                            NaN"
      ]
     },
     "execution_count": 13,
     "metadata": {},
     "output_type": "execute_result"
    }
   ],
   "source": [
    "data.describe()"
   ]
  },
  {
   "cell_type": "markdown",
   "id": "63516a5f",
   "metadata": {},
   "source": [
    "**Вывод:** Из представленной таблицы видно, что в наших данных отсутствуют аномалии, поскольку оценки находятся в диапазоне от минимального значения 1 до максимального значения 5. Кроме того, мы можем утверждать, что все оценки представлены целыми числами, так как хранятся с типом данных `int64`."
   ]
  },
  {
   "cell_type": "markdown",
   "id": "75512d17",
   "metadata": {},
   "source": [
    "**Вывод по пункту 2.** \n",
    "\n",
    "\n",
    "- В реузльтате выполнения пункта 2 мы убедились, что в нашем наборе данных отсутствуют пропуски и аномалии. \n",
    "\n",
    "\n",
    "- Изменили тип данных в столбце `date` на наиболее подходящий для дальнейшего анализа\n",
    "\n",
    "\n",
    "- Обнаружили 254 дубликата в нашем наборе данных, изучили их и приняли решение об их удалении, сократив объем нашей выбрки на 0.27 процентов относительно общего объема данных. "
   ]
  },
  {
   "cell_type": "markdown",
   "id": "e471d2f5",
   "metadata": {},
   "source": [
    "## Исследовательский анализ данных"
   ]
  },
  {
   "cell_type": "markdown",
   "id": "0f6dfcd7",
   "metadata": {},
   "source": [
    "На данном этапе работы мы проведем исследовательский анализ для более глубокого изучения даннных. Так же ответим на поставленные вопросы и проведем дополнительный EDA."
   ]
  },
  {
   "cell_type": "markdown",
   "id": "9f1db3de",
   "metadata": {},
   "source": [
    "**1. Назвать топ-15 банков по числу отзывов.**\n",
    "\n",
    "**2. Какой банк из числа топ-15 по количеству отзывов имеет самый высокий средний рейтинг?**"
   ]
  },
  {
   "cell_type": "markdown",
   "id": "ba82849e",
   "metadata": {},
   "source": [
    "Для начала сгруппируем банки по кол-ву отзывов и средней оценки."
   ]
  },
  {
   "cell_type": "code",
   "execution_count": 14,
   "id": "441aa793",
   "metadata": {},
   "outputs": [],
   "source": [
    "# Сгруппируем банки по кол-ву отзывов и среднему рейтингу\n",
    "top_15_bank = (\n",
    "    data.groupby(by='bank_name').agg({'body' : 'count', 'rating' : 'mean'})\n",
    "    .rename(columns={'body': 'count', 'rating': 'mean_rating'})\n",
    "    .reset_index()\n",
    ")"
   ]
  },
  {
   "cell_type": "code",
   "execution_count": 15,
   "id": "e10d04cd",
   "metadata": {},
   "outputs": [
    {
     "data": {
      "text/html": [
       "<div>\n",
       "<style scoped>\n",
       "    .dataframe tbody tr th:only-of-type {\n",
       "        vertical-align: middle;\n",
       "    }\n",
       "\n",
       "    .dataframe tbody tr th {\n",
       "        vertical-align: top;\n",
       "    }\n",
       "\n",
       "    .dataframe thead th {\n",
       "        text-align: right;\n",
       "    }\n",
       "</style>\n",
       "<table border=\"1\" class=\"dataframe\">\n",
       "  <thead>\n",
       "    <tr style=\"text-align: right;\">\n",
       "      <th></th>\n",
       "      <th>bank_name</th>\n",
       "      <th>count</th>\n",
       "      <th>mean_rating</th>\n",
       "    </tr>\n",
       "  </thead>\n",
       "  <tbody>\n",
       "    <tr>\n",
       "      <th>0</th>\n",
       "      <td>Тинькофф Банк</td>\n",
       "      <td>44692</td>\n",
       "      <td>4.783093</td>\n",
       "    </tr>\n",
       "    <tr>\n",
       "      <th>1</th>\n",
       "      <td>Хоум Кредит Банк</td>\n",
       "      <td>9288</td>\n",
       "      <td>4.505814</td>\n",
       "    </tr>\n",
       "    <tr>\n",
       "      <th>2</th>\n",
       "      <td>Совкомбанк</td>\n",
       "      <td>6092</td>\n",
       "      <td>4.263132</td>\n",
       "    </tr>\n",
       "    <tr>\n",
       "      <th>3</th>\n",
       "      <td>ВТБ</td>\n",
       "      <td>3812</td>\n",
       "      <td>1.950420</td>\n",
       "    </tr>\n",
       "    <tr>\n",
       "      <th>4</th>\n",
       "      <td>СберБанк</td>\n",
       "      <td>3486</td>\n",
       "      <td>2.305221</td>\n",
       "    </tr>\n",
       "    <tr>\n",
       "      <th>5</th>\n",
       "      <td>Альфа-Банк</td>\n",
       "      <td>3368</td>\n",
       "      <td>1.714371</td>\n",
       "    </tr>\n",
       "    <tr>\n",
       "      <th>6</th>\n",
       "      <td>Россельхозбанк</td>\n",
       "      <td>3059</td>\n",
       "      <td>4.455051</td>\n",
       "    </tr>\n",
       "    <tr>\n",
       "      <th>7</th>\n",
       "      <td>Банк Открытие</td>\n",
       "      <td>1894</td>\n",
       "      <td>3.543295</td>\n",
       "    </tr>\n",
       "    <tr>\n",
       "      <th>8</th>\n",
       "      <td>МТС Банк</td>\n",
       "      <td>1542</td>\n",
       "      <td>2.901427</td>\n",
       "    </tr>\n",
       "    <tr>\n",
       "      <th>9</th>\n",
       "      <td>Модульбанк</td>\n",
       "      <td>1451</td>\n",
       "      <td>4.778773</td>\n",
       "    </tr>\n",
       "    <tr>\n",
       "      <th>10</th>\n",
       "      <td>Газпромбанк</td>\n",
       "      <td>1313</td>\n",
       "      <td>2.146230</td>\n",
       "    </tr>\n",
       "    <tr>\n",
       "      <th>11</th>\n",
       "      <td>Московский Кредитный Банк</td>\n",
       "      <td>1249</td>\n",
       "      <td>4.240192</td>\n",
       "    </tr>\n",
       "    <tr>\n",
       "      <th>12</th>\n",
       "      <td>Азиатско-Тихоокеанский Банк</td>\n",
       "      <td>1000</td>\n",
       "      <td>4.718000</td>\n",
       "    </tr>\n",
       "    <tr>\n",
       "      <th>13</th>\n",
       "      <td>Уральский Банк Реконструкции и Развития</td>\n",
       "      <td>746</td>\n",
       "      <td>3.298928</td>\n",
       "    </tr>\n",
       "    <tr>\n",
       "      <th>14</th>\n",
       "      <td>Русский Стандарт</td>\n",
       "      <td>687</td>\n",
       "      <td>4.167394</td>\n",
       "    </tr>\n",
       "  </tbody>\n",
       "</table>\n",
       "</div>"
      ],
      "text/plain": [
       "                                  bank_name  count  mean_rating\n",
       "0                             Тинькофф Банк  44692     4.783093\n",
       "1                          Хоум Кредит Банк   9288     4.505814\n",
       "2                                Совкомбанк   6092     4.263132\n",
       "3                                       ВТБ   3812     1.950420\n",
       "4                                  СберБанк   3486     2.305221\n",
       "5                                Альфа-Банк   3368     1.714371\n",
       "6                            Россельхозбанк   3059     4.455051\n",
       "7                             Банк Открытие   1894     3.543295\n",
       "8                                  МТС Банк   1542     2.901427\n",
       "9                                Модульбанк   1451     4.778773\n",
       "10                              Газпромбанк   1313     2.146230\n",
       "11                Московский Кредитный Банк   1249     4.240192\n",
       "12              Азиатско-Тихоокеанский Банк   1000     4.718000\n",
       "13  Уральский Банк Реконструкции и Развития    746     3.298928\n",
       "14                         Русский Стандарт    687     4.167394"
      ]
     },
     "execution_count": 15,
     "metadata": {},
     "output_type": "execute_result"
    }
   ],
   "source": [
    "top_15_bank = top_15_bank.nlargest(15, 'count')\n",
    "top_15_bank = top_15_bank.reset_index(drop=True)\n",
    "top_15_bank"
   ]
  },
  {
   "cell_type": "code",
   "execution_count": 16,
   "id": "659f0165",
   "metadata": {},
   "outputs": [
    {
     "data": {
      "text/plain": [
       "<matplotlib.legend.Legend at 0x2041ad21190>"
      ]
     },
     "execution_count": 16,
     "metadata": {},
     "output_type": "execute_result"
    },
    {
     "data": {
      "image/png": "[encoded data removed]",
      "text/plain": [
       "<Figure size 1500x850 with 2 Axes>"
      ]
     },
     "metadata": {},
     "output_type": "display_data"
    }
   ],
   "source": [
    "fig, ax1 = plt.subplots(figsize=(15, 8.5))\n",
    "# Построение столбчатого графика\n",
    "ax1.bar(top_15_bank['bank_name'], top_15_bank['count'], color='green', alpha=0.8, label='Количество отзывов')\n",
    "ax1.set_xlabel('Банк\\n\\nРисунок 2')\n",
    "ax1.set_ylabel('Количество отзывов')\n",
    "ax1.set_xticklabels(top_15_bank['bank_name'], rotation=45, ha='right')\n",
    "plt.grid()\n",
    "\n",
    "# Построение графика средней оценки\n",
    "ax2 = ax1.twinx()\n",
    "ax2.plot(top_15_bank['bank_name'], top_15_bank['mean_rating'], color='cornflowerblue', marker='o', label='Средний рейтинг')\n",
    "ax2.set_ylabel('Средний рейтинг')\n",
    "\n",
    "\n",
    "plt.title('Количество отзывов и средний рейтинг для банков')\n",
    "fig.tight_layout()\n",
    "plt.legend(loc='upper left', bbox_to_anchor=(0.85, 1))"
   ]
  },
  {
   "cell_type": "code",
   "execution_count": 17,
   "id": "a8ddb047",
   "metadata": {},
   "outputs": [
    {
     "name": "stdout",
     "output_type": "stream",
     "text": [
      "Топ-15 банков по количеству отзывов:\n",
      "\n",
      "Тинькофф Банк\n",
      "Хоум Кредит Банк\n",
      "Совкомбанк\n",
      "ВТБ\n",
      "СберБанк\n",
      "Альфа-Банк\n",
      "Россельхозбанк\n",
      "Банк Открытие\n",
      "МТС Банк\n",
      "Модульбанк\n",
      "Газпромбанк\n",
      "Московский Кредитный Банк\n",
      "Азиатско-Тихоокеанский Банк\n",
      "Уральский Банк Реконструкции и Развития\n",
      "Русский Стандарт\n",
      "\n",
      "Самый высокий средний рейтинг имеет Тинькофф Банк\n"
     ]
    }
   ],
   "source": [
    "top_15_banks_list = '\\n'.join(top_15_bank['bank_name'])\n",
    "print(f'Топ-15 банков по количеству отзывов:\\n\\n{top_15_banks_list}\\n')\n",
    "\n",
    "max_rating_bank = top_15_bank.loc[top_15_bank['mean_rating'].idxmax(), 'bank_name']\n",
    "print(f'Самый высокий средний рейтинг имеет {max_rating_bank}')"
   ]
  },
  {
   "cell_type": "markdown",
   "id": "412d1b8e",
   "metadata": {},
   "source": [
    "**Вывод:** Из графика, представленного на рисунке 2, заметно, что среди топ-15 банков по количеству отзывов Тинькофф Банк выделяется особенно сильно, имея 44692 отзыва. Что почти в 4,8 раза превышает количество отзывов у банка, занимающего второе место - Хоум Кредит Банка. Также следует отметить, что Тинькофф Банк обладает наивысшим средним рейтингом среди представленных банков (4,783). Однако, также присутствуют банки, с близкими к Тинькофф рейтингами, такие как Модуль Банк (4,779) и Азиатсков-Тихоокеанский Банк (4,718)."
   ]
  },
  {
   "cell_type": "markdown",
   "id": "52dc2679",
   "metadata": {},
   "source": [
    "**3. Сделать выводы об изменении среднего рейтинга банков по месяцам из топ-5 банков по числу отзывов.**"
   ]
  },
  {
   "cell_type": "code",
   "execution_count": 18,
   "id": "01202e6e",
   "metadata": {},
   "outputs": [],
   "source": [
    "# Создание таблицы со средним рейтингом топ-5 банков по числу отзывов\n",
    "top_5_bank_index = data['bank_name'].value_counts().nlargest(5).index\n",
    "top_5_banks = data[data['bank_name'].isin(top_5_bank_index)].copy()\n",
    "top_5_banks['year_month'] = top_5_banks['date'].dt.to_period('M')\n",
    "top_5_banks_grouped = top_5_banks.groupby(['year_month', 'bank_name'])\n",
    "top_5_banks_grouped = top_5_banks_grouped['rating'].mean().reset_index()"
   ]
  },
  {
   "cell_type": "code",
   "execution_count": 19,
   "id": "82703eba",
   "metadata": {},
   "outputs": [
    {
     "data": {
      "text/html": [
       "<div>\n",
       "<style scoped>\n",
       "    .dataframe tbody tr th:only-of-type {\n",
       "        vertical-align: middle;\n",
       "    }\n",
       "\n",
       "    .dataframe tbody tr th {\n",
       "        vertical-align: top;\n",
       "    }\n",
       "\n",
       "    .dataframe thead th {\n",
       "        text-align: right;\n",
       "    }\n",
       "</style>\n",
       "<table border=\"1\" class=\"dataframe\">\n",
       "  <thead>\n",
       "    <tr style=\"text-align: right;\">\n",
       "      <th></th>\n",
       "      <th>year_month</th>\n",
       "      <th>bank_name</th>\n",
       "      <th>rating</th>\n",
       "    </tr>\n",
       "  </thead>\n",
       "  <tbody>\n",
       "    <tr>\n",
       "      <th>0</th>\n",
       "      <td>2022-09</td>\n",
       "      <td>ВТБ</td>\n",
       "      <td>2.073814</td>\n",
       "    </tr>\n",
       "    <tr>\n",
       "      <th>1</th>\n",
       "      <td>2022-09</td>\n",
       "      <td>СберБанк</td>\n",
       "      <td>1.920000</td>\n",
       "    </tr>\n",
       "    <tr>\n",
       "      <th>2</th>\n",
       "      <td>2022-09</td>\n",
       "      <td>Совкомбанк</td>\n",
       "      <td>3.882129</td>\n",
       "    </tr>\n",
       "    <tr>\n",
       "      <th>3</th>\n",
       "      <td>2022-09</td>\n",
       "      <td>Тинькофф Банк</td>\n",
       "      <td>3.888102</td>\n",
       "    </tr>\n",
       "    <tr>\n",
       "      <th>4</th>\n",
       "      <td>2022-09</td>\n",
       "      <td>Хоум Кредит Банк</td>\n",
       "      <td>4.058275</td>\n",
       "    </tr>\n",
       "    <tr>\n",
       "      <th>5</th>\n",
       "      <td>2022-10</td>\n",
       "      <td>ВТБ</td>\n",
       "      <td>1.914620</td>\n",
       "    </tr>\n",
       "    <tr>\n",
       "      <th>6</th>\n",
       "      <td>2022-10</td>\n",
       "      <td>СберБанк</td>\n",
       "      <td>2.777547</td>\n",
       "    </tr>\n",
       "    <tr>\n",
       "      <th>7</th>\n",
       "      <td>2022-10</td>\n",
       "      <td>Совкомбанк</td>\n",
       "      <td>3.846561</td>\n",
       "    </tr>\n",
       "    <tr>\n",
       "      <th>8</th>\n",
       "      <td>2022-10</td>\n",
       "      <td>Тинькофф Банк</td>\n",
       "      <td>4.865353</td>\n",
       "    </tr>\n",
       "    <tr>\n",
       "      <th>9</th>\n",
       "      <td>2022-10</td>\n",
       "      <td>Хоум Кредит Банк</td>\n",
       "      <td>3.591479</td>\n",
       "    </tr>\n",
       "    <tr>\n",
       "      <th>10</th>\n",
       "      <td>2022-11</td>\n",
       "      <td>ВТБ</td>\n",
       "      <td>1.993778</td>\n",
       "    </tr>\n",
       "    <tr>\n",
       "      <th>11</th>\n",
       "      <td>2022-11</td>\n",
       "      <td>СберБанк</td>\n",
       "      <td>2.562708</td>\n",
       "    </tr>\n",
       "    <tr>\n",
       "      <th>12</th>\n",
       "      <td>2022-11</td>\n",
       "      <td>Совкомбанк</td>\n",
       "      <td>4.230511</td>\n",
       "    </tr>\n",
       "    <tr>\n",
       "      <th>13</th>\n",
       "      <td>2022-11</td>\n",
       "      <td>Тинькофф Банк</td>\n",
       "      <td>4.841327</td>\n",
       "    </tr>\n",
       "    <tr>\n",
       "      <th>14</th>\n",
       "      <td>2022-11</td>\n",
       "      <td>Хоум Кредит Банк</td>\n",
       "      <td>4.001401</td>\n",
       "    </tr>\n",
       "    <tr>\n",
       "      <th>15</th>\n",
       "      <td>2022-12</td>\n",
       "      <td>ВТБ</td>\n",
       "      <td>1.896440</td>\n",
       "    </tr>\n",
       "    <tr>\n",
       "      <th>16</th>\n",
       "      <td>2022-12</td>\n",
       "      <td>СберБанк</td>\n",
       "      <td>1.871743</td>\n",
       "    </tr>\n",
       "    <tr>\n",
       "      <th>17</th>\n",
       "      <td>2022-12</td>\n",
       "      <td>Совкомбанк</td>\n",
       "      <td>4.523407</td>\n",
       "    </tr>\n",
       "    <tr>\n",
       "      <th>18</th>\n",
       "      <td>2022-12</td>\n",
       "      <td>Тинькофф Банк</td>\n",
       "      <td>4.650427</td>\n",
       "    </tr>\n",
       "    <tr>\n",
       "      <th>19</th>\n",
       "      <td>2022-12</td>\n",
       "      <td>Хоум Кредит Банк</td>\n",
       "      <td>4.626972</td>\n",
       "    </tr>\n",
       "    <tr>\n",
       "      <th>20</th>\n",
       "      <td>2023-01</td>\n",
       "      <td>ВТБ</td>\n",
       "      <td>1.148148</td>\n",
       "    </tr>\n",
       "    <tr>\n",
       "      <th>21</th>\n",
       "      <td>2023-01</td>\n",
       "      <td>СберБанк</td>\n",
       "      <td>1.400000</td>\n",
       "    </tr>\n",
       "    <tr>\n",
       "      <th>22</th>\n",
       "      <td>2023-01</td>\n",
       "      <td>Совкомбанк</td>\n",
       "      <td>4.379310</td>\n",
       "    </tr>\n",
       "    <tr>\n",
       "      <th>23</th>\n",
       "      <td>2023-01</td>\n",
       "      <td>Тинькофф Банк</td>\n",
       "      <td>3.990291</td>\n",
       "    </tr>\n",
       "    <tr>\n",
       "      <th>24</th>\n",
       "      <td>2023-01</td>\n",
       "      <td>Хоум Кредит Банк</td>\n",
       "      <td>2.833333</td>\n",
       "    </tr>\n",
       "  </tbody>\n",
       "</table>\n",
       "</div>"
      ],
      "text/plain": [
       "   year_month         bank_name    rating\n",
       "0     2022-09               ВТБ  2.073814\n",
       "1     2022-09          СберБанк  1.920000\n",
       "2     2022-09        Совкомбанк  3.882129\n",
       "3     2022-09     Тинькофф Банк  3.888102\n",
       "4     2022-09  Хоум Кредит Банк  4.058275\n",
       "5     2022-10               ВТБ  1.914620\n",
       "6     2022-10          СберБанк  2.777547\n",
       "7     2022-10        Совкомбанк  3.846561\n",
       "8     2022-10     Тинькофф Банк  4.865353\n",
       "9     2022-10  Хоум Кредит Банк  3.591479\n",
       "10    2022-11               ВТБ  1.993778\n",
       "11    2022-11          СберБанк  2.562708\n",
       "12    2022-11        Совкомбанк  4.230511\n",
       "13    2022-11     Тинькофф Банк  4.841327\n",
       "14    2022-11  Хоум Кредит Банк  4.001401\n",
       "15    2022-12               ВТБ  1.896440\n",
       "16    2022-12          СберБанк  1.871743\n",
       "17    2022-12        Совкомбанк  4.523407\n",
       "18    2022-12     Тинькофф Банк  4.650427\n",
       "19    2022-12  Хоум Кредит Банк  4.626972\n",
       "20    2023-01               ВТБ  1.148148\n",
       "21    2023-01          СберБанк  1.400000\n",
       "22    2023-01        Совкомбанк  4.379310\n",
       "23    2023-01     Тинькофф Банк  3.990291\n",
       "24    2023-01  Хоум Кредит Банк  2.833333"
      ]
     },
     "execution_count": 19,
     "metadata": {},
     "output_type": "execute_result"
    }
   ],
   "source": [
    "top_5_banks_grouped"
   ]
  },
  {
   "cell_type": "code",
   "execution_count": 20,
   "id": "19f9255c",
   "metadata": {},
   "outputs": [
    {
     "data": {
      "image/png": "[encoded data removed]",
      "text/plain": [
       "<Figure size 1500x800 with 1 Axes>"
      ]
     },
     "metadata": {},
     "output_type": "display_data"
    }
   ],
   "source": [
    "plt.figure(figsize=(15, 8))\n",
    "\n",
    "for bank in top_5_bank_index:\n",
    "    bank_data = top_5_banks_grouped[top_5_banks_grouped['bank_name'] == bank]\n",
    "    \n",
    "    plt.plot(bank_data['year_month'].astype('str'), \n",
    "             bank_data['rating'], label=bank, marker='*')\n",
    "\n",
    "plt.title('Изменение среднего рейтинга банков по месяцам')\n",
    "plt.xlabel('Месяц\\n\\nРисунок 3 ')\n",
    "plt.ylabel('Средний рейтинг')\n",
    "plt.legend()\n",
    "plt.grid()"
   ]
  },
  {
   "cell_type": "markdown",
   "id": "049b8a38",
   "metadata": {},
   "source": [
    "**Вывод:** В среднем у топ-5 банков заметна динамика изменения среднего рейтинга. Также большинство банков имееют спад в конце 2022 года и начале 2023. Это может свидетельствовать о том, что сотрудники банков в преддверии новогодних праздников могут быть менее продуктивными. Время обработки запросов в это время также способно увеличиваться, что может негативно сказываться на среднем рейтинге. Кроме того, большие расходы клиентов в новогодние праздники могут способствовать увеличению обращений в банки и более длительному рассмотрению каких-либо вопросов."
   ]
  },
  {
   "cell_type": "markdown",
   "id": "19a2c95c",
   "metadata": {},
   "source": [
    "**4. Дополнительный EDA.**"
   ]
  },
  {
   "cell_type": "markdown",
   "id": "27a60cc9",
   "metadata": {},
   "source": [
    "Для дополнительного анализа создадим копию нашего датафрейма, чтобы не влиять на исходную таблицу с данными."
   ]
  },
  {
   "cell_type": "code",
   "execution_count": 21,
   "id": "92b5a0dd",
   "metadata": {},
   "outputs": [],
   "source": [
    "data_copy = data.copy()"
   ]
  },
  {
   "cell_type": "markdown",
   "id": "86ca3af2",
   "metadata": {},
   "source": [
    "Добавим дополнительные признаки для анализа"
   ]
  },
  {
   "cell_type": "code",
   "execution_count": 22,
   "id": "5cca61e8",
   "metadata": {},
   "outputs": [],
   "source": [
    "# Добавлние столбцов с длиной отзыва и его названия\n",
    "data_copy['body_length'] = data_copy['body'].apply(len)\n",
    "data_copy['title_length'] = data_copy['title'].apply(len)"
   ]
  },
  {
   "cell_type": "markdown",
   "id": "5b7eca19",
   "metadata": {},
   "source": [
    "Посмотрим распределение новых признаков"
   ]
  },
  {
   "cell_type": "code",
   "execution_count": 23,
   "id": "b533dada",
   "metadata": {},
   "outputs": [
    {
     "data": {
      "text/html": [
       "<div>\n",
       "<style scoped>\n",
       "    .dataframe tbody tr th:only-of-type {\n",
       "        vertical-align: middle;\n",
       "    }\n",
       "\n",
       "    .dataframe tbody tr th {\n",
       "        vertical-align: top;\n",
       "    }\n",
       "\n",
       "    .dataframe thead th {\n",
       "        text-align: right;\n",
       "    }\n",
       "</style>\n",
       "<table border=\"1\" class=\"dataframe\">\n",
       "  <thead>\n",
       "    <tr style=\"text-align: right;\">\n",
       "      <th></th>\n",
       "      <th>rating</th>\n",
       "      <th>date</th>\n",
       "      <th>body_length</th>\n",
       "      <th>title_length</th>\n",
       "    </tr>\n",
       "  </thead>\n",
       "  <tbody>\n",
       "    <tr>\n",
       "      <th>count</th>\n",
       "      <td>92481.000000</td>\n",
       "      <td>92481</td>\n",
       "      <td>92481.000000</td>\n",
       "      <td>92481.000000</td>\n",
       "    </tr>\n",
       "    <tr>\n",
       "      <th>mean</th>\n",
       "      <td>4.062726</td>\n",
       "      <td>2022-11-11 09:45:49.135497984</td>\n",
       "      <td>652.065895</td>\n",
       "      <td>26.237973</td>\n",
       "    </tr>\n",
       "    <tr>\n",
       "      <th>min</th>\n",
       "      <td>1.000000</td>\n",
       "      <td>2022-09-02 00:00:00</td>\n",
       "      <td>7.000000</td>\n",
       "      <td>2.000000</td>\n",
       "    </tr>\n",
       "    <tr>\n",
       "      <th>25%</th>\n",
       "      <td>4.000000</td>\n",
       "      <td>2022-10-27 00:00:00</td>\n",
       "      <td>356.000000</td>\n",
       "      <td>14.000000</td>\n",
       "    </tr>\n",
       "    <tr>\n",
       "      <th>50%</th>\n",
       "      <td>5.000000</td>\n",
       "      <td>2022-11-08 00:00:00</td>\n",
       "      <td>441.000000</td>\n",
       "      <td>22.000000</td>\n",
       "    </tr>\n",
       "    <tr>\n",
       "      <th>75%</th>\n",
       "      <td>5.000000</td>\n",
       "      <td>2022-12-07 00:00:00</td>\n",
       "      <td>707.000000</td>\n",
       "      <td>34.000000</td>\n",
       "    </tr>\n",
       "    <tr>\n",
       "      <th>max</th>\n",
       "      <td>5.000000</td>\n",
       "      <td>2023-01-03 00:00:00</td>\n",
       "      <td>6442.000000</td>\n",
       "      <td>254.000000</td>\n",
       "    </tr>\n",
       "    <tr>\n",
       "      <th>std</th>\n",
       "      <td>1.621557</td>\n",
       "      <td>NaN</td>\n",
       "      <td>534.353483</td>\n",
       "      <td>16.711457</td>\n",
       "    </tr>\n",
       "  </tbody>\n",
       "</table>\n",
       "</div>"
      ],
      "text/plain": [
       "             rating                           date   body_length  title_length\n",
       "count  92481.000000                          92481  92481.000000  92481.000000\n",
       "mean       4.062726  2022-11-11 09:45:49.135497984    652.065895     26.237973\n",
       "min        1.000000            2022-09-02 00:00:00      7.000000      2.000000\n",
       "25%        4.000000            2022-10-27 00:00:00    356.000000     14.000000\n",
       "50%        5.000000            2022-11-08 00:00:00    441.000000     22.000000\n",
       "75%        5.000000            2022-12-07 00:00:00    707.000000     34.000000\n",
       "max        5.000000            2023-01-03 00:00:00   6442.000000    254.000000\n",
       "std        1.621557                            NaN    534.353483     16.711457"
      ]
     },
     "execution_count": 23,
     "metadata": {},
     "output_type": "execute_result"
    }
   ],
   "source": [
    "data_copy.describe()"
   ]
  },
  {
   "cell_type": "markdown",
   "id": "c4f56292",
   "metadata": {},
   "source": [
    "Из представленной таблицы видно, что максимальная длина отзыва и названия отзыва слишком велика. Чтобы посмотреть насколько много таких данных в нашей таблице посмотрим на распределение наших данных. "
   ]
  },
  {
   "cell_type": "code",
   "execution_count": 24,
   "id": "413cb203",
   "metadata": {},
   "outputs": [
    {
     "data": {
      "text/plain": [
       "(0.0, 15.0)"
      ]
     },
     "execution_count": 24,
     "metadata": {},
     "output_type": "execute_result"
    },
    {
     "data": {
      "image/png": "[encoded data removed]",
      "text/plain": [
       "<Figure size 1500x600 with 1 Axes>"
      ]
     },
     "metadata": {},
     "output_type": "display_data"
    }
   ],
   "source": [
    "data_copy['body_length'].hist(figsize=(15, 6), bins=100, color='green', alpha=0.6)\n",
    "plt.xlabel('Длина строки')\n",
    "plt.ylabel('Количество записей')\n",
    "plt.title('Зависимость длины строки от количества записей')\n",
    "plt.ylim(0, 15)"
   ]
  },
  {
   "cell_type": "markdown",
   "id": "8abd3d4b",
   "metadata": {},
   "source": [
    "Из данного графика можно заметить, что лишь несколько отзывов выделяются на фоне остальных. Давайте рассмотрим данные отзывы подробнее и узнаем причину столь большого кол-ва символов. "
   ]
  },
  {
   "cell_type": "code",
   "execution_count": 25,
   "id": "296bd32f",
   "metadata": {},
   "outputs": [],
   "source": [
    "body_length_5000 = data_copy.loc[data_copy['body_length'] > 5000]"
   ]
  },
  {
   "cell_type": "code",
   "execution_count": 26,
   "id": "16aee0b6",
   "metadata": {},
   "outputs": [
    {
     "name": "stdout",
     "output_type": "stream",
     "text": [
      "&lt;p&gt;В октябре 2022 года решила воспользоваться акцией ВТБ «Переводи зарплату в ВТБ», предварительно изучив правила акции , а также правила программы лояльности, которые размещены на сайте ВТБ.&lt;/p&gt;\r\n",
      "&lt;p&gt;По правилам акции Участнику необходимо в течение одного Отчетного периода в срок 01.10.22-31.12.22 выполнить следующие действия:&lt;/p&gt;\r\n",
      "&lt;p&gt;1.получить Выплату не менее 10000 руб на счет Карты&lt;/p&gt;\r\n",
      "&lt;p&gt;2.совершить Операции по Карте на общую сумму не менее 20000 руб&lt;/p&gt;\r\n",
      "&lt;p&gt;3.совершить Операции по Карте в Категории «Супермаркеты» на любую сумму.&lt;/p&gt;\r\n",
      "&lt;p&gt;В случае исполнения Целевых действий, банк ВТБ обязуется начислить Участнику Поощрение в размере 7,5% от суммы Операций в Категории «Супермаркеты» (не более 1500 бонусов) не позднее последнего календарного дня месяца, следующего за Отчетным периодом.&lt;/p&gt;\r\n",
      "&lt;p&gt;Выполняя условия акции «Переводи зарплату в ВТБ»:&lt;/p&gt;\r\n",
      "&lt;p&gt;1.Была получена Выплата 13.10.22 в размере 50822,19 руб &lt;/p&gt;\r\n",
      "&lt;p&gt;&lt;/p&gt;\r\n",
      "&lt;img src=&quot;https://i.postimg.cc/4xLJmN4G/image.jpg&quot; alt=&quot;undefined&quot; style=&quot;height: undefined;width: undefined&quot;/&gt;\r\n",
      "&lt;p&gt;2.В Отчетном периоде (октябрь) совершены Операции по Карте на общую сумму 30222,60 руб&lt;/p&gt;\r\n",
      "&lt;p&gt;&lt;/p&gt;\r\n",
      "&lt;img src=&quot;https://i.postimg.cc/5ynrnyRN/image.jpg&quot; alt=&quot;undefined&quot; style=&quot;height: undefined;width: undefined&quot;/&gt;\r\n",
      "&lt;p&gt;3.В октябре совершены Операции в Категории «Супермаркеты» в размере свыше 20000 руб&lt;/p&gt;\r\n",
      "&lt;p&gt;Таким образом мной все условия были выполнены, но банком ВТБ так и не было перечислено Поощрение в размере 1500 бонусов на мой Бонусный счет до настоящего момента  (по правилам до 30.11.22).&lt;/p&gt;\r\n",
      "&lt;p&gt;30.11.22 было направлено обращение CR-10025973:&lt;/p&gt;\r\n",
      "&lt;p&gt;«Не начислено Поощрение №1 в размере 1500 мультибонусов за Отчетный период октябрь 2022 года в соответствии с правилами акции «Переводи зарплату в ВТБ». Прошу перечислить Поощрение или сообщить в соответствии с какими пунктами правил акции «Переводи зарплату в ВТБ» данное Поощрение не положено.»&lt;/p&gt;\r\n",
      "&lt;p&gt;На обращение CR-10025973 поступил ответ:«...Мы внимательно изучили Ваше обращение CR-10025973 и сообщаем, что нарушения в начислении мультибонусов в рамках программы лояльности «Мультибонус» не выявлено. Согласно Правилам программы лояльности, выплата вознаграждения осуществляется в размере 2,5% мультибонусов. Отметим, что согласно Тарифам, признак «зарплатного клиента» фиксируется не позднее последнего дня месяца, следующего за месяцем первого поступления зарплатной выплаты. Заработная плата поступила на счет 13.10.22. Расчет вознаграждения в размере 2,5% по выделенным категориям «Супермаркеты», «Рестораны и кафе», «Транспорт и такси» осуществляется после фиксации признака «зарплатного клиента»...».&lt;/p&gt;\r\n",
      "&lt;p&gt;То есть суть ответа совершенно не соответствовала задаваемому вопросу. Проблема не решена.&lt;/p&gt;\r\n",
      "&lt;p&gt;Также было направлено обращение CR-10025981 о том, что при расчете Поощрений за операции выполненные с 14.10.22 не учтена Доп.ставка в размере 0,5% от суммы Операций согласно прим.7 к столбцу 5 таб.1 Прил.1 Правилами программы лояльности.&lt;/p&gt;\r\n",
      "&lt;p&gt;Ответ на обращение CR-10025981 был слово в слово идентичен ответу по CR-10025973. &lt;/p&gt;\r\n",
      "&lt;p&gt;В сборниках тарифов, размещенных в публичном доступе, отсутствует какое-либо упоминание по порядку фиксации признака «зарплатного клиента», а Правилами программы лояльности зарплатными Клиентами являются те клиенты, которые к моменту совершения учитываемой Операции получали зарплатные выплаты.&lt;/p&gt;\r\n",
      "&lt;p&gt;К тому же, на Операции обработанные 12.12.22 Поощрение по программе лояльности ВТБ начисляется в размере 2%, а не 2,5% как зарплатному Клиенту, хотя уже 2 месяца я зарплату получаю на Карту ВТБ.&lt;/p&gt;\r\n",
      "&lt;p&gt;ВЫВОД:&lt;/p&gt;\r\n",
      "&lt;p&gt;На направляемые обращения банк ВТБ предоставляет ответы, которые не ссылаются ни на какие нормативные документы и по форме выглядят как отписки, тем самым показывая некомпетентность сотрудников.&lt;/p&gt;\r\n",
      "&lt;p&gt;Ввиду того, что банк ВТБ нарушает собственные правила, категорически не рекомендую переводить начисление заработной платы в банк ВТБ, также не рекомендую участвовать в акциях, проводимых банком ВТБ.&lt;/p&gt;\r\n",
      "&lt;p&gt;&lt;/p&gt;\r\n",
      "&lt;img src=&quot;https://i.postimg.cc/FFBgg0Pk/01.jpg&quot; alt=&quot;undefined&quot; style=&quot;height: undefined;width: undefined&quot;/&gt;\r\n",
      "&lt;p&gt;&lt;/p&gt;\r\n",
      "&lt;img src=&quot;https://i.postimg.cc/DwqrTH71/02.jpg&quot; alt=&quot;undefined&quot; style=&quot;height: undefined;width: undefined&quot;/&gt;\r\n",
      "&lt;p&gt;&lt;/p&gt;\r\n",
      "&lt;img src=&quot;https://i.postimg.cc/7hFzvMcB/03.jpg&quot; alt=&quot;undefined&quot; style=&quot;height: undefined;width: undefined&quot;/&gt;\r\n",
      "&lt;p&gt;&lt;/p&gt;\r\n",
      "&lt;img src=&quot;https://i.postimg.cc/DzvXKzjK/04.jpg&quot; alt=&quot;undefined&quot; style=&quot;height: undefined;width: undefined&quot;/&gt;\r\n",
      "&lt;p&gt;&lt;/p&gt;\n",
      "\n",
      "\n",
      "\n",
      "\n",
      "\n",
      "\n",
      "\n",
      "\n",
      "\n",
      "&lt;p&gt;&quot;Ваше мнение — это важно&quot;?&lt;/p&gt;\r\n",
      "&lt;p&gt;Лёгкость общения с банком — 2&lt;/p&gt;\r\n",
      "&lt;p&gt;Скорость решения вопросов — 1&lt;/p&gt;\r\n",
      "&lt;/p&gt;&lt;img src=&quot;https://i.imgur.com/4ra29gZ.jpg&quot; alt=&quot;undefined&quot; style=&quot;height: undefined;width: undefined&quot;/&gt;\r\n",
      "&lt;img src=&quot;https://i.imgur.com/UadgtsV.jpg&quot; alt=&quot;undefined&quot; style=&quot;height: undefined;width: undefined&quot;/&gt;\r\n",
      "&lt;img src=&quot;https://i.imgur.com/XRi0gAb.jpg&quot; alt=&quot;undefined&quot; style=&quot;height: undefined;width: undefined&quot;/&gt; &lt;/p&gt;\r\n",
      "&lt;p&gt;Понятность условий — 0&lt;/p&gt;\r\n",
      "&lt;p&gt;Своевременность информирования — 0&lt;/p&gt;\r\n",
      "&lt;p&gt; &lt;img src=&quot;https://i.imgur.com/4JHJjBG.jpg&quot; alt=&quot;undefined&quot; style=&quot;height: undefined;width: undefined&quot;/&gt;\r\n",
      "&lt;img src=&quot;https://i.imgur.com/qrclvF2.jpg&quot; alt=&quot;undefined&quot; style=&quot;height: undefined;width: undefined&quot;/&gt;\r\n",
      "&lt;img src=&quot;https://i.imgur.com/gXuDuNG.jpg&quot; alt=&quot;undefined&quot; style=&quot;height: undefined;width: undefined&quot;/&gt;\r\n",
      "&lt;img src=&quot;https://i.imgur.com/x6yXQBp.jpg&quot; alt=&quot;undefined&quot; style=&quot;height: undefined;width: undefined&quot;/&gt;\r\n",
      "&lt;/p&gt;\r\n",
      "&lt;p&gt;Доступность услуг в приложени — 0&lt;/p&gt;\r\n",
      "&lt;p&gt;&lt;img src=&quot;https://i.imgur.com/xdKzGnp.jpg&quot; alt=&quot;undefined&quot; style=&quot;height: undefined;width: undefined&quot;/&gt;\r\n",
      "&lt;img src=&quot;https://i.imgur.com/uByoH0E.png&quot; alt=&quot;undefined&quot; style=&quot;height: undefined;width: undefined&quot;/&gt;\r\n",
      "&lt;img src=&quot;https://i.imgur.com/SXf4jnC.png&quot; alt=&quot;undefined&quot; style=&quot;height: undefined;width: undefined&quot;/&gt;\r\n",
      "&lt;img src=&quot;https://i.imgur.com/cTKn5Cj.png&quot; alt=&quot;undefined&quot; style=&quot;height: undefined;width: undefined&quot;/&gt;\r\n",
      "&lt;img src=&quot;https://i.imgur.com/pkqdCvA.png&quot; alt=&quot;undefined&quot; style=&quot;height: undefined;width: undefined&quot;/&gt;\r\n",
      "&lt;img src=&quot;https://i.imgur.com/Gg0WYKe.png&quot; alt=&quot;undefined&quot; style=&quot;height: undefined;width: undefined&quot;/&gt; &lt;/p&gt;\r\n",
      "&lt;p&gt;Насколько я был доволен кредитным продуктом и что меня разочаровало?&lt;/p&gt;\r\n",
      "&lt;p&gt;&lt;img src=&quot;https://i.imgur.com/nOaTmHW.jpg&quot; alt=&quot;undefined&quot; style=&quot;height: undefined;width: undefined&quot;/&gt;\r\n",
      "&lt;img src=&quot;https://i.imgur.com/zBEKnMu.jpg&quot; alt=&quot;undefined&quot; style=&quot;height: undefined;width: undefined&quot;/&gt;\r\n",
      "&lt;img src=&quot;https://i.imgur.com/nasOImJ.jpg&quot; alt=&quot;undefined&quot; style=&quot;height: undefined;width: undefined&quot;/&gt;\r\n",
      "&lt;img src=&quot;https://i.imgur.com/URrAjkx.jpg&quot; alt=&quot;undefined&quot; style=&quot;height: undefined;width: undefined&quot;/&gt;\r\n",
      "&lt;img src=&quot;https://i.imgur.com/mrQJYJH.jpg&quot; alt=&quot;undefined&quot; style=&quot;height: undefined;width: undefined&quot;/&gt;&lt;/p&gt;\r\n",
      "&lt;p&gt;1 июня сб банка возместили убытки из-за кражи карты и несанкционированных списаний:&lt;/p&gt;\r\n",
      "&lt;p&gt;&lt;img src=&quot;https://i.imgur.com/CI22GqI.jpg&quot; alt=&quot;undefined&quot; style=&quot;height: undefined;width: undefined&quot;/&gt;\r\n",
      "&lt;img src=&quot;https://i.imgur.com/iBYlKXn.jpg&quot; alt=&quot;undefined&quot; style=&quot;height: undefined;width: undefined&quot;/&gt;\r\n",
      "&lt;img src=&quot;https://i.imgur.com/yUAzILn.jpg&quot; alt=&quot;undefined&quot; style=&quot;height: undefined;width: undefined&quot;/&gt;\r\n",
      "&lt;img src=&quot;https://i.imgur.com/J4TBjkP.jpg&quot; alt=&quot;undefined&quot; style=&quot;height: undefined;width: undefined&quot;/&gt;\r\n",
      "&lt;/p&gt;\r\n",
      "&lt;p&gt;Я бы не ругался, если бы не уточнил дату платежа 1 июня у оператора (между 15:24 и 16:35 — на скриншотах отображено), когда зашел в приложение после уведомления о решении обращения службы безопасности и возмещении. Сотрудник колл-центра ввёл меня в заблуждение.&lt;/p&gt;\r\n",
      "&lt;p&gt;&lt;img src=&quot;https://i.imgur.com/EipiXKO.png&quot; alt=&quot;undefined&quot; style=&quot;height: undefined;width: undefined&quot;/&gt;&lt;/p&gt;\r\n",
      "&lt;p&gt;Ладно бы проблема касалась только дезинформирования: &lt;/p&gt;\r\n",
      "&lt;p&gt;придя впоследствии в офис, сидя в ожидании за столиком, слышу от соседних консультаций клиентов за другими столиками об информировании их об отсутствии минимальных платежей в связи с обстановкой.&lt;/p&gt;\r\n",
      "&lt;p&gt;Хорошо. Ко мне приходит сотрудник и заявляет, что сумма штрафа равна 54,99% годовых за 3 рубля не оплаты минимального платежа. Объясняю, что это невозможно. Ретируется, зовёт старшую сотрудницу. В итоге удалось выдавить из него смысл выписки, нагнав перед выходом к банкоматам, хоть ему и было стыдно.&lt;/p&gt;\r\n",
      "&lt;p&gt;У банкоматов меня ждёт картина из фото выше. Суммы задолженности некорректно отображаются.&lt;/p&gt;\r\n",
      "&lt;p&gt;Внёс купюры, дальше попытался внести мелочь мобильным способом — опять незадача, оказывается я не клиент банка! &quot;Банк получателя не отвечает. Получатель в этом банке не найден. Узнайте у получателя другой банк для зачисления перевода&quot;, &quot;Функционал временно не доступен. Клиент с таким номером не найден&quot;, &quot;Что-то пошло не так&quot;. (запись экрана приложил)&lt;/p&gt;\r\n",
      "&lt;p&gt;&lt;/p&gt;\r\n",
      "&lt;p&gt;Всё это не коробило бы, если бы не преднамеренная ложь ещё при заказе карты кобренда Билайна &quot;100 дней без %&quot;. Пытался выяснить в чате характер предложения, проконсультировали по горячей линии через приложение, где заявили, что с карты снятие без %, как по флагманскому продукту.&lt;/p&gt;\r\n",
      "&lt;p&gt;&lt;img src=&quot;https://i.imgur.com/bx3Jl9M.jpg&quot; alt=&quot;undefined&quot; style=&quot;height: undefined;width: undefined&quot;/&gt;\r\n",
      "&lt;img src=&quot;https://i.imgur.com/wxuzxVM.jpg&quot; alt=&quot;undefined&quot; style=&quot;height: undefined;width: undefined&quot;/&gt;\r\n",
      "&lt;img src=&quot;https://i.imgur.com/CQhY2vt.jpg&quot; alt=&quot;undefined&quot; style=&quot;height: undefined;width: undefined&quot;/&gt;\r\n",
      "&lt;/p&gt;\r\n",
      "&lt;p&gt;Ввиду количества недостатков вашего обслуживания, просьба возместить % уплаченные сверх задолженности *9105, стоимость за обслуживание от 24 ноября *5678, которое в сумме не выдерживает критики. Валидные требования за немыслимый сервис.&lt;/p&gt;\r\n",
      "&lt;p&gt;P.S. Единственные, кто заслуживает оплаты своего труда — это СБ, но вы нивелировали столь качественное обслуживание.&lt;/p&gt;\n",
      "\n",
      "\n",
      "\n",
      "\n",
      "\n",
      "\n",
      "\n",
      "\n",
      "\n",
      "Здравствуй, читатель.\r\n",
      "\r\n",
      "Сегодня хотел бы своим поделиться мнением о великом и ужасном (далее банк) &quot;Тинькофф&quot;. Спустя 2 года пользования решился на такой шаг. Расскажу обо всех плюсах и минусах которые заметил. Приступим.&lt;br&gt;&lt;br&gt;1. &lt;a href=&quot;https://www.tinkoff.ru/sl/3brbXloeGsg&quot; target=&quot;_self&quot;&gt;Дебетовая карта&lt;/a&gt;  - тут она называется tinkoff black и по умолчанию идет в стильном черном дизайне&lt;/p&gt;\r\n",
      "&lt;p&gt;&lt;/p&gt;\r\n",
      "&lt;img src=&quot;https://www.banki.ru/upload/iblock/f55/KDKsIPEA_bbb.png&quot; alt=&quot;undefined&quot; style=&quot;height: ;width: &quot;/&gt;\r\n",
      "&lt;p&gt;&lt;br&gt;Достаточно хороша, особенно на фоне других предложений, тут вам и кешбек на разные категории (что важно рублями, а не мифическими бонусами и т.п.), и бесплатное обслуживание (на определенном тарифе, либо с подпиской pro/premium). \r\n",
      "\r\n",
      "Мне вот недавно стал доступен новый сервис &quot;Кубышка&quot;. Если коротко - это как взять в долг у друга, дают лимит (например 30 000), и в пределах лимита можно взять деньги, если нужны. Отдал в течении 7 дней (а если есть подписка, то 14) - комиссии нет. Забыл? Придется чуть больше вернуть (комиссия реально маленькая, особенно на фоне всяких МФО и прочих). Любая справка или выписка по карте доступна в один клик, в приложении. За время пользования минусов не обнаружил, пожалуй, только один - мало банкоматов банка, но это в основном проблема маленьких городов.&lt;br&gt; &lt;br&gt;&lt;br&gt;2. &lt;a href=&quot;https://www.tinkoff.ru/sl/NCYfdpxHVa&quot; target=&quot;_self&quot;&gt;Кредитная карта&lt;/a&gt; - у меня была Платинум, выглядит тоже ничего, но мне дизайн не нравится.&lt;/p&gt;\r\n",
      "&lt;p&gt;&lt;/p&gt;\r\n",
      "&lt;img src=&quot;https://acdn.tinkoff.ru/static/pages/files/18c99f31-cc48-4e15-afd3-d2809c332690.png&quot; alt=&quot;undefined&quot; style=&quot;height: undefined;width: undefined&quot;/&gt;\r\n",
      "&lt;p&gt;&lt;/p&gt;\r\n",
      "&lt;p&gt;и хоть лимит, который я хотел, мне сразу не одобрили (а вот спустя год пользования - да), я доволен этой картой. В договоре все прописано, не было никаких списаний вне плана, главное - не забывать внести хотя бы минимальный платеж (отображается во вкладке с картой в приложении банка), и все гуд. По этой карте, кстати, доступна рассрочка, без процентов у партнеров банка, но и у тех магазинов, что не входят в сеть партнеров тоже есть рассрочка, но платная.&lt;/p&gt;\r\n",
      "&lt;p&gt;&lt;/p&gt;\r\n",
      "&lt;p&gt;Обычно ее предлагают, когда заказываешь дебетовую, у меня было аналогично. Взял, подумав, что рано или поздно пригодится, тем более что пока сам не активируешь карту, с тебя не списывают обслуживание по ней и какие-либо ещё траты и комиссии.&lt;/p&gt;\r\n",
      "&lt;p&gt;&lt;/p&gt;\r\n",
      "&lt;p&gt;&lt;/p&gt;\r\n",
      "&lt;p&gt;EXTRA: когда получал обе карты в подарок, дали кардхолдер из кожи, брендированный, мелочь, а приятно. &lt;br&gt;&lt;/p&gt;\r\n",
      "&lt;p&gt;&lt;br&gt;3. &lt;a href=&quot;https://www.tinkoff.ru/sl/3eDaGvBji2q&quot; target=&quot;_self&quot;&gt;Инвестиции&lt;/a&gt;  - платформа от банка, которая дает возможность заняться инвестированием (или спекуляцией).&lt;/p&gt;\r\n",
      "&lt;p&gt;Доступны как стандартные для всех акции, облигации и фонды, так и инструменты срочного рынка&lt;br&gt;&lt;br&gt;Есть много тарифов, стандартный - это инвестор, комиссии средние, заявки выполняются и выставляются быстро, вывод средств моментальный на карты банка (например Блэк), пополняется так же легко с этих карт.&lt;br&gt;&lt;br&gt;Отдельное внимание уделили пк версии терминала инвестора, столько инструментов и скринеров, брокеры с Уолл-стрит обзавидуются.&lt;br&gt;&lt;/p&gt;\r\n",
      "&lt;p&gt;&lt;br&gt;4. Техподдержка - ну, тут все понятно.&lt;br&gt; Специально вынес отдельным пунктом, потому что это лучшая техподдержка, что я видел. Начнем с того, что она круглосуточная, связаться с ребятами можно с помощью (загибайте пальцы) &lt;br&gt;1 - Чата в приложении &lt;br&gt;2 - Звонка через приложение&lt;br&gt;3 - Звонка на горячую линию (номер есть на &lt;a href=&quot;https://www.tinkoff.ru/&quot; target=&quot;_self&quot;&gt;сайте банка&lt;/a&gt; )&lt;br&gt;&lt;/p&gt;\r\n",
      "&lt;p&gt;И это только то, чем я сам пользовался, думаю наверняка ещё и на почту банка, а так же электронную почту написать можно. Подавляющее количество ваших вопрос решат сразу же. По более сложным перезвонят вам с решением&lt;/p&gt;\r\n",
      "&lt;p&gt;&lt;/p&gt;\r\n",
      "&lt;p&gt;EXTRA: расскажу подробнее, так как какое-то время работал оператором в этом банке. Постоянный процесс обучения, а это значит, что квалификацию людей которые помогают вам решить проблему постоянно повышают. Значит, что шанс того, что вам не смогут помочь, стремится к нулю. Очень ответственный подход в общем.&lt;br&gt;тем кому интересно вот ссылка на &lt;a href=&quot;https://www.tinkoff.ru/sl/3LJbpAVJPXr&quot; target=&quot;_self&quot;&gt;работу&lt;/a&gt;.&lt;br&gt;&lt;/p&gt;\r\n",
      "&lt;p&gt;&lt;/p&gt;\r\n",
      "&lt;p&gt;О минусах, а что вы думали, они тут тоже есть.&lt;br&gt;и это, пожалуй, редкие сбои, чинят их довольно быстро, но бывает по несколько часов зайти в приложение невозможно. Но этот недостаток компенсируется плюсами банка&lt;br&gt;  &lt;/p&gt;\n",
      "\n",
      "\n",
      "\n",
      "\n",
      "\n",
      "\n",
      "\n",
      "\n",
      "\n",
      "&lt;p&gt;Коллеги и снова здравствуйте. &lt;/p&gt;\r\n",
      "&lt;p&gt;Давно не обращался, но повод заставил. &lt;/p&gt;\r\n",
      "&lt;p&gt;Расскажу хронологию:&lt;/p&gt;\r\n",
      "&lt;p&gt;По моему кредиту у меня график платежей выпадает на 10 число каждого месяца (+- пара дней в зависимости от выходных). Так вот платеж за сентябрь выпал на 12 сентября. &lt;/p&gt;\r\n",
      "&lt;p&gt;По условиям банка при открытии кредита открывается дополнительный счет для погашения кредита, с него в первую очередь происходит списание. Но также по условиям банка если на дату списания система не обнаруживает средства, списание происходит с мастер счета. Собственно в большинстве случаев я всегда пополняю сразу мастер счет, и оттуда без проблем происходят списания.&lt;/p&gt;\r\n",
      "&lt;p&gt;Что произошло 12.09.22. &lt;/p&gt;\r\n",
      "&lt;p&gt;По условиям банка счет для оплаты кредита необходимо пополнить до 19:00 по местному времени.&lt;/p&gt;\r\n",
      "&lt;p&gt;Около 11:30 по местному времени я пополняю мастер счет. &lt;/p&gt;\r\n",
      "&lt;img src=&quot;https://i.ibb.co/L68f3bq/1.png&quot; alt=&quot;undefined&quot; style=&quot;height: ;width: &quot;/&gt;\r\n",
      "&lt;p&gt;&lt;/p&gt;\r\n",
      "&lt;img src=&quot;https://i.ibb.co/L68f3bq/1.png&quot; alt=&quot;undefined&quot; style=&quot;height: ;width: &quot;/&gt;\r\n",
      "&lt;p&gt;&lt;/p&gt;\r\n",
      "&lt;img src=&quot;https://i.ibb.co/YQsqD1n/2.png&quot; alt=&quot;undefined&quot; style=&quot;height: ;width: &quot;/&gt;\r\n",
      "&lt;p&gt;&lt;/p&gt;\r\n",
      "&lt;p&gt;Находясь в полной уверенности, что все хорошо, я не придал значения, что будет беда. После полуночи мне пришло сообщение, с требованием погасить образовавшуюся задолженность + пеню за просрочку. &lt;/p&gt;\r\n",
      "&lt;p&gt;&lt;/p&gt;\r\n",
      "&lt;img src=&quot;https://i.ibb.co/hgdv4Cm/3.png&quot; alt=&quot;undefined&quot; style=&quot;height: ;width: &quot;/&gt;\r\n",
      "&lt;p&gt;&lt;/p&gt;\r\n",
      "&lt;p&gt;Зайдя в личный кабинет приложения я обнаружил, что сумма за кредит не списалась. К сожалению функционал погашения кредита не предусматривает наличие кнопки принудительного списания. Сразу же написав в чат поддержки вопросы, ваши специалисты не сразу поняли сути моего вопроса и пытались меня убедить, что я не правильно делал и нужно пополнять только счет для списания кредита. После подключения более адекватного специалиста ситуация была прояснена и человек понял, что существенной роли для пополнения какого-то определенного счета не было, т.к банк списывает в любом случае с одного из 2х счетов.&lt;/p&gt;\r\n",
      "&lt;p&gt;Т.к. я не согласился с выставленной претензией, была оформлена претензия № CR-9556981 от 13.09.22. С ней в частности было несогласие с моим нарушением, т.к. я выполнил все условия для погашения, а также с начисленными штрафами.&lt;/p&gt;\r\n",
      "&lt;p&gt;&lt;/p&gt;\r\n",
      "&lt;img src=&quot;https://i.ibb.co/3kbtGxc/4.png&quot; alt=&quot;undefined&quot; style=&quot;height: ;width: &quot;/&gt;\r\n",
      "&lt;p&gt;&lt;/p&gt;\r\n",
      "&lt;p&gt;16.09.22г я получил смс сообщение, в котором было написано, что по моему вопросу было принято положительное решение. Соответственно, я могу это трактовать как то, что банк признал мою правоту и соответственно неправоту банка. Даже должны были какие-то средства вернуться (пеня). Я этого не увидел, но да ладно. Кстати говоря, пока было разбирательство, в графике платежей я видел строчку в которой была показана просрочка. После решения, строчка пропала. &lt;/p&gt;\r\n",
      "&lt;p&gt;&lt;/p&gt;\r\n",
      "&lt;img src=&quot;https://i.ibb.co/wJgFBTy/5.jpg&quot; alt=&quot;undefined&quot; style=&quot;height: ;width: &quot;/&gt;\r\n",
      "&lt;p&gt;&lt;/p&gt;\r\n",
      "&lt;p&gt;Вроде бы инцидент исчерпан.&lt;/p&gt;\r\n",
      "&lt;p&gt;Каково же было мое удивление вчера, когда я заказал справку по наличию задолженности по кредиту…и что я вижу-в системе банка есть запись, по которой у меня была просрочка 12.09.22!!!&lt;/p&gt;\r\n",
      "&lt;p&gt;&lt;/p&gt;\r\n",
      "&lt;img src=&quot;https://i.ibb.co/Fzrg7w7/6.jpg&quot; alt=&quot;undefined&quot; style=&quot;height: ;width: &quot;/&gt;\r\n",
      "&lt;p&gt;&lt;/p&gt;\r\n",
      "&lt;p&gt;Это что такое? Т.е. банк из-за своего сбоя испортил мне кредитную историю?? Что мне теперь делать?&lt;/p&gt;\r\n",
      "&lt;p&gt;Я считаю, что ответственность лежит не на мне. Тем более есть положительное решение. Вы так не считаете? Я хочу, чтобы вы скорректировали информацию в своей системе и убрали всю информацию о какой-либо просрочке. Тем более она доказанно возникла искуственно и не по моей вине.&lt;/p&gt;\r\n",
      "&lt;p&gt;Я сейчас сделал запрос в банке кредитных историй, и там есть запись о этой просрочке и соответственно история испорчена. Что мне теперь делать? &lt;/p&gt;\r\n",
      "&lt;p&gt;&lt;/p&gt;\r\n",
      "&lt;img src=&quot;https://i.ibb.co/QDp0DwM/7.jpg&quot; alt=&quot;undefined&quot; style=&quot;height: ;width: &quot;/&gt;\r\n",
      "&lt;p&gt;&lt;/p&gt;\r\n",
      "&lt;p&gt;Жду от вас информацию, о том как вы будете исправлять это. &lt;/p&gt;\r\n",
      "&lt;p&gt;В случае отрицательного ответа, придется решать вопрос по дальнейшим инстанциям: ЦБ РФ, Роспотребнадзор, финансовый уполномоченный, Прокуратура, Суд.&lt;/p&gt;\r\n",
      "&lt;p&gt;Поэтому, пожалуйста, решите мой вопрос на уровне банка, и как можно скорее, т.к. этот вопрос очень серьезный для меня. У меня еще ни разу не было просрочек. Благодарю.&lt;/p&gt;\r\n",
      "&lt;p&gt;&lt;/p&gt;\n",
      "\n",
      "\n",
      "\n",
      "\n",
      "\n",
      "\n",
      "\n",
      "\n",
      "\n"
     ]
    }
   ],
   "source": [
    "for i in body_length_5000['body']:\n",
    "    print(i, end='\\n'*10)"
   ]
  },
  {
   "cell_type": "markdown",
   "id": "d70bfd33",
   "metadata": {},
   "source": [
    "Как мы видим такое количество символов вызвано наличием html разметки и послее ее удаление кол-во символов не будет выбиваться относительно остальных данных."
   ]
  },
  {
   "cell_type": "code",
   "execution_count": 27,
   "id": "c431b0e7",
   "metadata": {},
   "outputs": [
    {
     "data": {
      "text/plain": [
       "(0.0, 15.0)"
      ]
     },
     "execution_count": 27,
     "metadata": {},
     "output_type": "execute_result"
    },
    {
     "data": {
      "image/png": "[encoded data removed]",
      "text/plain": [
       "<Figure size 1500x600 with 1 Axes>"
      ]
     },
     "metadata": {},
     "output_type": "display_data"
    }
   ],
   "source": [
    "data_copy['title_length'].hist(figsize=(15, 6), bins=100, color='green', alpha=0.6)\n",
    "plt.xlabel('Длина строки')\n",
    "plt.ylabel('Количество записей')\n",
    "plt.title('Зависимость длины строки от количества записей')\n",
    "plt.ylim(0, 15)"
   ]
  },
  {
   "cell_type": "markdown",
   "id": "faa34d2d",
   "metadata": {},
   "source": [
    "В заголовке отзыва так же есть отзывы которые выбиваются из общей массы. "
   ]
  },
  {
   "cell_type": "code",
   "execution_count": 28,
   "id": "9f988e8f",
   "metadata": {},
   "outputs": [],
   "source": [
    "title_length_175 = data_copy.loc[data_copy['title_length'] > 175]"
   ]
  },
  {
   "cell_type": "code",
   "execution_count": 29,
   "id": "7b9f4d75",
   "metadata": {},
   "outputs": [
    {
     "name": "stdout",
     "output_type": "stream",
     "text": [
      "Альфа Инвестиции не дают перевести заблокированные активы другому брокеру. Дали срок на подачу заявления до 2 января, а кнопка в личном кабинете «перевод заблокированных активов» так и не появилась.\n",
      "\n",
      "\n",
      "\n",
      "Спасибо тинкоф банк   Банк tinkoff он такой 1 в России  Хорошие люди и хорошие специалисты могут помочь в любую ситуацию в любой момент Дай Бог вам здоровья тем который работает в tinkoff банк\n",
      "\n",
      "\n",
      "\n",
      "С 29.12.22г. деньги клиента  зависли в ПАО «МТС-Банк» (ИНН 7702045051), т.к. платёж не прошёл через СПБ, а сотовый оператор ПАО «МТС» (ИНН 7740000076) перекрыл доступ в банк. приложение. Клиент лишился денег  на сумму 2540 руб. 35 коп..\n",
      "\n",
      "\n",
      "\n",
      "Альфа Инвестиции отказываются перевести заблокированные активы другому брокеру. Дали срок на подачу заявления до 2 января, а кнопка в личном кабинете «перевод заблокированных активов» так и не появилась. В отделении помочь отказываются.\n",
      "\n",
      "\n",
      "\n",
      "ООО «Международный Транспортный Сервис» благодарит и выражает глубокую признательность сотруднику Дополнительного офиса № 9013/0163 Сбербанка, расположенному по адресу: г. Воронеж, Бульвар Победы, д.22А, ВОЙТЕНКО МАРИИ ВЛАДИМИРОВНЕ.\n",
      "\n",
      "\n",
      "\n",
      "Собрались переложить свои деньги из правого кармана в левый? Легко и непринужденно, газпромбанк с радостью это сделает для вас. Комиссию 300+ процентов только будьте добры отслюнявить.\n",
      "\n",
      "\n",
      "\n",
      "250Далеко-далеко за словесными горами в стране гласных и согласных живут рыбные тексты. Вдали от всех живут они в буквенных домах на берегу Семантика большого языкового океана. Маленький ручеек Даль журчит по всей стране и обеспечивает ее всеми необх\n",
      "\n",
      "\n",
      "\n",
      "В отделении на улице Шухова, д.21 01 декабря 2022 г закрывали один из двух карточных счетов в банке, с годовой комиссией 1176 руб.Не выдали мой экземпляр заявления о закрытии счета,заблокировали мою учетную запись в ЛК.Нет доступа к данным второй карты.\n",
      "\n",
      "\n",
      "\n",
      "Являюсь клиентом банка уже более 5 лет. Использую много сервисов банка и стараюсь не упускать новые возможности, которые появляются у банка. Пока что другой альтернативы для себя не нашла и, если честно, искать пока не планирую.\n",
      "\n",
      "\n",
      "\n",
      "Довольна банком, при оформлении кредита всё сделали быстро, долго задавала вопросы в онлайн чате, на все получила ответы, постоянно пользуюсь  картой свобода,очень удобно, только хотелось бы рассрочку на более длительный срок,банк нравится,всё устраивает\n",
      "\n",
      "\n",
      "\n"
     ]
    }
   ],
   "source": [
    "for i in title_length_175['title']:\n",
    "    print(i, end='\\n'*4)"
   ]
  },
  {
   "cell_type": "markdown",
   "id": "e015b0b2",
   "metadata": {},
   "source": [
    "Исходя из вывода можно утверждать, что длинные заголовки так же имеют место быть и ничего аномального в них нет.\n",
    "\n",
    "Так же стоит обратить внимание на один из заголовков никак не связаным с отзывами на банк.\n",
    "\n",
    "Посмотрим на него подробнее."
   ]
  },
  {
   "cell_type": "code",
   "execution_count": 30,
   "id": "3211109b",
   "metadata": {},
   "outputs": [
    {
     "data": {
      "text/plain": [
       "body            250Далеко-далеко за словесными горами в стране...\n",
       "title           250Далеко-далеко за словесными горами в стране...\n",
       "rating                                                          5\n",
       "bank_name                                          Агропромкредит\n",
       "date                                          2022-12-27 00:00:00\n",
       "body_length                                                   304\n",
       "title_length                                                  250\n",
       "Name: 3162, dtype: object"
      ]
     },
     "execution_count": 30,
     "metadata": {},
     "output_type": "execute_result"
    }
   ],
   "source": [
    "title_length_175.iloc[6]"
   ]
  },
  {
   "cell_type": "code",
   "execution_count": 31,
   "id": "39ad7988",
   "metadata": {},
   "outputs": [
    {
     "data": {
      "text/plain": [
       "'250Далеко-далеко за словесными горами в стране гласных и согласных живут рыбные тексты. Вдали от всех живут они в буквенных домах на берегу Семантика большого языкового океана. Маленький ручеек Даль журчит по всей стране и обеспечивает ее всеми необх о оишишишишишиштштштщтщидтщтщтщтщтщтщтщотзтоизоиззоиг'"
      ]
     },
     "execution_count": 31,
     "metadata": {},
     "output_type": "execute_result"
    }
   ],
   "source": [
    "title_length_175.iloc[6]['body']"
   ]
  },
  {
   "cell_type": "markdown",
   "id": "c5c61a4e",
   "metadata": {},
   "source": [
    "Исходя из текста данного отзыва можно предположить, что он никак не относится к отзывам на банки и возможно сделан каким-то человеком намерено с целью повысить средний рейтинг банка \"Агропромкредит\" или же и вовсе ботом. Так же стоит отметить, что при обучении модели данный отзыв не нужен и поэтому было принято решение удалить его из общего набора данных. "
   ]
  },
  {
   "cell_type": "code",
   "execution_count": 32,
   "id": "95a1fc00",
   "metadata": {},
   "outputs": [
    {
     "data": {
      "text/html": [
       "<div>\n",
       "<style scoped>\n",
       "    .dataframe tbody tr th:only-of-type {\n",
       "        vertical-align: middle;\n",
       "    }\n",
       "\n",
       "    .dataframe tbody tr th {\n",
       "        vertical-align: top;\n",
       "    }\n",
       "\n",
       "    .dataframe thead th {\n",
       "        text-align: right;\n",
       "    }\n",
       "</style>\n",
       "<table border=\"1\" class=\"dataframe\">\n",
       "  <thead>\n",
       "    <tr style=\"text-align: right;\">\n",
       "      <th></th>\n",
       "      <th>body</th>\n",
       "      <th>title</th>\n",
       "      <th>rating</th>\n",
       "      <th>bank_name</th>\n",
       "      <th>date</th>\n",
       "    </tr>\n",
       "  </thead>\n",
       "  <tbody>\n",
       "    <tr>\n",
       "      <th>0</th>\n",
       "      <td>&amp;lt;p&amp;gt;Добрый день&amp;lt;/p&amp;gt;\\r\\n&amp;lt;p&amp;gt;пиш...</td>\n",
       "      <td>Заблокировали средства</td>\n",
       "      <td>1</td>\n",
       "      <td>Еком Банк</td>\n",
       "      <td>2023-01-03</td>\n",
       "    </tr>\n",
       "    <tr>\n",
       "      <th>1</th>\n",
       "      <td>&amp;lt;p&amp;gt;При возврате просроченной задолженнос...</td>\n",
       "      <td>Возврат просроченной задолженномти</td>\n",
       "      <td>1</td>\n",
       "      <td>Тинькофф Банк</td>\n",
       "      <td>2023-01-03</td>\n",
       "    </tr>\n",
       "    <tr>\n",
       "      <th>2</th>\n",
       "      <td>&amp;lt;p&amp;gt;07.09.22 ю была оформлена кредитная к...</td>\n",
       "      <td>Ошибочное начисление комиссии, затягивание про...</td>\n",
       "      <td>1</td>\n",
       "      <td>Банк Открытие</td>\n",
       "      <td>2023-01-03</td>\n",
       "    </tr>\n",
       "    <tr>\n",
       "      <th>3</th>\n",
       "      <td>&amp;lt;p&amp;gt;Новый год начинается с приятностей)&amp;l...</td>\n",
       "      <td>Клиентоориентиванность 10 из 10</td>\n",
       "      <td>5</td>\n",
       "      <td>Тинькофф Банк</td>\n",
       "      <td>2023-01-03</td>\n",
       "    </tr>\n",
       "    <tr>\n",
       "      <th>4</th>\n",
       "      <td>&amp;lt;p&amp;gt;Увидела на сайте Газпромбанка акцию с...</td>\n",
       "      <td>Как Газпромбанк обманывает клиентов с акционны...</td>\n",
       "      <td>1</td>\n",
       "      <td>Газпромбанк</td>\n",
       "      <td>2023-01-03</td>\n",
       "    </tr>\n",
       "    <tr>\n",
       "      <th>...</th>\n",
       "      <td>...</td>\n",
       "      <td>...</td>\n",
       "      <td>...</td>\n",
       "      <td>...</td>\n",
       "      <td>...</td>\n",
       "    </tr>\n",
       "    <tr>\n",
       "      <th>92730</th>\n",
       "      <td>30 августа обнаружила, что баланс уменьшился. ...</td>\n",
       "      <td>Банк списал деньги и теперь рекомендует их сам...</td>\n",
       "      <td>1</td>\n",
       "      <td>Совкомбанк</td>\n",
       "      <td>2022-09-02</td>\n",
       "    </tr>\n",
       "    <tr>\n",
       "      <th>92731</th>\n",
       "      <td>Обратился с вопросом (6908609) по All Airlines...</td>\n",
       "      <td>Отличная консультация от сотрудника поддержки</td>\n",
       "      <td>5</td>\n",
       "      <td>Тинькофф Банк</td>\n",
       "      <td>2022-09-02</td>\n",
       "    </tr>\n",
       "    <tr>\n",
       "      <th>92732</th>\n",
       "      <td>В августе 2021 я досрочно погасил ипотеку (кре...</td>\n",
       "      <td>Снятие обременения с квартиры</td>\n",
       "      <td>2</td>\n",
       "      <td>Россельхозбанк</td>\n",
       "      <td>2022-09-02</td>\n",
       "    </tr>\n",
       "    <tr>\n",
       "      <th>92733</th>\n",
       "      <td>9.08.22 оформлен кредит на покупку автомобиля ...</td>\n",
       "      <td>Штрафные санкции</td>\n",
       "      <td>1</td>\n",
       "      <td>Драйв Клик Банк</td>\n",
       "      <td>2022-09-02</td>\n",
       "    </tr>\n",
       "    <tr>\n",
       "      <th>92734</th>\n",
       "      <td>Хочется выразить благодарность всему коллектив...</td>\n",
       "      <td>Рекомендуемый мной банк</td>\n",
       "      <td>5</td>\n",
       "      <td>Точка</td>\n",
       "      <td>2022-09-02</td>\n",
       "    </tr>\n",
       "  </tbody>\n",
       "</table>\n",
       "<p>92481 rows × 5 columns</p>\n",
       "</div>"
      ],
      "text/plain": [
       "                                                    body  \\\n",
       "0      &lt;p&gt;Добрый день&lt;/p&gt;\\r\\n&lt;p&gt;пиш...   \n",
       "1      &lt;p&gt;При возврате просроченной задолженнос...   \n",
       "2      &lt;p&gt;07.09.22 ю была оформлена кредитная к...   \n",
       "3      &lt;p&gt;Новый год начинается с приятностей)&l...   \n",
       "4      &lt;p&gt;Увидела на сайте Газпромбанка акцию с...   \n",
       "...                                                  ...   \n",
       "92730  30 августа обнаружила, что баланс уменьшился. ...   \n",
       "92731  Обратился с вопросом (6908609) по All Airlines...   \n",
       "92732  В августе 2021 я досрочно погасил ипотеку (кре...   \n",
       "92733  9.08.22 оформлен кредит на покупку автомобиля ...   \n",
       "92734  Хочется выразить благодарность всему коллектив...   \n",
       "\n",
       "                                                   title  rating  \\\n",
       "0                                 Заблокировали средства       1   \n",
       "1                     Возврат просроченной задолженномти       1   \n",
       "2      Ошибочное начисление комиссии, затягивание про...       1   \n",
       "3                        Клиентоориентиванность 10 из 10       5   \n",
       "4      Как Газпромбанк обманывает клиентов с акционны...       1   \n",
       "...                                                  ...     ...   \n",
       "92730  Банк списал деньги и теперь рекомендует их сам...       1   \n",
       "92731      Отличная консультация от сотрудника поддержки       5   \n",
       "92732                      Снятие обременения с квартиры       2   \n",
       "92733                                   Штрафные санкции       1   \n",
       "92734                            Рекомендуемый мной банк       5   \n",
       "\n",
       "             bank_name       date  \n",
       "0            Еком Банк 2023-01-03  \n",
       "1        Тинькофф Банк 2023-01-03  \n",
       "2        Банк Открытие 2023-01-03  \n",
       "3        Тинькофф Банк 2023-01-03  \n",
       "4          Газпромбанк 2023-01-03  \n",
       "...                ...        ...  \n",
       "92730       Совкомбанк 2022-09-02  \n",
       "92731    Тинькофф Банк 2022-09-02  \n",
       "92732   Россельхозбанк 2022-09-02  \n",
       "92733  Драйв Клик Банк 2022-09-02  \n",
       "92734            Точка 2022-09-02  \n",
       "\n",
       "[92481 rows x 5 columns]"
      ]
     },
     "execution_count": 32,
     "metadata": {},
     "output_type": "execute_result"
    }
   ],
   "source": [
    "data.drop(index=3162)\n",
    "data"
   ]
  },
  {
   "cell_type": "markdown",
   "id": "da86ccc2",
   "metadata": {},
   "source": [
    "**Вывод:** Из результатов анализа следует, что медианное значение длины отзывов и заголовко составляет 441 и 22 слова соответственно, что можно считать стандартным показателем. Также следует отметить, что среднее значение длины не сильно отличается от медианного и составляет 534 слова для отзывов и 26 слов для заголовков."
   ]
  },
  {
   "cell_type": "markdown",
   "id": "b03a9ba6",
   "metadata": {},
   "source": [
    "**5. Нет ли в данных в целом каких-то странностей?** "
   ]
  },
  {
   "cell_type": "markdown",
   "id": "ee1a1b1c",
   "metadata": {},
   "source": [
    "Анализируя проведенный EDA, можно отметить, что некоторые отзывы содержат HTML-разметку, в то время как другие не имеют такого форматирования. Это, вероятно, связано с изменениями в форме заполнения отзывов, хранением данных на сервере или изменениями в методе парсинга данных в определенный момент времени. \n",
    "\n",
    "Также следует отметить, что в данных присутствуют аномальные отзывы, как, например, в строке номер 3162, который, вероятно, может быть сгенерирован с использованием бота. \n",
    "\n",
    "Наблюдаемые всплески на графике зависимости количества дубликатов от даты и общего количества дубликатов могут свидетельствовать о намеренном увеличении средней оценки банками в определенные периоды времени."
   ]
  },
  {
   "cell_type": "markdown",
   "id": "d3946866",
   "metadata": {},
   "source": [
    "**Вывод по пункту 3.** В ходе выполнения данного пункта мы провели EDA и оветили на поставленные вопросы. \n",
    "\n",
    "**1. Назвать топ-15 банков по числу отзывов.** Тинькофф Банк, Хоум Кредит Банк, Совкомбанк, ВТБ, СберБанк, Альфа-Банк, Россельхозбанк, Банк Открытие, МТС Банк, Модульбанк, Газпромбанк, Московский Кредитный Банк, Азиатско-Тихоокеанский Банк, Уральский Банк Реконструкции и Развития, Русский Стандарт. \n",
    "\n",
    "\n",
    "**2. Какой банк из числа топ-15 по количеству отзывов имеет самый высокий средний рейтинг?** Тинькофф Банк\n",
    "\n",
    "\n",
    "**3. Сделать выводы об изменении среднего рейтинга банков по месяцам из топ-5 банков по числу отзывов.**  В среднем у топ-5 банков заметна динамика изменения среднего рейтинга. Также большинство банков имееют спад в конце 2022 года и начале 2023. Это может свидетельствовать о том, что сотрудники банков в преддверии новогодних праздников могут быть менее продуктивными. Время обработки запросов в это время также способно увеличиваться, что может негативно сказываться на среднем рейтинге. Кроме того, большие расходы клиентов в новогодние праздники могут способствовать увеличению обращений в банки и более длительному рассмотрению каких-либо вопросов. \n",
    "\n",
    "\n",
    "**4. Дополнительный EDA.** Из результатов анализа следует, что медианное значение длины отзывов и заголовко составляет 441 и 22 слова соответственно, что можно считать стандартным показателем. Также следует отметить, что среднее значение длины не сильно отличается от медианного и составляет 534 слова для отзывов и 26 слов для заголовков.\n",
    "\n",
    "\n",
    "**5. Нет ли в данных в целом каких-то странностей?** Анализируя проведенный EDA, можно отметить, что некоторые отзывы содержат HTML-разметку, в то время как другие не имеют такого форматирования. Это, вероятно, связано с изменениями в форме заполнения отзывов, хранением данных на сервере или изменениями в методе парсинга данных в определенный момент времени. \n",
    "\n",
    "Также следует отметить, что в данных присутствуют аномальные отзывы, как, например, в строке номер 3162, который, вероятно, может быть сгенерирован с использованием бота. \n",
    "\n",
    "Наблюдаемые всплески на графике зависимости количества дубликатов от даты и общего количества дубликатов могут свидетельствовать о намеренном увеличении средней оценки банками в определенные периоды времени."
   ]
  },
  {
   "cell_type": "markdown",
   "id": "dd63288e",
   "metadata": {},
   "source": [
    "## Подготовка данных для обучения и выбор метрики"
   ]
  },
  {
   "cell_type": "markdown",
   "id": "a1c92e3d",
   "metadata": {},
   "source": [
    "В ходе выполнения данного пункта мы подготовим данные в корректный вид, чтобы модель могла их понимать. \n",
    "\n",
    "В ходе этого этапа будет произведана очистка текста от html разметки и лишних символов, избавление от стоп-слов, токенизация, лемматизация.\n",
    "\n",
    "Также будут удалены неинформативные признаки и выбрана метрика для обучения модели."
   ]
  },
  {
   "cell_type": "code",
   "execution_count": 33,
   "id": "464f7e8f",
   "metadata": {},
   "outputs": [
    {
     "data": {
      "text/html": [
       "<div>\n",
       "<style scoped>\n",
       "    .dataframe tbody tr th:only-of-type {\n",
       "        vertical-align: middle;\n",
       "    }\n",
       "\n",
       "    .dataframe tbody tr th {\n",
       "        vertical-align: top;\n",
       "    }\n",
       "\n",
       "    .dataframe thead th {\n",
       "        text-align: right;\n",
       "    }\n",
       "</style>\n",
       "<table border=\"1\" class=\"dataframe\">\n",
       "  <thead>\n",
       "    <tr style=\"text-align: right;\">\n",
       "      <th></th>\n",
       "      <th>body</th>\n",
       "      <th>title</th>\n",
       "      <th>rating</th>\n",
       "      <th>bank_name</th>\n",
       "      <th>date</th>\n",
       "    </tr>\n",
       "  </thead>\n",
       "  <tbody>\n",
       "    <tr>\n",
       "      <th>0</th>\n",
       "      <td>&amp;lt;p&amp;gt;Добрый день&amp;lt;/p&amp;gt;\\r\\n&amp;lt;p&amp;gt;пиш...</td>\n",
       "      <td>Заблокировали средства</td>\n",
       "      <td>1</td>\n",
       "      <td>Еком Банк</td>\n",
       "      <td>2023-01-03</td>\n",
       "    </tr>\n",
       "    <tr>\n",
       "      <th>1</th>\n",
       "      <td>&amp;lt;p&amp;gt;При возврате просроченной задолженнос...</td>\n",
       "      <td>Возврат просроченной задолженномти</td>\n",
       "      <td>1</td>\n",
       "      <td>Тинькофф Банк</td>\n",
       "      <td>2023-01-03</td>\n",
       "    </tr>\n",
       "    <tr>\n",
       "      <th>2</th>\n",
       "      <td>&amp;lt;p&amp;gt;07.09.22 ю была оформлена кредитная к...</td>\n",
       "      <td>Ошибочное начисление комиссии, затягивание про...</td>\n",
       "      <td>1</td>\n",
       "      <td>Банк Открытие</td>\n",
       "      <td>2023-01-03</td>\n",
       "    </tr>\n",
       "    <tr>\n",
       "      <th>3</th>\n",
       "      <td>&amp;lt;p&amp;gt;Новый год начинается с приятностей)&amp;l...</td>\n",
       "      <td>Клиентоориентиванность 10 из 10</td>\n",
       "      <td>5</td>\n",
       "      <td>Тинькофф Банк</td>\n",
       "      <td>2023-01-03</td>\n",
       "    </tr>\n",
       "    <tr>\n",
       "      <th>4</th>\n",
       "      <td>&amp;lt;p&amp;gt;Увидела на сайте Газпромбанка акцию с...</td>\n",
       "      <td>Как Газпромбанк обманывает клиентов с акционны...</td>\n",
       "      <td>1</td>\n",
       "      <td>Газпромбанк</td>\n",
       "      <td>2023-01-03</td>\n",
       "    </tr>\n",
       "  </tbody>\n",
       "</table>\n",
       "</div>"
      ],
      "text/plain": [
       "                                                body  \\\n",
       "0  &lt;p&gt;Добрый день&lt;/p&gt;\\r\\n&lt;p&gt;пиш...   \n",
       "1  &lt;p&gt;При возврате просроченной задолженнос...   \n",
       "2  &lt;p&gt;07.09.22 ю была оформлена кредитная к...   \n",
       "3  &lt;p&gt;Новый год начинается с приятностей)&l...   \n",
       "4  &lt;p&gt;Увидела на сайте Газпромбанка акцию с...   \n",
       "\n",
       "                                               title  rating      bank_name  \\\n",
       "0                             Заблокировали средства       1      Еком Банк   \n",
       "1                 Возврат просроченной задолженномти       1  Тинькофф Банк   \n",
       "2  Ошибочное начисление комиссии, затягивание про...       1  Банк Открытие   \n",
       "3                    Клиентоориентиванность 10 из 10       5  Тинькофф Банк   \n",
       "4  Как Газпромбанк обманывает клиентов с акционны...       1    Газпромбанк   \n",
       "\n",
       "        date  \n",
       "0 2023-01-03  \n",
       "1 2023-01-03  \n",
       "2 2023-01-03  \n",
       "3 2023-01-03  \n",
       "4 2023-01-03  "
      ]
     },
     "execution_count": 33,
     "metadata": {},
     "output_type": "execute_result"
    }
   ],
   "source": [
    "data.head()"
   ]
  },
  {
   "cell_type": "markdown",
   "id": "d733205a",
   "metadata": {},
   "source": [
    "Для начала отчистим наш текст `body` от лишних символов и стоп слов, произведем токенизацию текста и дальнейшую лемматизацию каждого отдельного токена."
   ]
  },
  {
   "cell_type": "code",
   "execution_count": 34,
   "id": "558c8b2e",
   "metadata": {},
   "outputs": [
    {
     "name": "stderr",
     "output_type": "stream",
     "text": [
      "[nltk_data] Downloading package stopwords to\n",
      "[nltk_data]     C:\\Users\\User\\AppData\\Roaming\\nltk_data...\n",
      "[nltk_data]   Package stopwords is already up-to-date!\n"
     ]
    }
   ],
   "source": [
    "nltk.download('stopwords')\n",
    "stop_words = set(nltk.corpus.stopwords.words('russian'))\n",
    "morph = pymorphy2.MorphAnalyzer()\n",
    "\n",
    "\n",
    "def clean_text(text):\n",
    "    \"\"\"\n",
    "    Функция для удаления из текста html разметки и лишних символов\n",
    "    param text: текст для очистки\n",
    "    type text: pd.Series \n",
    "    \"\"\"\n",
    "    text = unescape(text)\n",
    "    clean_text = re.sub(r'[^а-яА-Я\\s0-9.,:/-]', '', text)\n",
    "    clean_text = re.sub(r'<.*?>', '', text)\n",
    "    clean_text = clean_text.lower()\n",
    "    clean_text = re.sub(r'[\\r\\n\\t]', ' ', clean_text)\n",
    "    clean_text = re.sub(r'\\s+', ' ', clean_text).strip()\n",
    "    return clean_text\n",
    "\n",
    "def tokenize_and_remove_stopwords(text):\n",
    "    \"\"\"\n",
    "    Функция для токенезации текста и удаления стоп-слов\n",
    "    param text: текст для токенизации\n",
    "    type text: pd.Series \n",
    "    \"\"\"\n",
    "    tokens = word_tokenize(text)\n",
    "    tokens = [word for word in tokens if word not in stop_words]\n",
    "    return tokens\n",
    "\n",
    "def lemmatize_text(tokens):\n",
    "    \"\"\"\n",
    "    Функция для лемматизации текста\n",
    "    param text: список токенов для лемматизации\n",
    "    type text: pd.Series(list()) \n",
    "    \"\"\"\n",
    "    lemmatized_tokens = [morph.parse(token)[0].normal_form for token in tokens]\n",
    "    return lemmatized_tokens"
   ]
  },
  {
   "cell_type": "code",
   "execution_count": 35,
   "id": "b9c97d42",
   "metadata": {},
   "outputs": [
    {
     "data": {
      "application/vnd.jupyter.widget-view+json": {
       "model_id": "da3f61ac6c5940e78727b15e72bfdc08",
       "version_major": 2,
       "version_minor": 0
      },
      "text/plain": [
       "  0%|          | 0/92481 [00:00<?, ?it/s]"
      ]
     },
     "metadata": {},
     "output_type": "display_data"
    }
   ],
   "source": [
    "# Очистка текста от лишних символов\n",
    "data['text_body'] = data['body'].progress_apply(clean_text)"
   ]
  },
  {
   "cell_type": "code",
   "execution_count": 36,
   "id": "3cfaad16",
   "metadata": {},
   "outputs": [
    {
     "data": {
      "application/vnd.jupyter.widget-view+json": {
       "model_id": "4627120567a745d2817c9b7114a1d6bb",
       "version_major": 2,
       "version_minor": 0
      },
      "text/plain": [
       "  0%|          | 0/92481 [00:00<?, ?it/s]"
      ]
     },
     "metadata": {},
     "output_type": "display_data"
    }
   ],
   "source": [
    "# Токенизация и удаление стоп-слов\n",
    "data['text_body'] = data['text_body'].progress_apply(tokenize_and_remove_stopwords)"
   ]
  },
  {
   "cell_type": "code",
   "execution_count": 37,
   "id": "02af378e",
   "metadata": {},
   "outputs": [
    {
     "data": {
      "application/vnd.jupyter.widget-view+json": {
       "model_id": "eb3c30db34b540908a7edac4c05d004d",
       "version_major": 2,
       "version_minor": 0
      },
      "text/plain": [
       "  0%|          | 0/92481 [00:00<?, ?it/s]"
      ]
     },
     "metadata": {},
     "output_type": "display_data"
    }
   ],
   "source": [
    "# Лемматизация текста\n",
    "data['text_body'] = data['text_body'].progress_apply(lemmatize_text)"
   ]
  },
  {
   "cell_type": "markdown",
   "id": "8e365c8d",
   "metadata": {},
   "source": [
    "Также для дальнейшей векторизации текста мы соеденими лемматизированные токены обратно в полноценный текст."
   ]
  },
  {
   "cell_type": "code",
   "execution_count": 38,
   "id": "8311f5f1",
   "metadata": {},
   "outputs": [
    {
     "data": {
      "application/vnd.jupyter.widget-view+json": {
       "model_id": "c578725a4d54491aa6d072b4c6fbfac8",
       "version_major": 2,
       "version_minor": 0
      },
      "text/plain": [
       "  0%|          | 0/92481 [00:00<?, ?it/s]"
      ]
     },
     "metadata": {},
     "output_type": "display_data"
    }
   ],
   "source": [
    "# Объединение обработанных токенов в текст\n",
    "data['text_body'] = data['text_body'].progress_apply(lambda tokens: ' '.join(tokens))"
   ]
  },
  {
   "cell_type": "code",
   "execution_count": 39,
   "id": "8d934e1c",
   "metadata": {},
   "outputs": [
    {
     "data": {
      "text/html": [
       "<div>\n",
       "<style scoped>\n",
       "    .dataframe tbody tr th:only-of-type {\n",
       "        vertical-align: middle;\n",
       "    }\n",
       "\n",
       "    .dataframe tbody tr th {\n",
       "        vertical-align: top;\n",
       "    }\n",
       "\n",
       "    .dataframe thead th {\n",
       "        text-align: right;\n",
       "    }\n",
       "</style>\n",
       "<table border=\"1\" class=\"dataframe\">\n",
       "  <thead>\n",
       "    <tr style=\"text-align: right;\">\n",
       "      <th></th>\n",
       "      <th>body</th>\n",
       "      <th>title</th>\n",
       "      <th>rating</th>\n",
       "      <th>bank_name</th>\n",
       "      <th>date</th>\n",
       "      <th>text_body</th>\n",
       "    </tr>\n",
       "  </thead>\n",
       "  <tbody>\n",
       "    <tr>\n",
       "      <th>0</th>\n",
       "      <td>&amp;lt;p&amp;gt;Добрый день&amp;lt;/p&amp;gt;\\r\\n&amp;lt;p&amp;gt;пиш...</td>\n",
       "      <td>Заблокировали средства</td>\n",
       "      <td>1</td>\n",
       "      <td>Еком Банк</td>\n",
       "      <td>2023-01-03</td>\n",
       "      <td>добрый день писать сюда скорый разрешение вопр...</td>\n",
       "    </tr>\n",
       "    <tr>\n",
       "      <th>1</th>\n",
       "      <td>&amp;lt;p&amp;gt;При возврате просроченной задолженнос...</td>\n",
       "      <td>Возврат просроченной задолженномти</td>\n",
       "      <td>1</td>\n",
       "      <td>Тинькофф Банк</td>\n",
       "      <td>2023-01-03</td>\n",
       "      <td>возврат просрочить задолженность , банк звонит...</td>\n",
       "    </tr>\n",
       "    <tr>\n",
       "      <th>2</th>\n",
       "      <td>&amp;lt;p&amp;gt;07.09.22 ю была оформлена кредитная к...</td>\n",
       "      <td>Ошибочное начисление комиссии, затягивание про...</td>\n",
       "      <td>1</td>\n",
       "      <td>Банк Открытие</td>\n",
       "      <td>2023-01-03</td>\n",
       "      <td>07.09.22 ю оформить кредитный карта `` 120 ден...</td>\n",
       "    </tr>\n",
       "    <tr>\n",
       "      <th>3</th>\n",
       "      <td>&amp;lt;p&amp;gt;Новый год начинается с приятностей)&amp;l...</td>\n",
       "      <td>Клиентоориентиванность 10 из 10</td>\n",
       "      <td>5</td>\n",
       "      <td>Тинькофф Банк</td>\n",
       "      <td>2023-01-03</td>\n",
       "      <td>новый год начинаться приятность ) понимать чел...</td>\n",
       "    </tr>\n",
       "    <tr>\n",
       "      <th>4</th>\n",
       "      <td>&amp;lt;p&amp;gt;Увидела на сайте Газпромбанка акцию с...</td>\n",
       "      <td>Как Газпромбанк обманывает клиентов с акционны...</td>\n",
       "      <td>1</td>\n",
       "      <td>Газпромбанк</td>\n",
       "      <td>2023-01-03</td>\n",
       "      <td>увидеть сайт газпромбанк акция бонус кредитный...</td>\n",
       "    </tr>\n",
       "  </tbody>\n",
       "</table>\n",
       "</div>"
      ],
      "text/plain": [
       "                                                body  \\\n",
       "0  &lt;p&gt;Добрый день&lt;/p&gt;\\r\\n&lt;p&gt;пиш...   \n",
       "1  &lt;p&gt;При возврате просроченной задолженнос...   \n",
       "2  &lt;p&gt;07.09.22 ю была оформлена кредитная к...   \n",
       "3  &lt;p&gt;Новый год начинается с приятностей)&l...   \n",
       "4  &lt;p&gt;Увидела на сайте Газпромбанка акцию с...   \n",
       "\n",
       "                                               title  rating      bank_name  \\\n",
       "0                             Заблокировали средства       1      Еком Банк   \n",
       "1                 Возврат просроченной задолженномти       1  Тинькофф Банк   \n",
       "2  Ошибочное начисление комиссии, затягивание про...       1  Банк Открытие   \n",
       "3                    Клиентоориентиванность 10 из 10       5  Тинькофф Банк   \n",
       "4  Как Газпромбанк обманывает клиентов с акционны...       1    Газпромбанк   \n",
       "\n",
       "        date                                          text_body  \n",
       "0 2023-01-03  добрый день писать сюда скорый разрешение вопр...  \n",
       "1 2023-01-03  возврат просрочить задолженность , банк звонит...  \n",
       "2 2023-01-03  07.09.22 ю оформить кредитный карта `` 120 ден...  \n",
       "3 2023-01-03  новый год начинаться приятность ) понимать чел...  \n",
       "4 2023-01-03  увидеть сайт газпромбанк акция бонус кредитный...  "
      ]
     },
     "execution_count": 39,
     "metadata": {},
     "output_type": "execute_result"
    }
   ],
   "source": [
    "data.head()"
   ]
  },
  {
   "cell_type": "markdown",
   "id": "6a13f6bb",
   "metadata": {},
   "source": [
    "После очистки нашего текста необходимо создать целевой признак по условию. Где отзыв считается положительным если значение `rating` >= 3 и отрицательным если значение `rating` < 3."
   ]
  },
  {
   "cell_type": "code",
   "execution_count": 40,
   "id": "492fc750",
   "metadata": {},
   "outputs": [],
   "source": [
    "data['label'] = (data['rating'] >= 3).astype(int)"
   ]
  },
  {
   "cell_type": "markdown",
   "id": "348eb6e4",
   "metadata": {},
   "source": [
    "Поскольку наш классификатор будет обучени различать текст отзыва и на основе него принимать решение о принадлежности к определенному классу, мы решаем удалить все остальные столбца из нашей таблицы. Столбцы `bank_name` и `date` лишены смысловой нагрузки для модели. Поле `rating` было исключено, так как на его основе была создана целевая переменная, и при обучении модели решение вероятно будет сильно зависеть от значения данного столбца, что не является оптимальным для задачи классификации отзывов. Столбец `title` был также удален, поскольку, как правило, это поле несет тот же смысл, что и наш преобразованный текст, и может привести к избыточным признакам, усложнению модели и увеличению вычислительных затрат."
   ]
  },
  {
   "cell_type": "code",
   "execution_count": 41,
   "id": "587c9f0c",
   "metadata": {},
   "outputs": [],
   "source": [
    "# Создадим копию наших данных перед удалением столбцов\n",
    "data_before = data.copy()\n",
    "data = data.drop(['body', 'title', 'rating', 'bank_name', 'date'], axis=1)"
   ]
  },
  {
   "cell_type": "code",
   "execution_count": 42,
   "id": "52f87da5",
   "metadata": {},
   "outputs": [
    {
     "data": {
      "text/html": [
       "<div>\n",
       "<style scoped>\n",
       "    .dataframe tbody tr th:only-of-type {\n",
       "        vertical-align: middle;\n",
       "    }\n",
       "\n",
       "    .dataframe tbody tr th {\n",
       "        vertical-align: top;\n",
       "    }\n",
       "\n",
       "    .dataframe thead th {\n",
       "        text-align: right;\n",
       "    }\n",
       "</style>\n",
       "<table border=\"1\" class=\"dataframe\">\n",
       "  <thead>\n",
       "    <tr style=\"text-align: right;\">\n",
       "      <th></th>\n",
       "      <th>text_body</th>\n",
       "      <th>label</th>\n",
       "    </tr>\n",
       "  </thead>\n",
       "  <tbody>\n",
       "    <tr>\n",
       "      <th>0</th>\n",
       "      <td>добрый день писать сюда скорый разрешение вопр...</td>\n",
       "      <td>0</td>\n",
       "    </tr>\n",
       "    <tr>\n",
       "      <th>1</th>\n",
       "      <td>возврат просрочить задолженность , банк звонит...</td>\n",
       "      <td>0</td>\n",
       "    </tr>\n",
       "    <tr>\n",
       "      <th>2</th>\n",
       "      <td>07.09.22 ю оформить кредитный карта `` 120 ден...</td>\n",
       "      <td>0</td>\n",
       "    </tr>\n",
       "    <tr>\n",
       "      <th>3</th>\n",
       "      <td>новый год начинаться приятность ) понимать чел...</td>\n",
       "      <td>1</td>\n",
       "    </tr>\n",
       "    <tr>\n",
       "      <th>4</th>\n",
       "      <td>увидеть сайт газпромбанк акция бонус кредитный...</td>\n",
       "      <td>0</td>\n",
       "    </tr>\n",
       "  </tbody>\n",
       "</table>\n",
       "</div>"
      ],
      "text/plain": [
       "                                           text_body  label\n",
       "0  добрый день писать сюда скорый разрешение вопр...      0\n",
       "1  возврат просрочить задолженность , банк звонит...      0\n",
       "2  07.09.22 ю оформить кредитный карта `` 120 ден...      0\n",
       "3  новый год начинаться приятность ) понимать чел...      1\n",
       "4  увидеть сайт газпромбанк акция бонус кредитный...      0"
      ]
     },
     "execution_count": 42,
     "metadata": {},
     "output_type": "execute_result"
    }
   ],
   "source": [
    "data.head()"
   ]
  },
  {
   "cell_type": "markdown",
   "id": "a0044c97",
   "metadata": {},
   "source": [
    "Посмтроим баланс классов."
   ]
  },
  {
   "cell_type": "code",
   "execution_count": 43,
   "id": "73b62547",
   "metadata": {},
   "outputs": [
    {
     "data": {
      "image/png": "[encoded data removed]",
      "text/plain": [
       "<Figure size 1000x800 with 1 Axes>"
      ]
     },
     "metadata": {},
     "output_type": "display_data"
    }
   ],
   "source": [
    "value_counts = data['label'].value_counts()\n",
    "\n",
    "plt.figure(figsize=(10, 8))\n",
    "plt.pie(value_counts, \n",
    "        labels=['Положительный класс - \"1\"', 'Отрицательный класс - \"0\"'], \n",
    "        autopct='%1.2f%%', startangle=90, \n",
    "        colors=['green','lightgreen'],)\n",
    "plt.title('Распределение классов');"
   ]
  },
  {
   "cell_type": "markdown",
   "id": "482eaf83",
   "metadata": {},
   "source": [
    "**Выбор метрики:** Учитывая дисбаланс классов, где положительных классов (77,49%) значительно больше, чем отрицательных (22,51%), мы решаем использовать метрику F1. Эта метрика учитывает дисбаланс классов, в отличии, например, от метрики ROC-AUC, которая может давать завышенные результаты при дисбалансе классов."
   ]
  },
  {
   "cell_type": "markdown",
   "id": "cbcfe6e1",
   "metadata": {},
   "source": [
    "**Вывод:** В ходе выполнения данного пункта нами были предобработаны признаки для обучения модели. А именно: \n",
    "1. Текст был отчищен от лишних символов\n",
    "2. Текст был отчищен от стоп-слов и токенизирован\n",
    "3. Текст прошел лемматизацию каждого отдельного токена\n",
    "4. Текст был объеденен обратно \n",
    "\n",
    "Также были убраны все неинформативные признаки и оставлены только отзывы.  Была создана целевая переменная `label`, изучен дисбаланс классов и выбрана метрика F1, поскольку она является наиболее устойчивой к дисбалансу классов. "
   ]
  },
  {
   "cell_type": "markdown",
   "id": "4c5ce900",
   "metadata": {},
   "source": [
    "## Обучение модели"
   ]
  },
  {
   "cell_type": "markdown",
   "id": "7bf90458",
   "metadata": {},
   "source": [
    "### Обучение алгоритма опорных векторов (SVM)"
   ]
  },
  {
   "cell_type": "markdown",
   "id": "d5a1e759",
   "metadata": {},
   "source": [
    "Одним из часто используемых алгоритмов классификации является алгоритм SVM. Для его реализации воспользуемся уже готовым алгоритмом из библиотеки ***scikit-learn***. "
   ]
  },
  {
   "cell_type": "code",
   "execution_count": 44,
   "id": "75be2fcb",
   "metadata": {},
   "outputs": [],
   "source": [
    "# Разделение на выборки\n",
    "train_data, test_data = train_test_split(data, test_size=0.2, random_state=42)"
   ]
  },
  {
   "cell_type": "code",
   "execution_count": 45,
   "id": "f49b24be",
   "metadata": {},
   "outputs": [
    {
     "name": "stdout",
     "output_type": "stream",
     "text": [
      "F1-Score на отложенной выборке: 0.9817938984957121\n",
      "Report:\n",
      "               precision    recall  f1-score   support\n",
      "\n",
      "           0       0.93      0.95      0.94      4215\n",
      "           1       0.99      0.98      0.98     14282\n",
      "\n",
      "    accuracy                           0.97     18497\n",
      "   macro avg       0.96      0.96      0.96     18497\n",
      "weighted avg       0.97      0.97      0.97     18497\n",
      "\n",
      "Wall time: 21min 15s\n"
     ]
    }
   ],
   "source": [
    "%%time\n",
    "\n",
    "# Инициализация pipeline\n",
    "pipeline = Pipeline([\n",
    "    ('tfidf', TfidfVectorizer(max_features=1000)),\n",
    "    ('svc', SVC())\n",
    "])\n",
    "\n",
    "\n",
    "pipeline.fit(train_data['text_body'], train_data['label'])\n",
    "\n",
    "\n",
    "predictions = pipeline.predict(test_data['text_body'])\n",
    "\n",
    "# Нахождение F1-score\n",
    "f1 = f1_score(test_data['label'], predictions)\n",
    "report = classification_report(test_data['label'], predictions)\n",
    "\n",
    "print(f'F1-Score на отложенной выборке: {f1}')\n",
    "print('Report:\\n', report)"
   ]
  },
  {
   "cell_type": "markdown",
   "id": "16f9072a",
   "metadata": {},
   "source": [
    "Построим матрицу ошибок нашего классификатора"
   ]
  },
  {
   "cell_type": "code",
   "execution_count": 46,
   "id": "ff202a5b",
   "metadata": {},
   "outputs": [
    {
     "data": {
      "image/png": "[encoded data removed]",
      "text/plain": [
       "<Figure size 500x500 with 2 Axes>"
      ]
     },
     "metadata": {},
     "output_type": "display_data"
    }
   ],
   "source": [
    "# Построение матрицы ошибок\n",
    "conf_matrix_svm = confusion_matrix(test_data['label'], predictions)\n",
    "plt.figure(figsize=(5, 5))\n",
    "sns.heatmap(\n",
    "    conf_matrix_svm, annot=True, \n",
    "    fmt='d', cmap='coolwarm',\n",
    "    linewidths=3,\n",
    "    linecolor='black',\n",
    "    square=True\n",
    ")\n",
    "plt.xlabel('Predicted value')\n",
    "plt.ylabel('True value')\n",
    "plt.title('Матрица ошибок (Confusion Matrix)');"
   ]
  },
  {
   "cell_type": "code",
   "execution_count": 47,
   "id": "71fce3c7",
   "metadata": {},
   "outputs": [
    {
     "name": "stdout",
     "output_type": "stream",
     "text": [
      "Процент правильно предсказанных негативных отзывов - 95.18%\n"
     ]
    }
   ],
   "source": [
    "data_negativ_count = test_data[test_data['label'] == False].shape[0]\n",
    "predict_negativ_count = conf_matrix_svm[0][0]\n",
    "\n",
    "\n",
    "negative_predict_percent = '{:.2f}%'.format(predict_negativ_count / data_negativ_count * 100)\n",
    "print(f'Процент правильно предсказанных негативных отзывов - {negative_predict_percent}')"
   ]
  },
  {
   "cell_type": "markdown",
   "id": "23c81f07",
   "metadata": {},
   "source": [
    "Как мы видим recall нашей модели равняется 95 %, что является довольно хорошим показателем."
   ]
  },
  {
   "cell_type": "code",
   "execution_count": 48,
   "id": "150ad627",
   "metadata": {},
   "outputs": [
    {
     "data": {
      "image/png": "[encoded data removed]",
      "text/plain": [
       "<Figure size 600x600 with 1 Axes>"
      ]
     },
     "metadata": {},
     "output_type": "display_data"
    }
   ],
   "source": [
    "# Вероятности для построения roc-curve\n",
    "probas = pipeline.decision_function(test_data['text_body'])\n",
    "\n",
    "fpr, tpr, thresholds = roc_curve(test_data['label'], probas)\n",
    "roc_auc = roc_auc_score(test_data['label'], probas)\n",
    "\n",
    "# Построение ROC-кривой\n",
    "plt.figure(figsize=(6, 6))\n",
    "plt.plot(fpr, tpr, color='green',label=f'AUC = {roc_auc:.2f}')\n",
    "plt.plot([0, 1], lw=3, linestyle='dashed')\n",
    "plt.xlabel('FPR')\n",
    "plt.ylabel('TPR')\n",
    "plt.title('ROC Curve')\n",
    "plt.legend(loc='lower right');\n",
    "plt.grid();"
   ]
  },
  {
   "cell_type": "markdown",
   "id": "6c6086e5",
   "metadata": {},
   "source": [
    "**Вывод по результатам предсказания алгоритма SVM:** Метрика F1 для модели SVM в нашем эксперименте равна 0.982. Из полученной в резульате эксперимента матрицы ошибок видно, что модель правильно классифицирует 4012 (95,18%) негативных отзывов.\n",
    "\n",
    "Для более качественной классификации можно воспользоваться методами подбора гиперпараметров, которые предоставляет библиотека **scikit-learn**, например, GridSearchCV или RandomizedSearchCV. Такой подход может увеличить метрику и процент правильно классифицированных негативных отзывов (True Negative)"
   ]
  },
  {
   "cell_type": "markdown",
   "id": "5a1f64fe",
   "metadata": {},
   "source": [
    "### Нейросетевой подход"
   ]
  },
  {
   "cell_type": "markdown",
   "id": "5f9f7cd9",
   "metadata": {},
   "source": [
    "Для реализации данной задачи можно построить простую нейронную сеть представляющую собой многослойный персептрон. В нашем случае перспетрон будет содержать четыре полносвязных слоя и функцию активации ReLU после каждого из них. На выходе нашей модели будет использоваться функция активации Segmoid. В результате работы модели мы получим вероятности классов для каждого объекта в нашем датасете, и регулируя порог `treshold` получим итоговый класс (в первом эксперименте установим `treshold = 0.5`)"
   ]
  },
  {
   "cell_type": "code",
   "execution_count": 49,
   "id": "a6836750",
   "metadata": {},
   "outputs": [
    {
     "name": "stdout",
     "output_type": "stream",
     "text": [
      "F1-score на отложенной выборке: 0.9813034752297455\n",
      "Wall time: 10min 14s\n"
     ]
    }
   ],
   "source": [
    "%%time\n",
    "\n",
    "# Преобразование текстов в мешок слов\n",
    "max_features = 5000 # Может варироваться в зависимости от вичислительной мощности\n",
    "vectorizer = CountVectorizer(max_features=max_features)\n",
    "X_train = vectorizer.fit_transform(train_data['text_body'])\n",
    "X_test = vectorizer.transform(test_data['text_body'])\n",
    "\n",
    "\n",
    "class TextDataset(Dataset):\n",
    "    def __init__(self, X, y):\n",
    "        self.X = torch.tensor(X.toarray(), dtype=torch.float32)\n",
    "        self.y = torch.tensor(y.values, dtype=torch.float32)\n",
    "\n",
    "    def __len__(self):\n",
    "        return len(self.X)\n",
    "\n",
    "    def __getitem__(self, idx):\n",
    "        return self.X[idx], self.y[idx]\n",
    "\n",
    "train_dataset = TextDataset(X_train, train_data['label'])\n",
    "test_dataset = TextDataset(X_test, test_data['label'])\n",
    "\n",
    "train_loader = DataLoader(train_dataset, batch_size=64, shuffle=True)\n",
    "test_loader = DataLoader(test_dataset, batch_size=64, shuffle=False)\n",
    "\n",
    "# Архитектура нейросетевого алгоритма\n",
    "class MLP(nn.Module):\n",
    "    def __init__(self, input_size, hidden_size, output_size):\n",
    "        super(MLP, self).__init__()\n",
    "        self.fc1 = nn.Linear(input_size, hidden_size // 2)\n",
    "        self.relu1 = nn.ReLU()\n",
    "        self.fc2 = nn.Linear(hidden_size // 2, hidden_size // 4)\n",
    "        self.relu2 = nn.ReLU()\n",
    "        self.fc3 = nn.Linear(hidden_size // 4, hidden_size // 8)\n",
    "        self.relu3 = nn.ReLU()\n",
    "        self.fc4 = nn.Linear(hidden_size // 8, output_size)\n",
    "        self.sigmoid = nn.Sigmoid()\n",
    "\n",
    "    def forward(self, x):\n",
    "        x = self.fc1(x)\n",
    "        x = self.relu1(x)\n",
    "        x = self.fc2(x)\n",
    "        x = self.relu2(x)\n",
    "        x = self.fc3(x)\n",
    "        x = self.relu3(x)\n",
    "        x = self.fc4(x)\n",
    "        x = self.sigmoid(x)\n",
    "        return x\n",
    "\n",
    "# Инициализация модели, лосс-функции, оптимизатора\n",
    "model = MLP(input_size=X_train.shape[1], hidden_size=2048, output_size=1)\n",
    "criterion = nn.BCELoss()\n",
    "optimizer = optim.Adam(model.parameters(), lr=0.001)\n",
    "\n",
    "# Обучение модели\n",
    "num_epochs = 10\n",
    "for epoch in range(num_epochs):\n",
    "    model.train()\n",
    "    for inputs, labels in train_loader:\n",
    "        optimizer.zero_grad()\n",
    "        outputs = model(inputs)\n",
    "        loss = criterion(outputs, labels.view(-1, 1))\n",
    "        loss.backward()\n",
    "        optimizer.step()\n",
    "\n",
    "# Проверка модели на отложенной выборке\n",
    "model.eval()\n",
    "with torch.no_grad():\n",
    "    predictions = []\n",
    "    true_labels = []\n",
    "    for inputs, labels in test_loader:\n",
    "        outputs = model(inputs)\n",
    "        predictions.extend(outputs.numpy())\n",
    "        true_labels.extend(labels.numpy())\n",
    "\n",
    "# Вычисление F1-score\n",
    "threshold = 0.5\n",
    "binary_prediction_50 = [1 if pred > threshold else 0 for pred in predictions]\n",
    "f1 = f1_score(true_labels, binary_prediction_50)\n",
    "\n",
    "print(f'F1-score на отложенной выборке: {f1}')"
   ]
  },
  {
   "cell_type": "code",
   "execution_count": 50,
   "id": "7c03345d",
   "metadata": {},
   "outputs": [
    {
     "data": {
      "text/plain": [
       "Text(0.5, 1.0, 'Матрица ошибок (Confusion Matrix)')"
      ]
     },
     "execution_count": 50,
     "metadata": {},
     "output_type": "execute_result"
    },
    {
     "data": {
      "image/png": "[encoded data removed]",
      "text/plain": [
       "<Figure size 500x500 with 2 Axes>"
      ]
     },
     "metadata": {},
     "output_type": "display_data"
    }
   ],
   "source": [
    "# Построение матрицы ошибок\n",
    "plt.figure(figsize=(5, 5))\n",
    "conf_matrix_nn = confusion_matrix(true_labels, binary_prediction_50)\n",
    "sns.heatmap(\n",
    "    conf_matrix_nn, annot=True, \n",
    "    linecolor='black', cmap='coolwarm', \n",
    "    linewidths=3, square=True, fmt='d'\n",
    ")\n",
    "plt.xlabel('Predicted')\n",
    "plt.ylabel('True')\n",
    "plt.title('Матрица ошибок (Confusion Matrix)')"
   ]
  },
  {
   "cell_type": "code",
   "execution_count": 51,
   "id": "daed4e1d",
   "metadata": {},
   "outputs": [
    {
     "name": "stdout",
     "output_type": "stream",
     "text": [
      "Процент правильно предсказанных негативных отзывов - 95.63%\n"
     ]
    }
   ],
   "source": [
    "predict_negativ_count = conf_matrix_nn[0][0]\n",
    "\n",
    "negative_predict_percent = '{:.2f}%'.format(predict_negativ_count / data_negativ_count * 100)\n",
    "print(f'Процент правильно предсказанных негативных отзывов - {negative_predict_percent}')"
   ]
  },
  {
   "cell_type": "markdown",
   "id": "8e319424",
   "metadata": {},
   "source": [
    "Нейросетевой подход с реализацией многослойного персептрона при использовании фреймворка PyTorch продемонстрировал значение метрики F1 ниже (F1 = 0.98), чем решение с использованием метода опорных векторов (SVM). Однако стоит отметить, что при таком же значении порога (`treshold = 0.5`) удалось достигнуть больше правильно классифицированных негативных отзывов, равное 4056 (~96%) отзывам.\n",
    "\n",
    "Примечательно, что данная реализация обладает гибкостью, позволяющей вручную настраивать порог `treshold` в соответствии с требованиями заказчика. Если задаче является поиск макисмального числа негативных отзывов, мы можем увеличить установленный порог, например, до 0.85, что немного улучшит значение Recall."
   ]
  },
  {
   "cell_type": "code",
   "execution_count": 52,
   "id": "fca527df",
   "metadata": {},
   "outputs": [
    {
     "data": {
      "image/png": "[encoded data removed]",
      "text/plain": [
       "<Figure size 600x600 with 1 Axes>"
      ]
     },
     "metadata": {},
     "output_type": "display_data"
    }
   ],
   "source": [
    "fpr, tpr, thresholds = roc_curve(true_labels, predictions)\n",
    "roc_auc = roc_auc_score(true_labels, predictions)\n",
    "\n",
    "# Построение ROC-кривой\n",
    "plt.figure(figsize=(6, 6))\n",
    "plt.plot(fpr, tpr, color='green',label=f'AUC = {roc_auc:.2f}')\n",
    "plt.plot([0, 1], lw=3, linestyle='dashed')\n",
    "plt.xlabel('FPR')\n",
    "plt.ylabel('TPR')\n",
    "plt.title('ROC Curve')\n",
    "plt.legend(loc='lower right')\n",
    "plt.grid();"
   ]
  },
  {
   "cell_type": "markdown",
   "id": "cc0d338c",
   "metadata": {},
   "source": [
    "Мы можем изменить значение `treshold`, устанавливая более строгие требования к предсказанию положительного класса и увеличив количество предсказанных негативных классов, включая и величины TN, и величины FN. Увеличение TN является положительным аспектом, однако увеличение FN может вызвать необходимость дополнительной проверки положительных комментариев, классифицированных как отрицательные. В данном случае FN также приводит к пропуску меньшего количества отрицательных комментариев. Установим `treshold = 0.85` и проверим резульаты работы модели."
   ]
  },
  {
   "cell_type": "code",
   "execution_count": 53,
   "id": "16dc4760",
   "metadata": {},
   "outputs": [
    {
     "name": "stdout",
     "output_type": "stream",
     "text": [
      "F1-score на отложенной выборке: 0.9811467306877559\n"
     ]
    }
   ],
   "source": [
    "threshold = 0.85\n",
    "binary_prediction_85 = [1 if pred > threshold else 0 for pred in predictions]\n",
    "f1 = f1_score(true_labels, binary_prediction_85)\n",
    "print(f'F1-score на отложенной выборке: {f1}')"
   ]
  },
  {
   "cell_type": "code",
   "execution_count": 54,
   "id": "d6487408",
   "metadata": {},
   "outputs": [
    {
     "data": {
      "text/plain": [
       "Text(0.5, 1.0, 'Матрица ошибок (Confusion Matrix)')"
      ]
     },
     "execution_count": 54,
     "metadata": {},
     "output_type": "execute_result"
    },
    {
     "data": {
      "image/png": "[encoded data removed]",
      "text/plain": [
       "<Figure size 500x500 with 2 Axes>"
      ]
     },
     "metadata": {},
     "output_type": "display_data"
    }
   ],
   "source": [
    "# Построение матрицы ошибок\n",
    "plt.figure(figsize=(5, 5))\n",
    "conf_matrix_nn2 = confusion_matrix(true_labels, binary_prediction_85)\n",
    "sns.heatmap(\n",
    "    conf_matrix_nn2, annot=True, \n",
    "    linecolor='black', cmap='coolwarm', \n",
    "    linewidths=3, square=True, fmt='d'\n",
    ")\n",
    "plt.xlabel('Predicted')\n",
    "plt.ylabel('True')\n",
    "plt.title('Матрица ошибок (Confusion Matrix)')"
   ]
  },
  {
   "cell_type": "code",
   "execution_count": 55,
   "id": "f4646a99",
   "metadata": {},
   "outputs": [
    {
     "name": "stdout",
     "output_type": "stream",
     "text": [
      "Процент правильно предсказанных негативных отзывов - 96.51%\n"
     ]
    }
   ],
   "source": [
    "predict_negativ_count = conf_matrix_nn2[0][0]\n",
    "\n",
    "negative_predict_percent = '{:.2f}%'.format(predict_negativ_count / data_negativ_count * 100)\n",
    "print(f'Процент правильно предсказанных негативных отзывов - {negative_predict_percent}')"
   ]
  },
  {
   "cell_type": "markdown",
   "id": "089ab2bd",
   "metadata": {},
   "source": [
    "В результате увеличения порога значение метрики F1 уменьшилось до 0.979 единиц, но при этом нам удалось достигнуть 4098 (~97%) правильно классифицированных негативных отзывов, что не смотря на уменьшение метрики является отличным результатом.\n",
    "\n",
    "Важно отметить, что при таком подходе мы увеличили кол-во неправильно классифицированных негативных отзывов на 73."
   ]
  },
  {
   "cell_type": "markdown",
   "id": "fe9942d1",
   "metadata": {},
   "source": [
    "**Вывод по работе нейросетевого алгоритма:** В результате реализации многослойного персептрона нам удалось добиться метрики F1 ~ 0.98. При этом процент правильно классифицированных отзывов стал на ~2% (при `treshold = 0.85`) больше по сравнению с решением методом опорных векторов. "
   ]
  },
  {
   "cell_type": "markdown",
   "id": "e772b906",
   "metadata": {},
   "source": [
    "Сохраним готовую модель в файл."
   ]
  },
  {
   "cell_type": "code",
   "execution_count": 56,
   "id": "24c38cbd",
   "metadata": {},
   "outputs": [
    {
     "name": "stdout",
     "output_type": "stream",
     "text": [
      "Model saved at: pytroch_model.pth\n"
     ]
    }
   ],
   "source": [
    "model_path = 'pytroch_model.pth'\n",
    "\n",
    "torch.save(model.state_dict(), model_path)\n",
    "\n",
    "print(f'Model saved at: {model_path}')"
   ]
  },
  {
   "cell_type": "code",
   "execution_count": 57,
   "id": "35554f5a",
   "metadata": {},
   "outputs": [
    {
     "name": "stdout",
     "output_type": "stream",
     "text": [
      "----------------------------------------------------------------\n",
      "        Layer (type)               Output Shape         Param #\n",
      "================================================================\n",
      "            Linear-1                 [-1, 1024]       5,121,024\n",
      "              ReLU-2                 [-1, 1024]               0\n",
      "            Linear-3                  [-1, 512]         524,800\n",
      "              ReLU-4                  [-1, 512]               0\n",
      "            Linear-5                  [-1, 256]         131,328\n",
      "              ReLU-6                  [-1, 256]               0\n",
      "            Linear-7                    [-1, 1]             257\n",
      "           Sigmoid-8                    [-1, 1]               0\n",
      "================================================================\n",
      "Total params: 5,777,409\n",
      "Trainable params: 5,777,409\n",
      "Non-trainable params: 0\n",
      "----------------------------------------------------------------\n",
      "Input size (MB): 0.02\n",
      "Forward/backward pass size (MB): 0.03\n",
      "Params size (MB): 22.04\n",
      "Estimated Total Size (MB): 22.09\n",
      "----------------------------------------------------------------\n",
      "None\n"
     ]
    }
   ],
   "source": [
    "model.load_state_dict(torch.load('pytroch_model.pth'))\n",
    "print(summary(model, input_size=(X_train.shape[1],)))"
   ]
  },
  {
   "cell_type": "markdown",
   "id": "7df0db59",
   "metadata": {},
   "source": [
    "**Вывод по пункту 5:** В ходе выполнения данного пункта нами были реализованы два подхода: ***нейросетевой*** и ***метод опорных векторов***. Опишем плюсы и минусы каждого из них.\n",
    "\n",
    "**Метод опорных векторов (SVM).** \n",
    "\n",
    "С помощью данной реализации нам удалось достичь метрики F1 равной 0.981 и 95% правильно классифицированных отзывов.\n",
    "\n",
    "\n",
    "\n",
    "**Достоинства:**\n",
    "\n",
    "\n",
    "1. Требует меньше вычислительных ресурсов\n",
    "2. Более интерпретируемый\n",
    "3. Простота реализации\n",
    "\n",
    "\n",
    "**Недостатки:**\n",
    "\n",
    "\n",
    "1. Скорость работы модели\n",
    "2. Данный подход менее приспособлен для использования в продакшен в отличии от реализации на PyTorch\n",
    "3. При увеличении объема выборки скорость работы данного метода слишком сильно увеличивается.\n",
    "4. Ограниченные возможности гибкого подбора порога `treshold`, так как на выходе получается конкретный класс."
   ]
  },
  {
   "cell_type": "markdown",
   "id": "a43ad187",
   "metadata": {},
   "source": [
    "**Нейросетевой подход (многослойный персептрон).**\n",
    "\n",
    "С помощью данной реализации нам удалось достичь метрики F1 ~ 0.98 и 97% правильно классифицированных отзывов (при `treshold = 0.85`).\n",
    "\n",
    "**Достоинства:**\n",
    "\n",
    "1. Способность обрабатывать большие объемы данных\n",
    "2. Скорость работы \n",
    "3. Возможность использования в продакшене\n",
    "4. Возможность более гибко настраивать порог `treshold`, так как на выходе модели мы получаем вероятности классов\n",
    "\n",
    "\n",
    "**Недостатки:**\n",
    "\n",
    "1. Сложность реализации\n",
    "2. Сложность интерпретации работы модели и ответа на вопрос почему именно этот класс был выбран моделью\n",
    "3. При увеличении количества признаков может потребоваться работа с графическим процессором (GPU)"
   ]
  },
  {
   "cell_type": "markdown",
   "id": "168fc554",
   "metadata": {},
   "source": [
    "## Отчет о проделанной работе"
   ]
  },
  {
   "cell_type": "markdown",
   "id": "ac70210d",
   "metadata": {},
   "source": [
    "### Этапы выполнения"
   ]
  },
  {
   "cell_type": "markdown",
   "id": "0aa90cd7",
   "metadata": {},
   "source": [
    "В ходе выполнения работы мы проделали следующие шаги.\n",
    "\n",
    "\n",
    "**1. Загрузили и изучили данные.** В наших данных имелось 92735 строки и 5 столбцов.\n",
    "\n",
    "**2. Предобработали данные.** В результате выполнения данного этапа был изменени тип данных в поле `date`, убедились в отсутствии пропусков и аномалий. Обнаружено 254 дубликата и проведен анализ причин их возникновения. Найденые дубликаты были удалены.\n",
    "\n",
    "**3. Проделали EDA.** Мы выполнили более детальный анализ данных и ответили на поставленные вопросы. Была удалена еще одна строка с номером 3162.\n",
    "\n",
    "\n",
    "**4. Подготовка данных для обучения.** Полученные отзывы были отчищены от лишних символов и html разметки. Проведена токенизация текста и лемматизация получившихся токенов. В результате выполнения пункта мы получили лемматизированные и отчищенные текста отзывов, которые можно использовать для обучения модели. Выбрана метрика F1.\n",
    "\n",
    "\n",
    "**5. Обучение модели.** Были рассмотрены два подхода (SVM и MLP). Как наиболее подходящие решение было выбрано использование модели PyTorch с метрикой F1 ~ 0.98 и выбранным `treshold = 0.85`. Данная модель была обучена, протестирована на отложенной выборке и загружена в файл `pytorch_model.pth`."
   ]
  },
  {
   "cell_type": "markdown",
   "id": "0c071328",
   "metadata": {},
   "source": [
    "### Анализ признаков"
   ]
  },
  {
   "cell_type": "markdown",
   "id": "367ed03f",
   "metadata": {},
   "source": [
    "Для повышения качества классификации отзывов можно расммотреть следующие улучшения на этапе сбора данных. Добавление этапа по поиску и исключению искусственно сгенерированных отзывов, направленных на увеличение средней оценки, может значительно улучшить обучение, так как такие данные могут негативно сказаться на ее эффективности.\n",
    "\n",
    "Также можно рассмотреть вариант изменения подхода при создании целевой переменной. Пятибальная система не всегда отражает объективную оценку человека. Например, оценка \"3\" не всегда соответствует положительному отзыву."
   ]
  },
  {
   "cell_type": "markdown",
   "id": "6934cc01",
   "metadata": {},
   "source": [
    "### Использование модели"
   ]
  },
  {
   "cell_type": "markdown",
   "id": "fe397590",
   "metadata": {},
   "source": [
    "Для более эффективного использования модели рекомендуется увеличть объем данных для обучения. Это позволит модели лучше улавливать контекст отзывов и выявлять более глубоки взаимосвязи, что сделает ее более точной в задачи классификации.\n",
    "\n",
    "В контексте использования модели для улучшения сервисов банка, можно рассмотреть возможность перехода к задаче регрессии. Можно предсказывать вероятности классов и рассматривать отзывы начиная с выосокой вероятности (~90%), и постепенно опускаясь изучать отзывы с вероятностью 70-80 % и так далее.\n",
    "\n",
    "Применение SHAP features importance также может быть полезным. Эта техника позволит более точно оценить, какие признаки оказывают влияние на прогнозы модели.\n",
    "\n",
    "Также с помощью данного подхода можно не только решать задачу классификации отзывов, но и адаптировать ее для многоклассовой классификации. Например, более точно определять в аспектах клиент выразил недовольство (онлайн услуги, консультации, кредитные услуги и т.д.)"
   ]
  }
 ],
 "metadata": {
  "kernelspec": {
   "display_name": "Python (CUDA)",
   "language": "python",
   "name": "cuda"
  },
  "language_info": {
   "codemirror_mode": {
    "name": "ipython",
    "version": 3
   },
   "file_extension": ".py",
   "mimetype": "text/x-python",
   "name": "python",
   "nbconvert_exporter": "python",
   "pygments_lexer": "ipython3",
   "version": "3.9.13"
  },
  "toc": {
   "base_numbering": 1,
   "nav_menu": {},
   "number_sections": true,
   "sideBar": true,
   "skip_h1_title": true,
   "title_cell": "Table of Contents",
   "title_sidebar": "Contents",
   "toc_cell": true,
   "toc_position": {},
   "toc_section_display": true,
   "toc_window_display": false
  }
 },
 "nbformat": 4,
 "nbformat_minor": 5
}
